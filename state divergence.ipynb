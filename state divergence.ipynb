{
 "cells": [
  {
   "cell_type": "code",
   "execution_count": 120,
   "metadata": {},
   "outputs": [],
   "source": [
    "import datetime\n",
    "import random\n",
    "\n",
    "import polars as pl\n",
    "import plotly.express as px"
   ]
  },
  {
   "cell_type": "code",
   "execution_count": 161,
   "metadata": {},
   "outputs": [],
   "source": [
    "def convert_modeldate_to_date(df: pl.DataFrame, col: str = \"modeldate\") -> pl.DataFrame:\n",
    "    return df.with_columns(\n",
    "        pl.col(col).str.split_exact(\"/\", 2).struct.rename_fields([\"month\", \"day\", \"year\"]).alias(\"date_parts\")\n",
    "    ).with_columns(\n",
    "        pl.concat_str(\n",
    "            pl.lit(\"2024\"),\n",
    "            pl.col(\"date_parts\").struct.field(\"month\").str.pad_start(2, \"0\"),\n",
    "            pl.col(\"date_parts\").struct.field(\"day\").str.pad_start(2, \"0\"),\n",
    "            separator=\"-\",\n",
    "        ).str.to_date(r\"%Y-%m-%d\").alias(col)\n",
    "    ).drop(\"date_parts\")"
   ]
  },
  {
   "cell_type": "code",
   "execution_count": 153,
   "metadata": {},
   "outputs": [
    {
     "data": {
      "text/html": [
       "<div><style>\n",
       ".dataframe > thead > tr,\n",
       ".dataframe > tbody > tr {\n",
       "  text-align: right;\n",
       "  white-space: pre-wrap;\n",
       "}\n",
       "</style>\n",
       "<small>shape: (5_600, 32)</small><table border=\"1\" class=\"dataframe\"><thead><tr><th>modeldate</th><th>candidate_inc</th><th>candidate_chal</th><th>candidate_3rd</th><th>state</th><th>tipping</th><th>vpi</th><th>winstate_inc</th><th>winstate_chal</th><th>winstate_3rd</th><th>voteshare_inc</th><th>voteshare_chal</th><th>voteshare_3rd</th><th>voteshare_other</th><th>voteshare_inc_hi</th><th>voteshare_chal_hi</th><th>voteshare_3rd_hi</th><th>voteshare_other_hi</th><th>voteshare_inc_lo</th><th>voteshare_chal_lo</th><th>voteshare_3rd_lo</th><th>voteshare_other_lo</th><th>margin</th><th>margin_hi</th><th>margin_lo</th><th>win_ec_if_win_state_inc</th><th>win_ec_if_win_state_chal</th><th>win_state_if_win_ec_inc</th><th>win_state_if_win_ec_chal</th><th>state_turnout</th><th>state_turnout_hi</th><th>state_turnout_lo</th></tr><tr><td>date</td><td>str</td><td>str</td><td>str</td><td>str</td><td>f64</td><td>f64</td><td>f64</td><td>f64</td><td>f64</td><td>f64</td><td>f64</td><td>f64</td><td>f64</td><td>f64</td><td>f64</td><td>f64</td><td>f64</td><td>f64</td><td>f64</td><td>f64</td><td>f64</td><td>f64</td><td>f64</td><td>f64</td><td>f64</td><td>f64</td><td>f64</td><td>f64</td><td>i64</td><td>i64</td><td>i64</td></tr></thead><tbody><tr><td>2024-07-29</td><td>&quot;Harris&quot;</td><td>&quot;Trump&quot;</td><td>&quot;Kennedy&quot;</td><td>&quot;Alabama&quot;</td><td>0.00045</td><td>0.031036</td><td>0.005025</td><td>0.993775</td><td>0.0012</td><td>33.84494</td><td>61.96524</td><td>3.322867</td><td>0.86696</td><td>39.925079</td><td>68.558296</td><td>8.50839</td><td>1.684567</td><td>27.75782</td><td>55.107841</td><td>0.141859</td><td>0.245088</td><td>-28.1203</td><td>-16.48624</td><td>-39.720169</td><td>0.865672</td><td>0.625393</td><td>0.011702</td><td>0.998273</td><td>2105602</td><td>2307568</td><td>1908547</td></tr><tr><td>2024-07-29</td><td>&quot;Harris&quot;</td><td>&quot;Trump&quot;</td><td>&quot;Kennedy&quot;</td><td>&quot;Alaska&quot;</td><td>0.002163</td><td>0.972386</td><td>0.16275</td><td>0.82445</td><td>0.0128</td><td>39.092072</td><td>53.119499</td><td>5.483664</td><td>2.304762</td><td>49.434879</td><td>63.874722</td><td>13.94918</td><td>4.40118</td><td>28.626551</td><td>41.900421</td><td>0.238457</td><td>0.698577</td><td>-14.02743</td><td>4.914183</td><td>-32.971489</td><td>0.697081</td><td>0.687428</td><td>0.305199</td><td>0.910332</td><td>321775</td><td>350954</td><td>293139</td></tr><tr><td>2024-07-29</td><td>&quot;Harris&quot;</td><td>&quot;Trump&quot;</td><td>&quot;Kennedy&quot;</td><td>&quot;Arizona&quot;</td><td>0.03975</td><td>1.770612</td><td>0.243725</td><td>0.756225</td><td>0.00005</td><td>45.644039</td><td>50.611881</td><td>2.249342</td><td>1.494744</td><td>50.620201</td><td>55.63657</td><td>6.265196</td><td>2.842846</td><td>40.641079</td><td>45.5224</td><td>0.0</td><td>0.432838</td><td>-4.967846</td><td>4.262665</td><td>-14.23797</td><td>0.962868</td><td>0.812457</td><td>0.631313</td><td>0.986869</td><td>3241968</td><td>3523168</td><td>2963302</td></tr><tr><td>2024-07-29</td><td>&quot;Harris&quot;</td><td>&quot;Trump&quot;</td><td>&quot;Kennedy&quot;</td><td>&quot;Arkansas&quot;</td><td>0.000137</td><td>0.018698</td><td>0.004</td><td>0.99355</td><td>0.00245</td><td>32.008751</td><td>62.10326</td><td>4.269988</td><td>1.618003</td><td>38.454151</td><td>69.33139</td><td>10.72017</td><td>3.094144</td><td>25.545059</td><td>54.42057</td><td>0.201923</td><td>0.481643</td><td>-30.0945</td><td>-17.831989</td><td>-42.31852</td><td>0.8875</td><td>0.624981</td><td>0.00955</td><td>0.99739</td><td>1109428</td><td>1217163</td><td>1002799</td></tr><tr><td>2024-07-29</td><td>&quot;Harris&quot;</td><td>&quot;Trump&quot;</td><td>&quot;Kennedy&quot;</td><td>&quot;California&quot;</td><td>0.000575</td><td>0.005329</td><td>0.99495</td><td>0.00365</td><td>0.0014</td><td>59.913139</td><td>34.079079</td><td>4.469375</td><td>1.538404</td><td>66.435867</td><td>39.97686</td><td>10.44721</td><td>2.84859</td><td>53.12508</td><td>28.206051</td><td>0.289167</td><td>0.500484</td><td>25.83407</td><td>36.740089</td><td>14.8892</td><td>0.373361</td><td>0.965753</td><td>0.999327</td><td>0.005662</td><td>15609755</td><td>17081524</td><td>14168762</td></tr><tr><td>&hellip;</td><td>&hellip;</td><td>&hellip;</td><td>&hellip;</td><td>&hellip;</td><td>&hellip;</td><td>&hellip;</td><td>&hellip;</td><td>&hellip;</td><td>&hellip;</td><td>&hellip;</td><td>&hellip;</td><td>&hellip;</td><td>&hellip;</td><td>&hellip;</td><td>&hellip;</td><td>&hellip;</td><td>&hellip;</td><td>&hellip;</td><td>&hellip;</td><td>&hellip;</td><td>&hellip;</td><td>&hellip;</td><td>&hellip;</td><td>&hellip;</td><td>&hellip;</td><td>&hellip;</td><td>&hellip;</td><td>&hellip;</td><td>&hellip;</td><td>&hellip;</td><td>&hellip;</td></tr><tr><td>2024-11-04</td><td>&quot;Harris&quot;</td><td>&quot;Trump&quot;</td><td>null</td><td>&quot;Virginia&quot;</td><td>0.0067</td><td>0.238091</td><td>0.93895</td><td>0.06105</td><td>null</td><td>52.587502</td><td>46.312618</td><td>null</td><td>1.099874</td><td>55.187321</td><td>48.9137</td><td>null</td><td>2.019382</td><td>49.980068</td><td>43.714741</td><td>null</td><td>0.374822</td><td>6.274879</td><td>11.39111</td><td>1.176607</td><td>0.522605</td><td>0.977477</td><td>0.997358</td><td>0.11845</td><td>4389741</td><td>4773191</td><td>4014911</td></tr><tr><td>2024-11-04</td><td>&quot;Harris&quot;</td><td>&quot;Trump&quot;</td><td>null</td><td>&quot;Washington&quot;</td><td>0.00075</td><td>0.028393</td><td>0.9965</td><td>0.0035</td><td>null</td><td>57.17572</td><td>40.474411</td><td>null</td><td>2.349868</td><td>60.649399</td><td>43.850639</td><td>null</td><td>4.251854</td><td>53.678558</td><td>37.094898</td><td>null</td><td>0.85833</td><td>16.701309</td><td>23.31216</td><td>10.11366</td><td>0.492925</td><td>0.771429</td><td>0.998374</td><td>0.005359</td><td>4044898</td><td>4399740</td><td>3695181</td></tr><tr><td>2024-11-04</td><td>&quot;Harris&quot;</td><td>&quot;Trump&quot;</td><td>null</td><td>&quot;West Virginia&quot;</td><td>0.000075</td><td>0.016221</td><td>0.002725</td><td>0.997275</td><td>null</td><td>31.26486</td><td>67.837631</td><td>null</td><td>0.897509</td><td>37.565868</td><td>74.07132</td><td>null</td><td>1.67585</td><td>25.051611</td><td>61.531849</td><td>null</td><td>0.298389</td><td>-36.572769</td><td>-24.01425</td><td>-48.975929</td><td>0.715596</td><td>0.504399</td><td>0.003963</td><td>0.998462</td><td>740641</td><td>818289</td><td>665209</td></tr><tr><td>2024-11-04</td><td>&quot;Harris&quot;</td><td>&quot;Trump&quot;</td><td>null</td><td>&quot;Wisconsin&quot;</td><td>0.092037</td><td>4.445211</td><td>0.591125</td><td>0.408875</td><td>null</td><td>49.971451</td><td>48.96542</td><td>null</td><td>1.063138</td><td>52.865101</td><td>51.880402</td><td>null</td><td>1.974196</td><td>47.045849</td><td>46.064861</td><td>null</td><td>0.359079</td><td>1.006033</td><td>6.730265</td><td>-4.758738</td><td>0.759992</td><td>0.890309</td><td>0.91311</td><td>0.722559</td><td>3229998</td><td>3508605</td><td>2953028</td></tr><tr><td>2024-11-04</td><td>&quot;Harris&quot;</td><td>&quot;Trump&quot;</td><td>null</td><td>&quot;Wyoming&quot;</td><td>0.000025</td><td>0.012702</td><td>0.00095</td><td>0.99905</td><td>null</td><td>28.122749</td><td>69.968758</td><td>null</td><td>1.908495</td><td>34.075378</td><td>75.908081</td><td>null</td><td>3.501581</td><td>22.26716</td><td>63.893791</td><td>null</td><td>0.662364</td><td>-41.846008</td><td>-29.90465</td><td>-53.523811</td><td>0.68421</td><td>0.503979</td><td>0.001321</td><td>0.999404</td><td>268204</td><td>297739</td><td>239561</td></tr></tbody></table></div>"
      ],
      "text/plain": [
       "shape: (5_600, 32)\n",
       "┌───────────┬───────────┬───────────┬───────────┬───┬───────────┬───────────┬───────────┬──────────┐\n",
       "│ modeldate ┆ candidate ┆ candidate ┆ candidate ┆ … ┆ win_state ┆ state_tur ┆ state_tur ┆ state_tu │\n",
       "│ ---       ┆ _inc      ┆ _chal     ┆ _3rd      ┆   ┆ _if_win_e ┆ nout      ┆ nout_hi   ┆ rnout_lo │\n",
       "│ date      ┆ ---       ┆ ---       ┆ ---       ┆   ┆ c_chal    ┆ ---       ┆ ---       ┆ ---      │\n",
       "│           ┆ str       ┆ str       ┆ str       ┆   ┆ ---       ┆ i64       ┆ i64       ┆ i64      │\n",
       "│           ┆           ┆           ┆           ┆   ┆ f64       ┆           ┆           ┆          │\n",
       "╞═══════════╪═══════════╪═══════════╪═══════════╪═══╪═══════════╪═══════════╪═══════════╪══════════╡\n",
       "│ 2024-07-2 ┆ Harris    ┆ Trump     ┆ Kennedy   ┆ … ┆ 0.998273  ┆ 2105602   ┆ 2307568   ┆ 1908547  │\n",
       "│ 9         ┆           ┆           ┆           ┆   ┆           ┆           ┆           ┆          │\n",
       "│ 2024-07-2 ┆ Harris    ┆ Trump     ┆ Kennedy   ┆ … ┆ 0.910332  ┆ 321775    ┆ 350954    ┆ 293139   │\n",
       "│ 9         ┆           ┆           ┆           ┆   ┆           ┆           ┆           ┆          │\n",
       "│ 2024-07-2 ┆ Harris    ┆ Trump     ┆ Kennedy   ┆ … ┆ 0.986869  ┆ 3241968   ┆ 3523168   ┆ 2963302  │\n",
       "│ 9         ┆           ┆           ┆           ┆   ┆           ┆           ┆           ┆          │\n",
       "│ 2024-07-2 ┆ Harris    ┆ Trump     ┆ Kennedy   ┆ … ┆ 0.99739   ┆ 1109428   ┆ 1217163   ┆ 1002799  │\n",
       "│ 9         ┆           ┆           ┆           ┆   ┆           ┆           ┆           ┆          │\n",
       "│ 2024-07-2 ┆ Harris    ┆ Trump     ┆ Kennedy   ┆ … ┆ 0.005662  ┆ 15609755  ┆ 17081524  ┆ 14168762 │\n",
       "│ 9         ┆           ┆           ┆           ┆   ┆           ┆           ┆           ┆          │\n",
       "│ …         ┆ …         ┆ …         ┆ …         ┆ … ┆ …         ┆ …         ┆ …         ┆ …        │\n",
       "│ 2024-11-0 ┆ Harris    ┆ Trump     ┆ null      ┆ … ┆ 0.11845   ┆ 4389741   ┆ 4773191   ┆ 4014911  │\n",
       "│ 4         ┆           ┆           ┆           ┆   ┆           ┆           ┆           ┆          │\n",
       "│ 2024-11-0 ┆ Harris    ┆ Trump     ┆ null      ┆ … ┆ 0.005359  ┆ 4044898   ┆ 4399740   ┆ 3695181  │\n",
       "│ 4         ┆           ┆           ┆           ┆   ┆           ┆           ┆           ┆          │\n",
       "│ 2024-11-0 ┆ Harris    ┆ Trump     ┆ null      ┆ … ┆ 0.998462  ┆ 740641    ┆ 818289    ┆ 665209   │\n",
       "│ 4         ┆           ┆           ┆           ┆   ┆           ┆           ┆           ┆          │\n",
       "│ 2024-11-0 ┆ Harris    ┆ Trump     ┆ null      ┆ … ┆ 0.722559  ┆ 3229998   ┆ 3508605   ┆ 2953028  │\n",
       "│ 4         ┆           ┆           ┆           ┆   ┆           ┆           ┆           ┆          │\n",
       "│ 2024-11-0 ┆ Harris    ┆ Trump     ┆ null      ┆ … ┆ 0.999404  ┆ 268204    ┆ 297739    ┆ 239561   │\n",
       "│ 4         ┆           ┆           ┆           ┆   ┆           ┆           ┆           ┆          │\n",
       "└───────────┴───────────┴───────────┴───────────┴───┴───────────┴───────────┴───────────┴──────────┘"
      ]
     },
     "execution_count": 153,
     "metadata": {},
     "output_type": "execute_result"
    }
   ],
   "source": [
    "df = pl.read_excel(\"State_Topline.xlsx\", engine=\"xlsx2csv\").pipe(convert_modeldate_to_date)\n",
    "df"
   ]
  },
  {
   "cell_type": "code",
   "execution_count": 297,
   "metadata": {},
   "outputs": [],
   "source": [
    "SWING_STATES = [\n",
    "    \"Arizona\",\n",
    "    \"Florida\",\n",
    "    \"Georgia\",\n",
    "    # \"Iowa\",\n",
    "    \"Michigan\",\n",
    "    # \"Minnesota\",\n",
    "    \"North Carolina\",\n",
    "    \"Nevada\",\n",
    "    # \"Ohio\",\n",
    "    \"Pennsylvania\",\n",
    "    # \"Texas\",\n",
    "    \"Wisconsin\",\n",
    "    # \"New Mexico\",\n",
    "]\n"
   ]
  },
  {
   "cell_type": "code",
   "execution_count": 298,
   "metadata": {},
   "outputs": [
    {
     "name": "stdout",
     "output_type": "stream",
     "text": [
      "Cohort 1: ['Georgia', 'Michigan', 'Pennsylvania', 'Wisconsin']\n",
      "Cohort 2: ['Arizona', 'Florida', 'Nevada', 'North Carolina']\n",
      "\n"
     ]
    }
   ],
   "source": [
    "COHORT_1 = [\n",
    "    \"Georgia\",\n",
    "    # \"Iowa\",\n",
    "    \"Michigan\",\n",
    "    # \"Minnesota\",\n",
    "    # \"Ohio\",\n",
    "    \"Pennsylvania\",\n",
    "    \"Wisconsin\",\n",
    "]\n",
    "\n",
    "RANDOM_SAMPLE = False\n",
    "if RANDOM_SAMPLE:\n",
    "    COHORT_1 = random.sample(SWING_STATES, len(SWING_STATES) // 2)\n",
    "\n",
    "COHORT_2 = sorted(set(SWING_STATES) - set(COHORT_1))\n",
    "\n",
    "print(\n",
    "    f\"Cohort 1: {COHORT_1}\\nCohort 2: {COHORT_2}\\n\"\n",
    ")\n"
   ]
  },
  {
   "cell_type": "code",
   "execution_count": 300,
   "metadata": {},
   "outputs": [
    {
     "data": {
      "text/html": [
       "<div><style>\n",
       ".dataframe > thead > tr,\n",
       ".dataframe > tbody > tr {\n",
       "  text-align: right;\n",
       "  white-space: pre-wrap;\n",
       "}\n",
       "</style>\n",
       "<small>shape: (72, 7)</small><table border=\"1\" class=\"dataframe\"><thead><tr><th>modeldate</th><th>counterfactual</th><th>oct_28_mover</th><th>oct_28_mover_diff</th><th>counterfactual_diff</th><th>corr</th><th>corr_diff</th></tr><tr><td>date</td><td>f64</td><td>f64</td><td>f64</td><td>f64</td><td>f64</td><td>f64</td></tr></thead><tbody><tr><td>2024-08-25</td><td>48.54493</td><td>49.798393</td><td>null</td><td>null</td><td>null</td><td>null</td></tr><tr><td>2024-08-26</td><td>48.562725</td><td>49.806725</td><td>null</td><td>null</td><td>null</td><td>null</td></tr><tr><td>2024-08-27</td><td>48.44777</td><td>49.727636</td><td>null</td><td>null</td><td>null</td><td>null</td></tr><tr><td>2024-08-28</td><td>48.40905</td><td>49.657818</td><td>-0.140575</td><td>-0.13588</td><td>null</td><td>null</td></tr><tr><td>2024-08-29</td><td>48.233185</td><td>49.466167</td><td>-0.340557</td><td>-0.32954</td><td>null</td><td>null</td></tr><tr><td>&hellip;</td><td>&hellip;</td><td>&hellip;</td><td>&hellip;</td><td>&hellip;</td><td>&hellip;</td><td>&hellip;</td></tr><tr><td>2024-10-31</td><td>48.15078</td><td>49.395796</td><td>0.030861</td><td>-0.112841</td><td>0.935131</td><td>0.067614</td></tr><tr><td>2024-11-01</td><td>48.147764</td><td>49.467535</td><td>0.106572</td><td>-0.020038</td><td>0.920946</td><td>0.099968</td></tr><tr><td>2024-11-02</td><td>48.241675</td><td>49.56655</td><td>0.149745</td><td>0.024075</td><td>0.897546</td><td>0.12811</td></tr><tr><td>2024-11-03</td><td>48.158863</td><td>49.544087</td><td>0.148292</td><td>0.008083</td><td>0.862603</td><td>0.161024</td></tr><tr><td>2024-11-04</td><td>48.235767</td><td>49.646143</td><td>0.178608</td><td>0.088003</td><td>0.803796</td><td>0.283326</td></tr></tbody></table></div>"
      ],
      "text/plain": [
       "shape: (72, 7)\n",
       "┌────────────┬───────────────┬──────────────┬───────────────┬───────────────┬──────────┬───────────┐\n",
       "│ modeldate  ┆ counterfactua ┆ oct_28_mover ┆ oct_28_mover_ ┆ counterfactua ┆ corr     ┆ corr_diff │\n",
       "│ ---        ┆ l             ┆ ---          ┆ diff          ┆ l_diff        ┆ ---      ┆ ---       │\n",
       "│ date       ┆ ---           ┆ f64          ┆ ---           ┆ ---           ┆ f64      ┆ f64       │\n",
       "│            ┆ f64           ┆              ┆ f64           ┆ f64           ┆          ┆           │\n",
       "╞════════════╪═══════════════╪══════════════╪═══════════════╪═══════════════╪══════════╪═══════════╡\n",
       "│ 2024-08-25 ┆ 48.54493      ┆ 49.798393    ┆ null          ┆ null          ┆ null     ┆ null      │\n",
       "│ 2024-08-26 ┆ 48.562725     ┆ 49.806725    ┆ null          ┆ null          ┆ null     ┆ null      │\n",
       "│ 2024-08-27 ┆ 48.44777      ┆ 49.727636    ┆ null          ┆ null          ┆ null     ┆ null      │\n",
       "│ 2024-08-28 ┆ 48.40905      ┆ 49.657818    ┆ -0.140575     ┆ -0.13588      ┆ null     ┆ null      │\n",
       "│ 2024-08-29 ┆ 48.233185     ┆ 49.466167    ┆ -0.340557     ┆ -0.32954      ┆ null     ┆ null      │\n",
       "│ …          ┆ …             ┆ …            ┆ …             ┆ …             ┆ …        ┆ …         │\n",
       "│ 2024-10-31 ┆ 48.15078      ┆ 49.395796    ┆ 0.030861      ┆ -0.112841     ┆ 0.935131 ┆ 0.067614  │\n",
       "│ 2024-11-01 ┆ 48.147764     ┆ 49.467535    ┆ 0.106572      ┆ -0.020038     ┆ 0.920946 ┆ 0.099968  │\n",
       "│ 2024-11-02 ┆ 48.241675     ┆ 49.56655     ┆ 0.149745      ┆ 0.024075      ┆ 0.897546 ┆ 0.12811   │\n",
       "│ 2024-11-03 ┆ 48.158863     ┆ 49.544087    ┆ 0.148292      ┆ 0.008083      ┆ 0.862603 ┆ 0.161024  │\n",
       "│ 2024-11-04 ┆ 48.235767     ┆ 49.646143    ┆ 0.178608      ┆ 0.088003      ┆ 0.803796 ┆ 0.283326  │\n",
       "└────────────┴───────────────┴──────────────┴───────────────┴───────────────┴──────────┴───────────┘"
      ]
     },
     "execution_count": 300,
     "metadata": {},
     "output_type": "execute_result"
    }
   ],
   "source": [
    "WINDOW_SIZE = 30\n",
    "DIFF_LAG = 3\n",
    "\n",
    "df_cohort = df.filter(\n",
    "    pl.col(\"modeldate\") >= datetime.date(2024, 8, 25),\n",
    "    pl.col(\"state\").is_in(SWING_STATES),\n",
    ").with_columns(\n",
    "    pl.col(\"state\").is_in(COHORT_1).replace_strict({True: \"oct_28_mover\", False: \"counterfactual\"}, return_dtype=pl.String).alias(\"swing_state_cohort\")\n",
    ").group_by(\"modeldate\", \"swing_state_cohort\").agg(\n",
    "    pl.col(\"voteshare_inc\").mean().alias(\"voteshare_inc_group\")\n",
    ").sort(\"modeldate\", \"swing_state_cohort\").pivot(\n",
    "    index=\"modeldate\",\n",
    "    on=\"swing_state_cohort\",\n",
    "    values=\"voteshare_inc_group\",\n",
    ").with_columns(\n",
    "    pl.col(\"oct_28_mover\").diff(DIFF_LAG).alias(\"oct_28_mover_diff\"),\n",
    "    pl.col(\"counterfactual\").diff(DIFF_LAG).alias(\"counterfactual_diff\"),\n",
    ").with_columns(\n",
    "    pl.rolling_corr(\"oct_28_mover\", \"counterfactual\", window_size=WINDOW_SIZE).alias(\"corr\"),\n",
    "    pl.rolling_corr(\"oct_28_mover_diff\", \"counterfactual_diff\", window_size=WINDOW_SIZE).alias(\"corr_diff\"),\n",
    ")\n",
    "df_cohort"
   ]
  },
  {
   "cell_type": "code",
   "execution_count": 301,
   "metadata": {},
   "outputs": [
    {
     "data": {
      "application/vnd.plotly.v1+json": {
       "config": {
        "plotlyServerURL": "https://plot.ly"
       },
       "data": [
        {
         "hovertemplate": "variable=counterfactual<br>modeldate=%{x}<br>value=%{y}<extra></extra>",
         "legendgroup": "counterfactual",
         "line": {
          "color": "#F8766D",
          "dash": "solid"
         },
         "marker": {
          "symbol": "circle"
         },
         "mode": "lines",
         "name": "counterfactual",
         "orientation": "v",
         "showlegend": true,
         "type": "scatter",
         "x": [
          "2024-08-25T00:00:00",
          "2024-08-26T00:00:00",
          "2024-08-27T00:00:00",
          "2024-08-28T00:00:00",
          "2024-08-29T00:00:00",
          "2024-08-30T00:00:00",
          "2024-08-31T00:00:00",
          "2024-09-01T00:00:00",
          "2024-09-02T00:00:00",
          "2024-09-03T00:00:00",
          "2024-09-04T00:00:00",
          "2024-09-05T00:00:00",
          "2024-09-06T00:00:00",
          "2024-09-07T00:00:00",
          "2024-09-08T00:00:00",
          "2024-09-09T00:00:00",
          "2024-09-10T00:00:00",
          "2024-09-11T00:00:00",
          "2024-09-12T00:00:00",
          "2024-09-13T00:00:00",
          "2024-09-14T00:00:00",
          "2024-09-15T00:00:00",
          "2024-09-16T00:00:00",
          "2024-09-17T00:00:00",
          "2024-09-18T00:00:00",
          "2024-09-19T00:00:00",
          "2024-09-20T00:00:00",
          "2024-09-21T00:00:00",
          "2024-09-22T00:00:00",
          "2024-09-23T00:00:00",
          "2024-09-24T00:00:00",
          "2024-09-25T00:00:00",
          "2024-09-26T00:00:00",
          "2024-09-27T00:00:00",
          "2024-09-28T00:00:00",
          "2024-09-29T00:00:00",
          "2024-09-30T00:00:00",
          "2024-10-01T00:00:00",
          "2024-10-02T00:00:00",
          "2024-10-03T00:00:00",
          "2024-10-04T00:00:00",
          "2024-10-05T00:00:00",
          "2024-10-06T00:00:00",
          "2024-10-07T00:00:00",
          "2024-10-08T00:00:00",
          "2024-10-09T00:00:00",
          "2024-10-10T00:00:00",
          "2024-10-11T00:00:00",
          "2024-10-12T00:00:00",
          "2024-10-13T00:00:00",
          "2024-10-14T00:00:00",
          "2024-10-15T00:00:00",
          "2024-10-16T00:00:00",
          "2024-10-17T00:00:00",
          "2024-10-18T00:00:00",
          "2024-10-19T00:00:00",
          "2024-10-20T00:00:00",
          "2024-10-21T00:00:00",
          "2024-10-22T00:00:00",
          "2024-10-23T00:00:00",
          "2024-10-24T00:00:00",
          "2024-10-25T00:00:00",
          "2024-10-26T00:00:00",
          "2024-10-27T00:00:00",
          "2024-10-28T00:00:00",
          "2024-10-29T00:00:00",
          "2024-10-30T00:00:00",
          "2024-10-31T00:00:00",
          "2024-11-01T00:00:00",
          "2024-11-02T00:00:00",
          "2024-11-03T00:00:00",
          "2024-11-04T00:00:00"
         ],
         "xaxis": "x",
         "y": [
          48.54492950439453,
          48.56272506713867,
          48.44777011871338,
          48.40904998779297,
          48.233184814453125,
          48.13969707489014,
          48.021485328674316,
          47.97159194946289,
          47.92814540863037,
          47.91531467437744,
          47.81423759460449,
          47.75612258911133,
          47.68988227844238,
          47.63140106201172,
          47.572434425354004,
          47.58992958068848,
          47.82478046417236,
          47.8176326751709,
          47.883480072021484,
          47.86615753173828,
          47.92984104156494,
          47.973060607910156,
          48.05018711090088,
          48.237688064575195,
          48.3393497467041,
          48.34492206573486,
          48.551645278930664,
          48.57403564453125,
          48.65344715118408,
          48.52022457122803,
          48.61735725402832,
          48.65159225463867,
          48.71835803985596,
          48.825422286987305,
          48.81931495666504,
          48.908223152160645,
          48.85774517059326,
          48.82681751251221,
          48.8584098815918,
          48.90504741668701,
          48.88342761993408,
          48.88993549346924,
          48.88145923614502,
          48.84520244598389,
          48.636332511901855,
          48.65357494354248,
          48.63790225982666,
          48.60156726837158,
          48.5587797164917,
          48.52191734313965,
          48.51485252380371,
          48.52443027496338,
          48.52531719207764,
          48.50795269012451,
          48.49857234954834,
          48.505720138549805,
          48.44650936126709,
          48.34356689453125,
          48.3167781829834,
          48.309560775756836,
          48.26312732696533,
          48.27690029144287,
          48.259779930114746,
          48.263113021850586,
          48.263620376586914,
          48.16780185699463,
          48.21760082244873,
          48.150779724121094,
          48.14776420593262,
          48.24167537689209,
          48.15886306762695,
          48.23576736450195
         ],
         "yaxis": "y"
        },
        {
         "hovertemplate": "variable=oct_28_mover<br>modeldate=%{x}<br>value=%{y}<extra></extra>",
         "legendgroup": "oct_28_mover",
         "line": {
          "color": "#A3A500",
          "dash": "solid"
         },
         "marker": {
          "symbol": "circle"
         },
         "mode": "lines",
         "name": "oct_28_mover",
         "orientation": "v",
         "showlegend": true,
         "type": "scatter",
         "x": [
          "2024-08-25T00:00:00",
          "2024-08-26T00:00:00",
          "2024-08-27T00:00:00",
          "2024-08-28T00:00:00",
          "2024-08-29T00:00:00",
          "2024-08-30T00:00:00",
          "2024-08-31T00:00:00",
          "2024-09-01T00:00:00",
          "2024-09-02T00:00:00",
          "2024-09-03T00:00:00",
          "2024-09-04T00:00:00",
          "2024-09-05T00:00:00",
          "2024-09-06T00:00:00",
          "2024-09-07T00:00:00",
          "2024-09-08T00:00:00",
          "2024-09-09T00:00:00",
          "2024-09-10T00:00:00",
          "2024-09-11T00:00:00",
          "2024-09-12T00:00:00",
          "2024-09-13T00:00:00",
          "2024-09-14T00:00:00",
          "2024-09-15T00:00:00",
          "2024-09-16T00:00:00",
          "2024-09-17T00:00:00",
          "2024-09-18T00:00:00",
          "2024-09-19T00:00:00",
          "2024-09-20T00:00:00",
          "2024-09-21T00:00:00",
          "2024-09-22T00:00:00",
          "2024-09-23T00:00:00",
          "2024-09-24T00:00:00",
          "2024-09-25T00:00:00",
          "2024-09-26T00:00:00",
          "2024-09-27T00:00:00",
          "2024-09-28T00:00:00",
          "2024-09-29T00:00:00",
          "2024-09-30T00:00:00",
          "2024-10-01T00:00:00",
          "2024-10-02T00:00:00",
          "2024-10-03T00:00:00",
          "2024-10-04T00:00:00",
          "2024-10-05T00:00:00",
          "2024-10-06T00:00:00",
          "2024-10-07T00:00:00",
          "2024-10-08T00:00:00",
          "2024-10-09T00:00:00",
          "2024-10-10T00:00:00",
          "2024-10-11T00:00:00",
          "2024-10-12T00:00:00",
          "2024-10-13T00:00:00",
          "2024-10-14T00:00:00",
          "2024-10-15T00:00:00",
          "2024-10-16T00:00:00",
          "2024-10-17T00:00:00",
          "2024-10-18T00:00:00",
          "2024-10-19T00:00:00",
          "2024-10-20T00:00:00",
          "2024-10-21T00:00:00",
          "2024-10-22T00:00:00",
          "2024-10-23T00:00:00",
          "2024-10-24T00:00:00",
          "2024-10-25T00:00:00",
          "2024-10-26T00:00:00",
          "2024-10-27T00:00:00",
          "2024-10-28T00:00:00",
          "2024-10-29T00:00:00",
          "2024-10-30T00:00:00",
          "2024-10-31T00:00:00",
          "2024-11-01T00:00:00",
          "2024-11-02T00:00:00",
          "2024-11-03T00:00:00",
          "2024-11-04T00:00:00"
         ],
         "xaxis": "x",
         "y": [
          49.79839324951172,
          49.806724548339844,
          49.72763633728027,
          49.65781784057617,
          49.46616744995117,
          49.44018268585205,
          49.35233497619629,
          49.33152770996094,
          49.28991508483887,
          49.270050048828125,
          49.220065116882324,
          49.11156463623047,
          49.02210521697998,
          48.97010612487793,
          48.92852210998535,
          48.89624309539795,
          48.99508285522461,
          49.0098352432251,
          49.06144046783447,
          49.04079723358154,
          49.10991287231445,
          49.085798263549805,
          49.08531188964844,
          49.27274990081787,
          49.490355491638184,
          49.52921962738037,
          49.6697473526001,
          49.725295066833496,
          49.756707191467285,
          49.75718688964844,
          49.805556297302246,
          49.858702659606934,
          49.88017272949219,
          50.0178165435791,
          49.96798229217529,
          49.88030815124512,
          49.84377479553223,
          49.87323474884033,
          49.898019790649414,
          49.90108776092529,
          49.890180587768555,
          49.89003276824951,
          49.889315605163574,
          49.84129238128662,
          49.859129905700684,
          49.76088333129883,
          49.70292282104492,
          49.68758201599121,
          49.703447341918945,
          49.68850517272949,
          49.65554714202881,
          49.59285259246826,
          49.60014820098877,
          49.52098751068115,
          49.43265151977539,
          49.47577095031738,
          49.37402534484863,
          49.45170783996582,
          49.43688774108887,
          49.447062492370605,
          49.43918800354004,
          49.449045181274414,
          49.44017505645752,
          49.44987773895264,
          49.36493492126465,
          49.360962867736816,
          49.416805267333984,
          49.395795822143555,
          49.4675350189209,
          49.56655025482178,
          49.544087409973145,
          49.64614295959473
         ],
         "yaxis": "y"
        }
       ],
       "layout": {
        "annotations": [
         {
          "align": "left",
          "showarrow": false,
          "text": "COHORT_1: Georgia, Michigan, Pennsylvania, Wisconsin<br>COHORT_2: Arizona, Florida, Nevada, North Carolina",
          "x": "2024-08-25",
          "y": 50.0178165435791
         }
        ],
        "legend": {
         "title": {
          "text": "variable"
         },
         "tracegroupgap": 0
        },
        "template": {
         "data": {
          "bar": [
           {
            "error_x": {
             "color": "rgb(51,51,51)"
            },
            "error_y": {
             "color": "rgb(51,51,51)"
            },
            "marker": {
             "line": {
              "color": "rgb(237,237,237)",
              "width": 0.5
             },
             "pattern": {
              "fillmode": "overlay",
              "size": 10,
              "solidity": 0.2
             }
            },
            "type": "bar"
           }
          ],
          "barpolar": [
           {
            "marker": {
             "line": {
              "color": "rgb(237,237,237)",
              "width": 0.5
             },
             "pattern": {
              "fillmode": "overlay",
              "size": 10,
              "solidity": 0.2
             }
            },
            "type": "barpolar"
           }
          ],
          "carpet": [
           {
            "aaxis": {
             "endlinecolor": "rgb(51,51,51)",
             "gridcolor": "white",
             "linecolor": "white",
             "minorgridcolor": "white",
             "startlinecolor": "rgb(51,51,51)"
            },
            "baxis": {
             "endlinecolor": "rgb(51,51,51)",
             "gridcolor": "white",
             "linecolor": "white",
             "minorgridcolor": "white",
             "startlinecolor": "rgb(51,51,51)"
            },
            "type": "carpet"
           }
          ],
          "choropleth": [
           {
            "colorbar": {
             "outlinewidth": 0,
             "tickcolor": "rgb(237,237,237)",
             "ticklen": 6,
             "ticks": "inside"
            },
            "type": "choropleth"
           }
          ],
          "contour": [
           {
            "colorbar": {
             "outlinewidth": 0,
             "tickcolor": "rgb(237,237,237)",
             "ticklen": 6,
             "ticks": "inside"
            },
            "colorscale": [
             [
              0,
              "rgb(20,44,66)"
             ],
             [
              1,
              "rgb(90,179,244)"
             ]
            ],
            "type": "contour"
           }
          ],
          "contourcarpet": [
           {
            "colorbar": {
             "outlinewidth": 0,
             "tickcolor": "rgb(237,237,237)",
             "ticklen": 6,
             "ticks": "inside"
            },
            "type": "contourcarpet"
           }
          ],
          "heatmap": [
           {
            "colorbar": {
             "outlinewidth": 0,
             "tickcolor": "rgb(237,237,237)",
             "ticklen": 6,
             "ticks": "inside"
            },
            "colorscale": [
             [
              0,
              "rgb(20,44,66)"
             ],
             [
              1,
              "rgb(90,179,244)"
             ]
            ],
            "type": "heatmap"
           }
          ],
          "heatmapgl": [
           {
            "colorbar": {
             "outlinewidth": 0,
             "tickcolor": "rgb(237,237,237)",
             "ticklen": 6,
             "ticks": "inside"
            },
            "colorscale": [
             [
              0,
              "rgb(20,44,66)"
             ],
             [
              1,
              "rgb(90,179,244)"
             ]
            ],
            "type": "heatmapgl"
           }
          ],
          "histogram": [
           {
            "marker": {
             "pattern": {
              "fillmode": "overlay",
              "size": 10,
              "solidity": 0.2
             }
            },
            "type": "histogram"
           }
          ],
          "histogram2d": [
           {
            "colorbar": {
             "outlinewidth": 0,
             "tickcolor": "rgb(237,237,237)",
             "ticklen": 6,
             "ticks": "inside"
            },
            "colorscale": [
             [
              0,
              "rgb(20,44,66)"
             ],
             [
              1,
              "rgb(90,179,244)"
             ]
            ],
            "type": "histogram2d"
           }
          ],
          "histogram2dcontour": [
           {
            "colorbar": {
             "outlinewidth": 0,
             "tickcolor": "rgb(237,237,237)",
             "ticklen": 6,
             "ticks": "inside"
            },
            "colorscale": [
             [
              0,
              "rgb(20,44,66)"
             ],
             [
              1,
              "rgb(90,179,244)"
             ]
            ],
            "type": "histogram2dcontour"
           }
          ],
          "mesh3d": [
           {
            "colorbar": {
             "outlinewidth": 0,
             "tickcolor": "rgb(237,237,237)",
             "ticklen": 6,
             "ticks": "inside"
            },
            "type": "mesh3d"
           }
          ],
          "parcoords": [
           {
            "line": {
             "colorbar": {
              "outlinewidth": 0,
              "tickcolor": "rgb(237,237,237)",
              "ticklen": 6,
              "ticks": "inside"
             }
            },
            "type": "parcoords"
           }
          ],
          "pie": [
           {
            "automargin": true,
            "type": "pie"
           }
          ],
          "scatter": [
           {
            "fillpattern": {
             "fillmode": "overlay",
             "size": 10,
             "solidity": 0.2
            },
            "type": "scatter"
           }
          ],
          "scatter3d": [
           {
            "line": {
             "colorbar": {
              "outlinewidth": 0,
              "tickcolor": "rgb(237,237,237)",
              "ticklen": 6,
              "ticks": "inside"
             }
            },
            "marker": {
             "colorbar": {
              "outlinewidth": 0,
              "tickcolor": "rgb(237,237,237)",
              "ticklen": 6,
              "ticks": "inside"
             }
            },
            "type": "scatter3d"
           }
          ],
          "scattercarpet": [
           {
            "marker": {
             "colorbar": {
              "outlinewidth": 0,
              "tickcolor": "rgb(237,237,237)",
              "ticklen": 6,
              "ticks": "inside"
             }
            },
            "type": "scattercarpet"
           }
          ],
          "scattergeo": [
           {
            "marker": {
             "colorbar": {
              "outlinewidth": 0,
              "tickcolor": "rgb(237,237,237)",
              "ticklen": 6,
              "ticks": "inside"
             }
            },
            "type": "scattergeo"
           }
          ],
          "scattergl": [
           {
            "marker": {
             "colorbar": {
              "outlinewidth": 0,
              "tickcolor": "rgb(237,237,237)",
              "ticklen": 6,
              "ticks": "inside"
             }
            },
            "type": "scattergl"
           }
          ],
          "scattermapbox": [
           {
            "marker": {
             "colorbar": {
              "outlinewidth": 0,
              "tickcolor": "rgb(237,237,237)",
              "ticklen": 6,
              "ticks": "inside"
             }
            },
            "type": "scattermapbox"
           }
          ],
          "scatterpolar": [
           {
            "marker": {
             "colorbar": {
              "outlinewidth": 0,
              "tickcolor": "rgb(237,237,237)",
              "ticklen": 6,
              "ticks": "inside"
             }
            },
            "type": "scatterpolar"
           }
          ],
          "scatterpolargl": [
           {
            "marker": {
             "colorbar": {
              "outlinewidth": 0,
              "tickcolor": "rgb(237,237,237)",
              "ticklen": 6,
              "ticks": "inside"
             }
            },
            "type": "scatterpolargl"
           }
          ],
          "scatterternary": [
           {
            "marker": {
             "colorbar": {
              "outlinewidth": 0,
              "tickcolor": "rgb(237,237,237)",
              "ticklen": 6,
              "ticks": "inside"
             }
            },
            "type": "scatterternary"
           }
          ],
          "surface": [
           {
            "colorbar": {
             "outlinewidth": 0,
             "tickcolor": "rgb(237,237,237)",
             "ticklen": 6,
             "ticks": "inside"
            },
            "colorscale": [
             [
              0,
              "rgb(20,44,66)"
             ],
             [
              1,
              "rgb(90,179,244)"
             ]
            ],
            "type": "surface"
           }
          ],
          "table": [
           {
            "cells": {
             "fill": {
              "color": "rgb(237,237,237)"
             },
             "line": {
              "color": "white"
             }
            },
            "header": {
             "fill": {
              "color": "rgb(217,217,217)"
             },
             "line": {
              "color": "white"
             }
            },
            "type": "table"
           }
          ]
         },
         "layout": {
          "annotationdefaults": {
           "arrowhead": 0,
           "arrowwidth": 1
          },
          "autotypenumbers": "strict",
          "coloraxis": {
           "colorbar": {
            "outlinewidth": 0,
            "tickcolor": "rgb(237,237,237)",
            "ticklen": 6,
            "ticks": "inside"
           }
          },
          "colorscale": {
           "sequential": [
            [
             0,
             "rgb(20,44,66)"
            ],
            [
             1,
             "rgb(90,179,244)"
            ]
           ],
           "sequentialminus": [
            [
             0,
             "rgb(20,44,66)"
            ],
            [
             1,
             "rgb(90,179,244)"
            ]
           ]
          },
          "colorway": [
           "#F8766D",
           "#A3A500",
           "#00BF7D",
           "#00B0F6",
           "#E76BF3"
          ],
          "font": {
           "color": "rgb(51,51,51)"
          },
          "geo": {
           "bgcolor": "white",
           "lakecolor": "white",
           "landcolor": "rgb(237,237,237)",
           "showlakes": true,
           "showland": true,
           "subunitcolor": "white"
          },
          "hoverlabel": {
           "align": "left"
          },
          "hovermode": "closest",
          "paper_bgcolor": "white",
          "plot_bgcolor": "rgb(237,237,237)",
          "polar": {
           "angularaxis": {
            "gridcolor": "white",
            "linecolor": "white",
            "showgrid": true,
            "tickcolor": "rgb(51,51,51)",
            "ticks": "outside"
           },
           "bgcolor": "rgb(237,237,237)",
           "radialaxis": {
            "gridcolor": "white",
            "linecolor": "white",
            "showgrid": true,
            "tickcolor": "rgb(51,51,51)",
            "ticks": "outside"
           }
          },
          "scene": {
           "xaxis": {
            "backgroundcolor": "rgb(237,237,237)",
            "gridcolor": "white",
            "gridwidth": 2,
            "linecolor": "white",
            "showbackground": true,
            "showgrid": true,
            "tickcolor": "rgb(51,51,51)",
            "ticks": "outside",
            "zerolinecolor": "white"
           },
           "yaxis": {
            "backgroundcolor": "rgb(237,237,237)",
            "gridcolor": "white",
            "gridwidth": 2,
            "linecolor": "white",
            "showbackground": true,
            "showgrid": true,
            "tickcolor": "rgb(51,51,51)",
            "ticks": "outside",
            "zerolinecolor": "white"
           },
           "zaxis": {
            "backgroundcolor": "rgb(237,237,237)",
            "gridcolor": "white",
            "gridwidth": 2,
            "linecolor": "white",
            "showbackground": true,
            "showgrid": true,
            "tickcolor": "rgb(51,51,51)",
            "ticks": "outside",
            "zerolinecolor": "white"
           }
          },
          "shapedefaults": {
           "fillcolor": "black",
           "line": {
            "width": 0
           },
           "opacity": 0.3
          },
          "ternary": {
           "aaxis": {
            "gridcolor": "white",
            "linecolor": "white",
            "showgrid": true,
            "tickcolor": "rgb(51,51,51)",
            "ticks": "outside"
           },
           "baxis": {
            "gridcolor": "white",
            "linecolor": "white",
            "showgrid": true,
            "tickcolor": "rgb(51,51,51)",
            "ticks": "outside"
           },
           "bgcolor": "rgb(237,237,237)",
           "caxis": {
            "gridcolor": "white",
            "linecolor": "white",
            "showgrid": true,
            "tickcolor": "rgb(51,51,51)",
            "ticks": "outside"
           }
          },
          "xaxis": {
           "automargin": true,
           "gridcolor": "white",
           "linecolor": "white",
           "showgrid": true,
           "tickcolor": "rgb(51,51,51)",
           "ticks": "outside",
           "title": {
            "standoff": 15
           },
           "zerolinecolor": "white"
          },
          "yaxis": {
           "automargin": true,
           "gridcolor": "white",
           "linecolor": "white",
           "showgrid": true,
           "tickcolor": "rgb(51,51,51)",
           "ticks": "outside",
           "title": {
            "standoff": 15
           },
           "zerolinecolor": "white"
          }
         }
        },
        "title": {
         "text": "voteshare incumbent raw"
        },
        "xaxis": {
         "anchor": "y",
         "domain": [
          0,
          1
         ],
         "title": {
          "text": "modeldate"
         }
        },
        "yaxis": {
         "anchor": "x",
         "domain": [
          0,
          1
         ],
         "title": {
          "text": "voteshare_inc"
         }
        }
       }
      }
     },
     "metadata": {},
     "output_type": "display_data"
    },
    {
     "data": {
      "application/vnd.plotly.v1+json": {
       "config": {
        "plotlyServerURL": "https://plot.ly"
       },
       "data": [
        {
         "hovertemplate": "variable=counterfactual_diff<br>modeldate=%{x}<br>value=%{y}<extra></extra>",
         "legendgroup": "counterfactual_diff",
         "line": {
          "color": "#F8766D",
          "dash": "solid"
         },
         "marker": {
          "symbol": "circle"
         },
         "mode": "lines",
         "name": "counterfactual_diff",
         "orientation": "v",
         "showlegend": true,
         "type": "scatter",
         "x": [
          "2024-08-25T00:00:00",
          "2024-08-26T00:00:00",
          "2024-08-27T00:00:00",
          "2024-08-28T00:00:00",
          "2024-08-29T00:00:00",
          "2024-08-30T00:00:00",
          "2024-08-31T00:00:00",
          "2024-09-01T00:00:00",
          "2024-09-02T00:00:00",
          "2024-09-03T00:00:00",
          "2024-09-04T00:00:00",
          "2024-09-05T00:00:00",
          "2024-09-06T00:00:00",
          "2024-09-07T00:00:00",
          "2024-09-08T00:00:00",
          "2024-09-09T00:00:00",
          "2024-09-10T00:00:00",
          "2024-09-11T00:00:00",
          "2024-09-12T00:00:00",
          "2024-09-13T00:00:00",
          "2024-09-14T00:00:00",
          "2024-09-15T00:00:00",
          "2024-09-16T00:00:00",
          "2024-09-17T00:00:00",
          "2024-09-18T00:00:00",
          "2024-09-19T00:00:00",
          "2024-09-20T00:00:00",
          "2024-09-21T00:00:00",
          "2024-09-22T00:00:00",
          "2024-09-23T00:00:00",
          "2024-09-24T00:00:00",
          "2024-09-25T00:00:00",
          "2024-09-26T00:00:00",
          "2024-09-27T00:00:00",
          "2024-09-28T00:00:00",
          "2024-09-29T00:00:00",
          "2024-09-30T00:00:00",
          "2024-10-01T00:00:00",
          "2024-10-02T00:00:00",
          "2024-10-03T00:00:00",
          "2024-10-04T00:00:00",
          "2024-10-05T00:00:00",
          "2024-10-06T00:00:00",
          "2024-10-07T00:00:00",
          "2024-10-08T00:00:00",
          "2024-10-09T00:00:00",
          "2024-10-10T00:00:00",
          "2024-10-11T00:00:00",
          "2024-10-12T00:00:00",
          "2024-10-13T00:00:00",
          "2024-10-14T00:00:00",
          "2024-10-15T00:00:00",
          "2024-10-16T00:00:00",
          "2024-10-17T00:00:00",
          "2024-10-18T00:00:00",
          "2024-10-19T00:00:00",
          "2024-10-20T00:00:00",
          "2024-10-21T00:00:00",
          "2024-10-22T00:00:00",
          "2024-10-23T00:00:00",
          "2024-10-24T00:00:00",
          "2024-10-25T00:00:00",
          "2024-10-26T00:00:00",
          "2024-10-27T00:00:00",
          "2024-10-28T00:00:00",
          "2024-10-29T00:00:00",
          "2024-10-30T00:00:00",
          "2024-10-31T00:00:00",
          "2024-11-01T00:00:00",
          "2024-11-02T00:00:00",
          "2024-11-03T00:00:00",
          "2024-11-04T00:00:00"
         ],
         "xaxis": "x",
         "y": [
          null,
          null,
          null,
          -0.1358795166015625,
          -0.3295402526855469,
          -0.3080730438232422,
          -0.38756465911865234,
          -0.2615928649902344,
          -0.21155166625976562,
          -0.106170654296875,
          -0.15735435485839844,
          -0.17202281951904297,
          -0.2254323959350586,
          -0.18283653259277344,
          -0.18368816375732422,
          -0.09995269775390625,
          0.19337940216064453,
          0.24519824981689453,
          0.2935504913330078,
          0.04137706756591797,
          0.11220836639404297,
          0.08958053588867188,
          0.18402957916259766,
          0.3078470230102539,
          0.3662891387939453,
          0.2947349548339844,
          0.31395721435546875,
          0.23468589782714844,
          0.30852508544921875,
          -0.03142070770263672,
          0.04332160949707031,
          -0.0018548965454101562,
          0.1981334686279297,
          0.20806503295898438,
          0.1677227020263672,
          0.1898651123046875,
          0.03232288360595703,
          0.007502555847167969,
          -0.049813270568847656,
          0.04730224609375,
          0.056610107421875,
          0.031525611877441406,
          -0.023588180541992188,
          -0.03822517395019531,
          -0.2536029815673828,
          -0.22788429260253906,
          -0.20730018615722656,
          -0.03476524353027344,
          -0.09479522705078125,
          -0.11598491668701172,
          -0.0867147445678711,
          -0.03434944152832031,
          0.0033998489379882812,
          -0.006899833679199219,
          -0.025857925415039062,
          -0.01959705352783203,
          -0.061443328857421875,
          -0.15500545501708984,
          -0.18894195556640625,
          -0.1369485855102539,
          -0.08043956756591797,
          -0.039877891540527344,
          -0.049780845642089844,
          -0.00001430511474609375,
          -0.013279914855957031,
          -0.09197807312011719,
          -0.04551219940185547,
          -0.11284065246582031,
          -0.02003765106201172,
          0.024074554443359375,
          0.008083343505859375,
          0.08800315856933594
         ],
         "yaxis": "y"
        },
        {
         "hovertemplate": "variable=oct_28_mover_diff<br>modeldate=%{x}<br>value=%{y}<extra></extra>",
         "legendgroup": "oct_28_mover_diff",
         "line": {
          "color": "#A3A500",
          "dash": "solid"
         },
         "marker": {
          "symbol": "circle"
         },
         "mode": "lines",
         "name": "oct_28_mover_diff",
         "orientation": "v",
         "showlegend": true,
         "type": "scatter",
         "x": [
          "2024-08-25T00:00:00",
          "2024-08-26T00:00:00",
          "2024-08-27T00:00:00",
          "2024-08-28T00:00:00",
          "2024-08-29T00:00:00",
          "2024-08-30T00:00:00",
          "2024-08-31T00:00:00",
          "2024-09-01T00:00:00",
          "2024-09-02T00:00:00",
          "2024-09-03T00:00:00",
          "2024-09-04T00:00:00",
          "2024-09-05T00:00:00",
          "2024-09-06T00:00:00",
          "2024-09-07T00:00:00",
          "2024-09-08T00:00:00",
          "2024-09-09T00:00:00",
          "2024-09-10T00:00:00",
          "2024-09-11T00:00:00",
          "2024-09-12T00:00:00",
          "2024-09-13T00:00:00",
          "2024-09-14T00:00:00",
          "2024-09-15T00:00:00",
          "2024-09-16T00:00:00",
          "2024-09-17T00:00:00",
          "2024-09-18T00:00:00",
          "2024-09-19T00:00:00",
          "2024-09-20T00:00:00",
          "2024-09-21T00:00:00",
          "2024-09-22T00:00:00",
          "2024-09-23T00:00:00",
          "2024-09-24T00:00:00",
          "2024-09-25T00:00:00",
          "2024-09-26T00:00:00",
          "2024-09-27T00:00:00",
          "2024-09-28T00:00:00",
          "2024-09-29T00:00:00",
          "2024-09-30T00:00:00",
          "2024-10-01T00:00:00",
          "2024-10-02T00:00:00",
          "2024-10-03T00:00:00",
          "2024-10-04T00:00:00",
          "2024-10-05T00:00:00",
          "2024-10-06T00:00:00",
          "2024-10-07T00:00:00",
          "2024-10-08T00:00:00",
          "2024-10-09T00:00:00",
          "2024-10-10T00:00:00",
          "2024-10-11T00:00:00",
          "2024-10-12T00:00:00",
          "2024-10-13T00:00:00",
          "2024-10-14T00:00:00",
          "2024-10-15T00:00:00",
          "2024-10-16T00:00:00",
          "2024-10-17T00:00:00",
          "2024-10-18T00:00:00",
          "2024-10-19T00:00:00",
          "2024-10-20T00:00:00",
          "2024-10-21T00:00:00",
          "2024-10-22T00:00:00",
          "2024-10-23T00:00:00",
          "2024-10-24T00:00:00",
          "2024-10-25T00:00:00",
          "2024-10-26T00:00:00",
          "2024-10-27T00:00:00",
          "2024-10-28T00:00:00",
          "2024-10-29T00:00:00",
          "2024-10-30T00:00:00",
          "2024-10-31T00:00:00",
          "2024-11-01T00:00:00",
          "2024-11-02T00:00:00",
          "2024-11-03T00:00:00",
          "2024-11-04T00:00:00"
         ],
         "xaxis": "x",
         "y": [
          null,
          null,
          null,
          -0.14057540893554688,
          -0.3405570983886719,
          -0.28745365142822266,
          -0.3054828643798828,
          -0.13463973999023438,
          -0.1502676010131836,
          -0.08228492736816406,
          -0.11146259307861328,
          -0.17835044860839844,
          -0.24794483184814453,
          -0.24995899200439453,
          -0.1830425262451172,
          -0.12586212158203125,
          0.024976730346679688,
          0.0813131332397461,
          0.16519737243652344,
          0.045714378356933594,
          0.10007762908935547,
          0.02435779571533203,
          0.04451465606689453,
          0.16283702850341797,
          0.4045572280883789,
          0.4439077377319336,
          0.39699745178222656,
          0.2349395751953125,
          0.22748756408691406,
          0.08743953704833984,
          0.08026123046875,
          0.10199546813964844,
          0.12298583984375,
          0.21226024627685547,
          0.10927963256835938,
          0.0001354217529296875,
          -0.174041748046875,
          -0.09474754333496094,
          0.017711639404296875,
          0.057312965393066406,
          0.016945838928222656,
          -0.007987022399902344,
          -0.01177215576171875,
          -0.048888206481933594,
          -0.030902862548828125,
          -0.1284322738647461,
          -0.13836956024169922,
          -0.17154788970947266,
          -0.05743598937988281,
          -0.014417648315429688,
          -0.032034873962402344,
          -0.1105947494506836,
          -0.08835697174072266,
          -0.13455963134765625,
          -0.1602010726928711,
          -0.12437725067138672,
          -0.14696216583251953,
          0.019056320190429688,
          -0.038883209228515625,
          0.07303714752197266,
          -0.01251983642578125,
          0.012157440185546875,
          -0.0068874359130859375,
          0.010689735412597656,
          -0.08411026000976562,
          -0.07921218872070312,
          -0.033072471618652344,
          0.03086090087890625,
          0.10657215118408203,
          0.14974498748779297,
          0.14829158782958984,
          0.17860794067382812
         ],
         "yaxis": "y"
        }
       ],
       "layout": {
        "annotations": [
         {
          "align": "left",
          "showarrow": false,
          "text": "COHORT_1: Georgia, Michigan, Pennsylvania, Wisconsin<br>COHORT_2: Arizona, Florida, Nevada, North Carolina",
          "x": "2024-08-25",
          "y": 0.4439077377319336
         }
        ],
        "legend": {
         "title": {
          "text": "variable"
         },
         "tracegroupgap": 0
        },
        "template": {
         "data": {
          "bar": [
           {
            "error_x": {
             "color": "rgb(51,51,51)"
            },
            "error_y": {
             "color": "rgb(51,51,51)"
            },
            "marker": {
             "line": {
              "color": "rgb(237,237,237)",
              "width": 0.5
             },
             "pattern": {
              "fillmode": "overlay",
              "size": 10,
              "solidity": 0.2
             }
            },
            "type": "bar"
           }
          ],
          "barpolar": [
           {
            "marker": {
             "line": {
              "color": "rgb(237,237,237)",
              "width": 0.5
             },
             "pattern": {
              "fillmode": "overlay",
              "size": 10,
              "solidity": 0.2
             }
            },
            "type": "barpolar"
           }
          ],
          "carpet": [
           {
            "aaxis": {
             "endlinecolor": "rgb(51,51,51)",
             "gridcolor": "white",
             "linecolor": "white",
             "minorgridcolor": "white",
             "startlinecolor": "rgb(51,51,51)"
            },
            "baxis": {
             "endlinecolor": "rgb(51,51,51)",
             "gridcolor": "white",
             "linecolor": "white",
             "minorgridcolor": "white",
             "startlinecolor": "rgb(51,51,51)"
            },
            "type": "carpet"
           }
          ],
          "choropleth": [
           {
            "colorbar": {
             "outlinewidth": 0,
             "tickcolor": "rgb(237,237,237)",
             "ticklen": 6,
             "ticks": "inside"
            },
            "type": "choropleth"
           }
          ],
          "contour": [
           {
            "colorbar": {
             "outlinewidth": 0,
             "tickcolor": "rgb(237,237,237)",
             "ticklen": 6,
             "ticks": "inside"
            },
            "colorscale": [
             [
              0,
              "rgb(20,44,66)"
             ],
             [
              1,
              "rgb(90,179,244)"
             ]
            ],
            "type": "contour"
           }
          ],
          "contourcarpet": [
           {
            "colorbar": {
             "outlinewidth": 0,
             "tickcolor": "rgb(237,237,237)",
             "ticklen": 6,
             "ticks": "inside"
            },
            "type": "contourcarpet"
           }
          ],
          "heatmap": [
           {
            "colorbar": {
             "outlinewidth": 0,
             "tickcolor": "rgb(237,237,237)",
             "ticklen": 6,
             "ticks": "inside"
            },
            "colorscale": [
             [
              0,
              "rgb(20,44,66)"
             ],
             [
              1,
              "rgb(90,179,244)"
             ]
            ],
            "type": "heatmap"
           }
          ],
          "heatmapgl": [
           {
            "colorbar": {
             "outlinewidth": 0,
             "tickcolor": "rgb(237,237,237)",
             "ticklen": 6,
             "ticks": "inside"
            },
            "colorscale": [
             [
              0,
              "rgb(20,44,66)"
             ],
             [
              1,
              "rgb(90,179,244)"
             ]
            ],
            "type": "heatmapgl"
           }
          ],
          "histogram": [
           {
            "marker": {
             "pattern": {
              "fillmode": "overlay",
              "size": 10,
              "solidity": 0.2
             }
            },
            "type": "histogram"
           }
          ],
          "histogram2d": [
           {
            "colorbar": {
             "outlinewidth": 0,
             "tickcolor": "rgb(237,237,237)",
             "ticklen": 6,
             "ticks": "inside"
            },
            "colorscale": [
             [
              0,
              "rgb(20,44,66)"
             ],
             [
              1,
              "rgb(90,179,244)"
             ]
            ],
            "type": "histogram2d"
           }
          ],
          "histogram2dcontour": [
           {
            "colorbar": {
             "outlinewidth": 0,
             "tickcolor": "rgb(237,237,237)",
             "ticklen": 6,
             "ticks": "inside"
            },
            "colorscale": [
             [
              0,
              "rgb(20,44,66)"
             ],
             [
              1,
              "rgb(90,179,244)"
             ]
            ],
            "type": "histogram2dcontour"
           }
          ],
          "mesh3d": [
           {
            "colorbar": {
             "outlinewidth": 0,
             "tickcolor": "rgb(237,237,237)",
             "ticklen": 6,
             "ticks": "inside"
            },
            "type": "mesh3d"
           }
          ],
          "parcoords": [
           {
            "line": {
             "colorbar": {
              "outlinewidth": 0,
              "tickcolor": "rgb(237,237,237)",
              "ticklen": 6,
              "ticks": "inside"
             }
            },
            "type": "parcoords"
           }
          ],
          "pie": [
           {
            "automargin": true,
            "type": "pie"
           }
          ],
          "scatter": [
           {
            "fillpattern": {
             "fillmode": "overlay",
             "size": 10,
             "solidity": 0.2
            },
            "type": "scatter"
           }
          ],
          "scatter3d": [
           {
            "line": {
             "colorbar": {
              "outlinewidth": 0,
              "tickcolor": "rgb(237,237,237)",
              "ticklen": 6,
              "ticks": "inside"
             }
            },
            "marker": {
             "colorbar": {
              "outlinewidth": 0,
              "tickcolor": "rgb(237,237,237)",
              "ticklen": 6,
              "ticks": "inside"
             }
            },
            "type": "scatter3d"
           }
          ],
          "scattercarpet": [
           {
            "marker": {
             "colorbar": {
              "outlinewidth": 0,
              "tickcolor": "rgb(237,237,237)",
              "ticklen": 6,
              "ticks": "inside"
             }
            },
            "type": "scattercarpet"
           }
          ],
          "scattergeo": [
           {
            "marker": {
             "colorbar": {
              "outlinewidth": 0,
              "tickcolor": "rgb(237,237,237)",
              "ticklen": 6,
              "ticks": "inside"
             }
            },
            "type": "scattergeo"
           }
          ],
          "scattergl": [
           {
            "marker": {
             "colorbar": {
              "outlinewidth": 0,
              "tickcolor": "rgb(237,237,237)",
              "ticklen": 6,
              "ticks": "inside"
             }
            },
            "type": "scattergl"
           }
          ],
          "scattermapbox": [
           {
            "marker": {
             "colorbar": {
              "outlinewidth": 0,
              "tickcolor": "rgb(237,237,237)",
              "ticklen": 6,
              "ticks": "inside"
             }
            },
            "type": "scattermapbox"
           }
          ],
          "scatterpolar": [
           {
            "marker": {
             "colorbar": {
              "outlinewidth": 0,
              "tickcolor": "rgb(237,237,237)",
              "ticklen": 6,
              "ticks": "inside"
             }
            },
            "type": "scatterpolar"
           }
          ],
          "scatterpolargl": [
           {
            "marker": {
             "colorbar": {
              "outlinewidth": 0,
              "tickcolor": "rgb(237,237,237)",
              "ticklen": 6,
              "ticks": "inside"
             }
            },
            "type": "scatterpolargl"
           }
          ],
          "scatterternary": [
           {
            "marker": {
             "colorbar": {
              "outlinewidth": 0,
              "tickcolor": "rgb(237,237,237)",
              "ticklen": 6,
              "ticks": "inside"
             }
            },
            "type": "scatterternary"
           }
          ],
          "surface": [
           {
            "colorbar": {
             "outlinewidth": 0,
             "tickcolor": "rgb(237,237,237)",
             "ticklen": 6,
             "ticks": "inside"
            },
            "colorscale": [
             [
              0,
              "rgb(20,44,66)"
             ],
             [
              1,
              "rgb(90,179,244)"
             ]
            ],
            "type": "surface"
           }
          ],
          "table": [
           {
            "cells": {
             "fill": {
              "color": "rgb(237,237,237)"
             },
             "line": {
              "color": "white"
             }
            },
            "header": {
             "fill": {
              "color": "rgb(217,217,217)"
             },
             "line": {
              "color": "white"
             }
            },
            "type": "table"
           }
          ]
         },
         "layout": {
          "annotationdefaults": {
           "arrowhead": 0,
           "arrowwidth": 1
          },
          "autotypenumbers": "strict",
          "coloraxis": {
           "colorbar": {
            "outlinewidth": 0,
            "tickcolor": "rgb(237,237,237)",
            "ticklen": 6,
            "ticks": "inside"
           }
          },
          "colorscale": {
           "sequential": [
            [
             0,
             "rgb(20,44,66)"
            ],
            [
             1,
             "rgb(90,179,244)"
            ]
           ],
           "sequentialminus": [
            [
             0,
             "rgb(20,44,66)"
            ],
            [
             1,
             "rgb(90,179,244)"
            ]
           ]
          },
          "colorway": [
           "#F8766D",
           "#A3A500",
           "#00BF7D",
           "#00B0F6",
           "#E76BF3"
          ],
          "font": {
           "color": "rgb(51,51,51)"
          },
          "geo": {
           "bgcolor": "white",
           "lakecolor": "white",
           "landcolor": "rgb(237,237,237)",
           "showlakes": true,
           "showland": true,
           "subunitcolor": "white"
          },
          "hoverlabel": {
           "align": "left"
          },
          "hovermode": "closest",
          "paper_bgcolor": "white",
          "plot_bgcolor": "rgb(237,237,237)",
          "polar": {
           "angularaxis": {
            "gridcolor": "white",
            "linecolor": "white",
            "showgrid": true,
            "tickcolor": "rgb(51,51,51)",
            "ticks": "outside"
           },
           "bgcolor": "rgb(237,237,237)",
           "radialaxis": {
            "gridcolor": "white",
            "linecolor": "white",
            "showgrid": true,
            "tickcolor": "rgb(51,51,51)",
            "ticks": "outside"
           }
          },
          "scene": {
           "xaxis": {
            "backgroundcolor": "rgb(237,237,237)",
            "gridcolor": "white",
            "gridwidth": 2,
            "linecolor": "white",
            "showbackground": true,
            "showgrid": true,
            "tickcolor": "rgb(51,51,51)",
            "ticks": "outside",
            "zerolinecolor": "white"
           },
           "yaxis": {
            "backgroundcolor": "rgb(237,237,237)",
            "gridcolor": "white",
            "gridwidth": 2,
            "linecolor": "white",
            "showbackground": true,
            "showgrid": true,
            "tickcolor": "rgb(51,51,51)",
            "ticks": "outside",
            "zerolinecolor": "white"
           },
           "zaxis": {
            "backgroundcolor": "rgb(237,237,237)",
            "gridcolor": "white",
            "gridwidth": 2,
            "linecolor": "white",
            "showbackground": true,
            "showgrid": true,
            "tickcolor": "rgb(51,51,51)",
            "ticks": "outside",
            "zerolinecolor": "white"
           }
          },
          "shapedefaults": {
           "fillcolor": "black",
           "line": {
            "width": 0
           },
           "opacity": 0.3
          },
          "ternary": {
           "aaxis": {
            "gridcolor": "white",
            "linecolor": "white",
            "showgrid": true,
            "tickcolor": "rgb(51,51,51)",
            "ticks": "outside"
           },
           "baxis": {
            "gridcolor": "white",
            "linecolor": "white",
            "showgrid": true,
            "tickcolor": "rgb(51,51,51)",
            "ticks": "outside"
           },
           "bgcolor": "rgb(237,237,237)",
           "caxis": {
            "gridcolor": "white",
            "linecolor": "white",
            "showgrid": true,
            "tickcolor": "rgb(51,51,51)",
            "ticks": "outside"
           }
          },
          "xaxis": {
           "automargin": true,
           "gridcolor": "white",
           "linecolor": "white",
           "showgrid": true,
           "tickcolor": "rgb(51,51,51)",
           "ticks": "outside",
           "title": {
            "standoff": 15
           },
           "zerolinecolor": "white"
          },
          "yaxis": {
           "automargin": true,
           "gridcolor": "white",
           "linecolor": "white",
           "showgrid": true,
           "tickcolor": "rgb(51,51,51)",
           "ticks": "outside",
           "title": {
            "standoff": 15
           },
           "zerolinecolor": "white"
          }
         }
        },
        "title": {
         "text": "voteshare incumbent 1st diff"
        },
        "xaxis": {
         "anchor": "y",
         "domain": [
          0,
          1
         ],
         "title": {
          "text": "modeldate"
         }
        },
        "yaxis": {
         "anchor": "x",
         "domain": [
          0,
          1
         ],
         "title": {
          "text": "voteshare_inc diff"
         }
        }
       }
      }
     },
     "metadata": {},
     "output_type": "display_data"
    }
   ],
   "source": [
    "px.line(\n",
    "    df_cohort,\n",
    "    x=\"modeldate\",\n",
    "    y=[\"counterfactual\", \"oct_28_mover\"],\n",
    "    template=\"ggplot2\",\n",
    "    title=\"voteshare incumbent raw\",\n",
    ").update_layout(\n",
    "    yaxis_title=\"voteshare_inc\",\n",
    ").add_annotation(\n",
    "    x=df_cohort[\"modeldate\"].min(),\n",
    "    y=max(df_cohort[\"counterfactual\"].max(), df_cohort[\"oct_28_mover\"].max()),\n",
    "    text=f\"COHORT_1: {', '.join(COHORT_1)}<br>COHORT_2: {', '.join(COHORT_2)}\",\n",
    "    showarrow=False,\n",
    "    align='left',\n",
    ").show()\n",
    "px.line(\n",
    "    df_cohort,\n",
    "    x=\"modeldate\",\n",
    "    y=[\"counterfactual_diff\", \"oct_28_mover_diff\"],\n",
    "    template=\"ggplot2\",\n",
    "    title=\"voteshare incumbent 1st diff\",\n",
    ").update_layout(\n",
    "    yaxis_title=\"voteshare_inc diff\",\n",
    ").add_annotation(\n",
    "    x=df_cohort[\"modeldate\"].min(),\n",
    "    y=max(df_cohort[\"counterfactual_diff\"].max(), df_cohort[\"oct_28_mover_diff\"].max()),\n",
    "    text=f\"COHORT_1: {', '.join(COHORT_1)}<br>COHORT_2: {', '.join(COHORT_2)}\",\n",
    "    showarrow=False,\n",
    "    align='left',\n",
    ").show()\n"
   ]
  },
  {
   "cell_type": "code",
   "execution_count": 302,
   "metadata": {},
   "outputs": [
    {
     "data": {
      "application/vnd.plotly.v1+json": {
       "config": {
        "plotlyServerURL": "https://plot.ly"
       },
       "data": [
        {
         "hovertemplate": "modeldate=%{x}<br>corr=%{y}<extra></extra>",
         "legendgroup": "",
         "line": {
          "color": "#636efa",
          "dash": "solid"
         },
         "marker": {
          "symbol": "circle"
         },
         "mode": "lines",
         "name": "",
         "orientation": "v",
         "showlegend": false,
         "type": "scatter",
         "x": [
          "2024-09-23T00:00:00",
          "2024-09-24T00:00:00",
          "2024-09-25T00:00:00",
          "2024-09-26T00:00:00",
          "2024-09-27T00:00:00",
          "2024-09-28T00:00:00",
          "2024-09-29T00:00:00",
          "2024-09-30T00:00:00",
          "2024-10-01T00:00:00",
          "2024-10-02T00:00:00",
          "2024-10-03T00:00:00",
          "2024-10-04T00:00:00",
          "2024-10-05T00:00:00",
          "2024-10-06T00:00:00",
          "2024-10-07T00:00:00",
          "2024-10-08T00:00:00",
          "2024-10-09T00:00:00",
          "2024-10-10T00:00:00",
          "2024-10-11T00:00:00",
          "2024-10-12T00:00:00",
          "2024-10-13T00:00:00",
          "2024-10-14T00:00:00",
          "2024-10-15T00:00:00",
          "2024-10-16T00:00:00",
          "2024-10-17T00:00:00",
          "2024-10-18T00:00:00",
          "2024-10-19T00:00:00",
          "2024-10-20T00:00:00",
          "2024-10-21T00:00:00",
          "2024-10-22T00:00:00",
          "2024-10-23T00:00:00",
          "2024-10-24T00:00:00",
          "2024-10-25T00:00:00",
          "2024-10-26T00:00:00",
          "2024-10-27T00:00:00",
          "2024-10-28T00:00:00",
          "2024-10-29T00:00:00",
          "2024-10-30T00:00:00",
          "2024-10-31T00:00:00",
          "2024-11-01T00:00:00",
          "2024-11-02T00:00:00",
          "2024-11-03T00:00:00",
          "2024-11-04T00:00:00"
         ],
         "xaxis": "x",
         "y": [
          0.9526960916699065,
          0.9540245467715187,
          0.9555631785411787,
          0.9596431869466809,
          0.9641220783312302,
          0.9678429376103271,
          0.9685401998493869,
          0.9699024285347561,
          0.9730500851990473,
          0.975880997128066,
          0.9778646660425931,
          0.9808888226668703,
          0.9818957035939355,
          0.9819916419413939,
          0.9814617705987394,
          0.9795625107434448,
          0.9779000865434591,
          0.9749119203104647,
          0.9710160362916577,
          0.9659098316247943,
          0.9571924935860127,
          0.9465319032840679,
          0.9283025301142634,
          0.9044588062316268,
          0.8840202157302187,
          0.8498648117374477,
          0.8338209401352273,
          0.8390068718050573,
          0.860148282515459,
          0.8755036031904281,
          0.8974724909273432,
          0.9091255895949718,
          0.9204449182846884,
          0.9262168043973912,
          0.9327073313405714,
          0.938871027645829,
          0.9398669189304293,
          0.9388577821824536,
          0.935131145695071,
          0.9209458647029656,
          0.8975461393291774,
          0.8626025094767159,
          0.803795736249912
         ],
         "yaxis": "y"
        }
       ],
       "layout": {
        "annotations": [
         {
          "align": "left",
          "font": {
           "color": "grey",
           "size": 10
          },
          "showarrow": false,
          "text": "COHORT_1: Georgia, Michigan, Pennsylvania, Wisconsin<br>COHORT_2: Arizona, Florida, Nevada, North Carolina",
          "x": -0.08,
          "xref": "paper",
          "y": -0.15,
          "yref": "paper"
         },
         {
          "align": "right",
          "font": {
           "color": "grey",
           "size": 10
          },
          "opacity": 0.7,
          "showarrow": false,
          "text": "Chart by Dominic Tarro | 𝕏 @dominictarro<br>Source: Silver Bulletin 2024 presidential election forecast, Voteshare_Probabilities.xlsx",
          "x": 1.07,
          "xref": "paper",
          "y": -0.15,
          "yref": "paper"
         }
        ],
        "height": 600,
        "legend": {
         "tracegroupgap": 0
        },
        "paper_bgcolor": "#171717",
        "plot_bgcolor": "#171717",
        "showlegend": false,
        "template": {
         "data": {
          "bar": [
           {
            "error_x": {
             "color": "#f2f5fa"
            },
            "error_y": {
             "color": "#f2f5fa"
            },
            "marker": {
             "line": {
              "color": "rgb(17,17,17)",
              "width": 0.5
             },
             "pattern": {
              "fillmode": "overlay",
              "size": 10,
              "solidity": 0.2
             }
            },
            "type": "bar"
           }
          ],
          "barpolar": [
           {
            "marker": {
             "line": {
              "color": "rgb(17,17,17)",
              "width": 0.5
             },
             "pattern": {
              "fillmode": "overlay",
              "size": 10,
              "solidity": 0.2
             }
            },
            "type": "barpolar"
           }
          ],
          "carpet": [
           {
            "aaxis": {
             "endlinecolor": "#A2B1C6",
             "gridcolor": "#506784",
             "linecolor": "#506784",
             "minorgridcolor": "#506784",
             "startlinecolor": "#A2B1C6"
            },
            "baxis": {
             "endlinecolor": "#A2B1C6",
             "gridcolor": "#506784",
             "linecolor": "#506784",
             "minorgridcolor": "#506784",
             "startlinecolor": "#A2B1C6"
            },
            "type": "carpet"
           }
          ],
          "choropleth": [
           {
            "colorbar": {
             "outlinewidth": 0,
             "ticks": ""
            },
            "type": "choropleth"
           }
          ],
          "contour": [
           {
            "colorbar": {
             "outlinewidth": 0,
             "ticks": ""
            },
            "colorscale": [
             [
              0,
              "#0d0887"
             ],
             [
              0.1111111111111111,
              "#46039f"
             ],
             [
              0.2222222222222222,
              "#7201a8"
             ],
             [
              0.3333333333333333,
              "#9c179e"
             ],
             [
              0.4444444444444444,
              "#bd3786"
             ],
             [
              0.5555555555555556,
              "#d8576b"
             ],
             [
              0.6666666666666666,
              "#ed7953"
             ],
             [
              0.7777777777777778,
              "#fb9f3a"
             ],
             [
              0.8888888888888888,
              "#fdca26"
             ],
             [
              1,
              "#f0f921"
             ]
            ],
            "type": "contour"
           }
          ],
          "contourcarpet": [
           {
            "colorbar": {
             "outlinewidth": 0,
             "ticks": ""
            },
            "type": "contourcarpet"
           }
          ],
          "heatmap": [
           {
            "colorbar": {
             "outlinewidth": 0,
             "ticks": ""
            },
            "colorscale": [
             [
              0,
              "#0d0887"
             ],
             [
              0.1111111111111111,
              "#46039f"
             ],
             [
              0.2222222222222222,
              "#7201a8"
             ],
             [
              0.3333333333333333,
              "#9c179e"
             ],
             [
              0.4444444444444444,
              "#bd3786"
             ],
             [
              0.5555555555555556,
              "#d8576b"
             ],
             [
              0.6666666666666666,
              "#ed7953"
             ],
             [
              0.7777777777777778,
              "#fb9f3a"
             ],
             [
              0.8888888888888888,
              "#fdca26"
             ],
             [
              1,
              "#f0f921"
             ]
            ],
            "type": "heatmap"
           }
          ],
          "heatmapgl": [
           {
            "colorbar": {
             "outlinewidth": 0,
             "ticks": ""
            },
            "colorscale": [
             [
              0,
              "#0d0887"
             ],
             [
              0.1111111111111111,
              "#46039f"
             ],
             [
              0.2222222222222222,
              "#7201a8"
             ],
             [
              0.3333333333333333,
              "#9c179e"
             ],
             [
              0.4444444444444444,
              "#bd3786"
             ],
             [
              0.5555555555555556,
              "#d8576b"
             ],
             [
              0.6666666666666666,
              "#ed7953"
             ],
             [
              0.7777777777777778,
              "#fb9f3a"
             ],
             [
              0.8888888888888888,
              "#fdca26"
             ],
             [
              1,
              "#f0f921"
             ]
            ],
            "type": "heatmapgl"
           }
          ],
          "histogram": [
           {
            "marker": {
             "pattern": {
              "fillmode": "overlay",
              "size": 10,
              "solidity": 0.2
             }
            },
            "type": "histogram"
           }
          ],
          "histogram2d": [
           {
            "colorbar": {
             "outlinewidth": 0,
             "ticks": ""
            },
            "colorscale": [
             [
              0,
              "#0d0887"
             ],
             [
              0.1111111111111111,
              "#46039f"
             ],
             [
              0.2222222222222222,
              "#7201a8"
             ],
             [
              0.3333333333333333,
              "#9c179e"
             ],
             [
              0.4444444444444444,
              "#bd3786"
             ],
             [
              0.5555555555555556,
              "#d8576b"
             ],
             [
              0.6666666666666666,
              "#ed7953"
             ],
             [
              0.7777777777777778,
              "#fb9f3a"
             ],
             [
              0.8888888888888888,
              "#fdca26"
             ],
             [
              1,
              "#f0f921"
             ]
            ],
            "type": "histogram2d"
           }
          ],
          "histogram2dcontour": [
           {
            "colorbar": {
             "outlinewidth": 0,
             "ticks": ""
            },
            "colorscale": [
             [
              0,
              "#0d0887"
             ],
             [
              0.1111111111111111,
              "#46039f"
             ],
             [
              0.2222222222222222,
              "#7201a8"
             ],
             [
              0.3333333333333333,
              "#9c179e"
             ],
             [
              0.4444444444444444,
              "#bd3786"
             ],
             [
              0.5555555555555556,
              "#d8576b"
             ],
             [
              0.6666666666666666,
              "#ed7953"
             ],
             [
              0.7777777777777778,
              "#fb9f3a"
             ],
             [
              0.8888888888888888,
              "#fdca26"
             ],
             [
              1,
              "#f0f921"
             ]
            ],
            "type": "histogram2dcontour"
           }
          ],
          "mesh3d": [
           {
            "colorbar": {
             "outlinewidth": 0,
             "ticks": ""
            },
            "type": "mesh3d"
           }
          ],
          "parcoords": [
           {
            "line": {
             "colorbar": {
              "outlinewidth": 0,
              "ticks": ""
             }
            },
            "type": "parcoords"
           }
          ],
          "pie": [
           {
            "automargin": true,
            "type": "pie"
           }
          ],
          "scatter": [
           {
            "marker": {
             "line": {
              "color": "#283442"
             }
            },
            "type": "scatter"
           }
          ],
          "scatter3d": [
           {
            "line": {
             "colorbar": {
              "outlinewidth": 0,
              "ticks": ""
             }
            },
            "marker": {
             "colorbar": {
              "outlinewidth": 0,
              "ticks": ""
             }
            },
            "type": "scatter3d"
           }
          ],
          "scattercarpet": [
           {
            "marker": {
             "colorbar": {
              "outlinewidth": 0,
              "ticks": ""
             }
            },
            "type": "scattercarpet"
           }
          ],
          "scattergeo": [
           {
            "marker": {
             "colorbar": {
              "outlinewidth": 0,
              "ticks": ""
             }
            },
            "type": "scattergeo"
           }
          ],
          "scattergl": [
           {
            "marker": {
             "line": {
              "color": "#283442"
             }
            },
            "type": "scattergl"
           }
          ],
          "scattermapbox": [
           {
            "marker": {
             "colorbar": {
              "outlinewidth": 0,
              "ticks": ""
             }
            },
            "type": "scattermapbox"
           }
          ],
          "scatterpolar": [
           {
            "marker": {
             "colorbar": {
              "outlinewidth": 0,
              "ticks": ""
             }
            },
            "type": "scatterpolar"
           }
          ],
          "scatterpolargl": [
           {
            "marker": {
             "colorbar": {
              "outlinewidth": 0,
              "ticks": ""
             }
            },
            "type": "scatterpolargl"
           }
          ],
          "scatterternary": [
           {
            "marker": {
             "colorbar": {
              "outlinewidth": 0,
              "ticks": ""
             }
            },
            "type": "scatterternary"
           }
          ],
          "surface": [
           {
            "colorbar": {
             "outlinewidth": 0,
             "ticks": ""
            },
            "colorscale": [
             [
              0,
              "#0d0887"
             ],
             [
              0.1111111111111111,
              "#46039f"
             ],
             [
              0.2222222222222222,
              "#7201a8"
             ],
             [
              0.3333333333333333,
              "#9c179e"
             ],
             [
              0.4444444444444444,
              "#bd3786"
             ],
             [
              0.5555555555555556,
              "#d8576b"
             ],
             [
              0.6666666666666666,
              "#ed7953"
             ],
             [
              0.7777777777777778,
              "#fb9f3a"
             ],
             [
              0.8888888888888888,
              "#fdca26"
             ],
             [
              1,
              "#f0f921"
             ]
            ],
            "type": "surface"
           }
          ],
          "table": [
           {
            "cells": {
             "fill": {
              "color": "#506784"
             },
             "line": {
              "color": "rgb(17,17,17)"
             }
            },
            "header": {
             "fill": {
              "color": "#2a3f5f"
             },
             "line": {
              "color": "rgb(17,17,17)"
             }
            },
            "type": "table"
           }
          ]
         },
         "layout": {
          "annotationdefaults": {
           "arrowcolor": "#f2f5fa",
           "arrowhead": 0,
           "arrowwidth": 1
          },
          "autotypenumbers": "strict",
          "coloraxis": {
           "colorbar": {
            "outlinewidth": 0,
            "ticks": ""
           }
          },
          "colorscale": {
           "diverging": [
            [
             0,
             "#8e0152"
            ],
            [
             0.1,
             "#c51b7d"
            ],
            [
             0.2,
             "#de77ae"
            ],
            [
             0.3,
             "#f1b6da"
            ],
            [
             0.4,
             "#fde0ef"
            ],
            [
             0.5,
             "#f7f7f7"
            ],
            [
             0.6,
             "#e6f5d0"
            ],
            [
             0.7,
             "#b8e186"
            ],
            [
             0.8,
             "#7fbc41"
            ],
            [
             0.9,
             "#4d9221"
            ],
            [
             1,
             "#276419"
            ]
           ],
           "sequential": [
            [
             0,
             "#0d0887"
            ],
            [
             0.1111111111111111,
             "#46039f"
            ],
            [
             0.2222222222222222,
             "#7201a8"
            ],
            [
             0.3333333333333333,
             "#9c179e"
            ],
            [
             0.4444444444444444,
             "#bd3786"
            ],
            [
             0.5555555555555556,
             "#d8576b"
            ],
            [
             0.6666666666666666,
             "#ed7953"
            ],
            [
             0.7777777777777778,
             "#fb9f3a"
            ],
            [
             0.8888888888888888,
             "#fdca26"
            ],
            [
             1,
             "#f0f921"
            ]
           ],
           "sequentialminus": [
            [
             0,
             "#0d0887"
            ],
            [
             0.1111111111111111,
             "#46039f"
            ],
            [
             0.2222222222222222,
             "#7201a8"
            ],
            [
             0.3333333333333333,
             "#9c179e"
            ],
            [
             0.4444444444444444,
             "#bd3786"
            ],
            [
             0.5555555555555556,
             "#d8576b"
            ],
            [
             0.6666666666666666,
             "#ed7953"
            ],
            [
             0.7777777777777778,
             "#fb9f3a"
            ],
            [
             0.8888888888888888,
             "#fdca26"
            ],
            [
             1,
             "#f0f921"
            ]
           ]
          },
          "colorway": [
           "#636efa",
           "#EF553B",
           "#00cc96",
           "#ab63fa",
           "#FFA15A",
           "#19d3f3",
           "#FF6692",
           "#B6E880",
           "#FF97FF",
           "#FECB52"
          ],
          "font": {
           "color": "#f2f5fa"
          },
          "geo": {
           "bgcolor": "rgb(17,17,17)",
           "lakecolor": "rgb(17,17,17)",
           "landcolor": "rgb(17,17,17)",
           "showlakes": true,
           "showland": true,
           "subunitcolor": "#506784"
          },
          "hoverlabel": {
           "align": "left"
          },
          "hovermode": "closest",
          "mapbox": {
           "style": "dark"
          },
          "paper_bgcolor": "rgb(17,17,17)",
          "plot_bgcolor": "rgb(17,17,17)",
          "polar": {
           "angularaxis": {
            "gridcolor": "#506784",
            "linecolor": "#506784",
            "ticks": ""
           },
           "bgcolor": "rgb(17,17,17)",
           "radialaxis": {
            "gridcolor": "#506784",
            "linecolor": "#506784",
            "ticks": ""
           }
          },
          "scene": {
           "xaxis": {
            "backgroundcolor": "rgb(17,17,17)",
            "gridcolor": "#506784",
            "gridwidth": 2,
            "linecolor": "#506784",
            "showbackground": true,
            "ticks": "",
            "zerolinecolor": "#C8D4E3"
           },
           "yaxis": {
            "backgroundcolor": "rgb(17,17,17)",
            "gridcolor": "#506784",
            "gridwidth": 2,
            "linecolor": "#506784",
            "showbackground": true,
            "ticks": "",
            "zerolinecolor": "#C8D4E3"
           },
           "zaxis": {
            "backgroundcolor": "rgb(17,17,17)",
            "gridcolor": "#506784",
            "gridwidth": 2,
            "linecolor": "#506784",
            "showbackground": true,
            "ticks": "",
            "zerolinecolor": "#C8D4E3"
           }
          },
          "shapedefaults": {
           "line": {
            "color": "#f2f5fa"
           }
          },
          "sliderdefaults": {
           "bgcolor": "#C8D4E3",
           "bordercolor": "rgb(17,17,17)",
           "borderwidth": 1,
           "tickwidth": 0
          },
          "ternary": {
           "aaxis": {
            "gridcolor": "#506784",
            "linecolor": "#506784",
            "ticks": ""
           },
           "baxis": {
            "gridcolor": "#506784",
            "linecolor": "#506784",
            "ticks": ""
           },
           "bgcolor": "rgb(17,17,17)",
           "caxis": {
            "gridcolor": "#506784",
            "linecolor": "#506784",
            "ticks": ""
           }
          },
          "title": {
           "x": 0.05
          },
          "updatemenudefaults": {
           "bgcolor": "#506784",
           "borderwidth": 0
          },
          "xaxis": {
           "automargin": true,
           "gridcolor": "#283442",
           "linecolor": "#506784",
           "ticks": "",
           "title": {
            "standoff": 15
           },
           "zerolinecolor": "#283442",
           "zerolinewidth": 2
          },
          "yaxis": {
           "automargin": true,
           "gridcolor": "#283442",
           "linecolor": "#506784",
           "ticks": "",
           "title": {
            "standoff": 15
           },
           "zerolinecolor": "#283442",
           "zerolinewidth": 2
          }
         }
        },
        "title": {
         "text": "Rolling correlation of incumbent voteshare between swing state cohorts<br><sup>window=30</sup>"
        },
        "width": 1000,
        "xaxis": {
         "anchor": "y",
         "domain": [
          0,
          1
         ],
         "showgrid": false,
         "title": {}
        },
        "yaxis": {
         "anchor": "x",
         "domain": [
          0,
          1
         ],
         "title": {
          "text": "correlation (1st diff)"
         }
        }
       }
      }
     },
     "metadata": {},
     "output_type": "display_data"
    },
    {
     "data": {
      "application/vnd.plotly.v1+json": {
       "config": {
        "plotlyServerURL": "https://plot.ly"
       },
       "data": [
        {
         "hovertemplate": "modeldate=%{x}<br>corr_diff=%{y}<extra></extra>",
         "legendgroup": "",
         "line": {
          "color": "#636efa",
          "dash": "solid"
         },
         "marker": {
          "symbol": "circle"
         },
         "mode": "lines",
         "name": "",
         "orientation": "v",
         "showlegend": false,
         "type": "scatter",
         "x": [
          "2024-09-26T00:00:00",
          "2024-09-27T00:00:00",
          "2024-09-28T00:00:00",
          "2024-09-29T00:00:00",
          "2024-09-30T00:00:00",
          "2024-10-01T00:00:00",
          "2024-10-02T00:00:00",
          "2024-10-03T00:00:00",
          "2024-10-04T00:00:00",
          "2024-10-05T00:00:00",
          "2024-10-06T00:00:00",
          "2024-10-07T00:00:00",
          "2024-10-08T00:00:00",
          "2024-10-09T00:00:00",
          "2024-10-10T00:00:00",
          "2024-10-11T00:00:00",
          "2024-10-12T00:00:00",
          "2024-10-13T00:00:00",
          "2024-10-14T00:00:00",
          "2024-10-15T00:00:00",
          "2024-10-16T00:00:00",
          "2024-10-17T00:00:00",
          "2024-10-18T00:00:00",
          "2024-10-19T00:00:00",
          "2024-10-20T00:00:00",
          "2024-10-21T00:00:00",
          "2024-10-22T00:00:00",
          "2024-10-23T00:00:00",
          "2024-10-24T00:00:00",
          "2024-10-25T00:00:00",
          "2024-10-26T00:00:00",
          "2024-10-27T00:00:00",
          "2024-10-28T00:00:00",
          "2024-10-29T00:00:00",
          "2024-10-30T00:00:00",
          "2024-10-31T00:00:00",
          "2024-11-01T00:00:00",
          "2024-11-02T00:00:00",
          "2024-11-03T00:00:00",
          "2024-11-04T00:00:00"
         ],
         "xaxis": "x",
         "y": [
          0.9249076330860261,
          0.9254375780631569,
          0.9181432369127903,
          0.8982578527883619,
          0.8703711587502421,
          0.8713110301115954,
          0.863489763282021,
          0.8603425515076537,
          0.8576424392424393,
          0.8479090845037595,
          0.8263758781083111,
          0.8041078684425981,
          0.7503369337946698,
          0.7538204290084902,
          0.7883043034001354,
          0.79861237882339,
          0.8050552853668799,
          0.8032430731673572,
          0.8050909345407768,
          0.8080494292748412,
          0.8150283282531765,
          0.8131705219547579,
          0.7745284965665838,
          0.7422036461020188,
          0.6881826402689537,
          0.6123110843803448,
          0.5036610021292144,
          0.4674664476579654,
          0.4523661752842896,
          0.45363209154042516,
          0.38018988558306377,
          0.21246131864681922,
          0.061605624498409,
          -0.00619112240197548,
          0.0705817964809571,
          0.06761413788911072,
          0.09996821653358655,
          0.1281099629563316,
          0.1610241619294423,
          0.2833259597690407
         ],
         "yaxis": "y"
        }
       ],
       "layout": {
        "annotations": [
         {
          "align": "left",
          "font": {
           "color": "grey",
           "size": 10
          },
          "showarrow": false,
          "text": "COHORT_1: Georgia, Michigan, Pennsylvania, Wisconsin<br>COHORT_2: Arizona, Florida, Nevada, North Carolina",
          "x": -0.08,
          "xref": "paper",
          "y": -0.15,
          "yref": "paper"
         },
         {
          "align": "right",
          "font": {
           "color": "grey",
           "size": 10
          },
          "opacity": 0.7,
          "showarrow": false,
          "text": "Chart by Dominic Tarro | 𝕏 @dominictarro<br>Source: Silver Bulletin 2024 presidential election forecast, Voteshare_Probabilities.xlsx",
          "x": 1.07,
          "xref": "paper",
          "y": -0.15,
          "yref": "paper"
         }
        ],
        "height": 600,
        "legend": {
         "tracegroupgap": 0
        },
        "paper_bgcolor": "#171717",
        "plot_bgcolor": "#171717",
        "showlegend": false,
        "template": {
         "data": {
          "bar": [
           {
            "error_x": {
             "color": "#f2f5fa"
            },
            "error_y": {
             "color": "#f2f5fa"
            },
            "marker": {
             "line": {
              "color": "rgb(17,17,17)",
              "width": 0.5
             },
             "pattern": {
              "fillmode": "overlay",
              "size": 10,
              "solidity": 0.2
             }
            },
            "type": "bar"
           }
          ],
          "barpolar": [
           {
            "marker": {
             "line": {
              "color": "rgb(17,17,17)",
              "width": 0.5
             },
             "pattern": {
              "fillmode": "overlay",
              "size": 10,
              "solidity": 0.2
             }
            },
            "type": "barpolar"
           }
          ],
          "carpet": [
           {
            "aaxis": {
             "endlinecolor": "#A2B1C6",
             "gridcolor": "#506784",
             "linecolor": "#506784",
             "minorgridcolor": "#506784",
             "startlinecolor": "#A2B1C6"
            },
            "baxis": {
             "endlinecolor": "#A2B1C6",
             "gridcolor": "#506784",
             "linecolor": "#506784",
             "minorgridcolor": "#506784",
             "startlinecolor": "#A2B1C6"
            },
            "type": "carpet"
           }
          ],
          "choropleth": [
           {
            "colorbar": {
             "outlinewidth": 0,
             "ticks": ""
            },
            "type": "choropleth"
           }
          ],
          "contour": [
           {
            "colorbar": {
             "outlinewidth": 0,
             "ticks": ""
            },
            "colorscale": [
             [
              0,
              "#0d0887"
             ],
             [
              0.1111111111111111,
              "#46039f"
             ],
             [
              0.2222222222222222,
              "#7201a8"
             ],
             [
              0.3333333333333333,
              "#9c179e"
             ],
             [
              0.4444444444444444,
              "#bd3786"
             ],
             [
              0.5555555555555556,
              "#d8576b"
             ],
             [
              0.6666666666666666,
              "#ed7953"
             ],
             [
              0.7777777777777778,
              "#fb9f3a"
             ],
             [
              0.8888888888888888,
              "#fdca26"
             ],
             [
              1,
              "#f0f921"
             ]
            ],
            "type": "contour"
           }
          ],
          "contourcarpet": [
           {
            "colorbar": {
             "outlinewidth": 0,
             "ticks": ""
            },
            "type": "contourcarpet"
           }
          ],
          "heatmap": [
           {
            "colorbar": {
             "outlinewidth": 0,
             "ticks": ""
            },
            "colorscale": [
             [
              0,
              "#0d0887"
             ],
             [
              0.1111111111111111,
              "#46039f"
             ],
             [
              0.2222222222222222,
              "#7201a8"
             ],
             [
              0.3333333333333333,
              "#9c179e"
             ],
             [
              0.4444444444444444,
              "#bd3786"
             ],
             [
              0.5555555555555556,
              "#d8576b"
             ],
             [
              0.6666666666666666,
              "#ed7953"
             ],
             [
              0.7777777777777778,
              "#fb9f3a"
             ],
             [
              0.8888888888888888,
              "#fdca26"
             ],
             [
              1,
              "#f0f921"
             ]
            ],
            "type": "heatmap"
           }
          ],
          "heatmapgl": [
           {
            "colorbar": {
             "outlinewidth": 0,
             "ticks": ""
            },
            "colorscale": [
             [
              0,
              "#0d0887"
             ],
             [
              0.1111111111111111,
              "#46039f"
             ],
             [
              0.2222222222222222,
              "#7201a8"
             ],
             [
              0.3333333333333333,
              "#9c179e"
             ],
             [
              0.4444444444444444,
              "#bd3786"
             ],
             [
              0.5555555555555556,
              "#d8576b"
             ],
             [
              0.6666666666666666,
              "#ed7953"
             ],
             [
              0.7777777777777778,
              "#fb9f3a"
             ],
             [
              0.8888888888888888,
              "#fdca26"
             ],
             [
              1,
              "#f0f921"
             ]
            ],
            "type": "heatmapgl"
           }
          ],
          "histogram": [
           {
            "marker": {
             "pattern": {
              "fillmode": "overlay",
              "size": 10,
              "solidity": 0.2
             }
            },
            "type": "histogram"
           }
          ],
          "histogram2d": [
           {
            "colorbar": {
             "outlinewidth": 0,
             "ticks": ""
            },
            "colorscale": [
             [
              0,
              "#0d0887"
             ],
             [
              0.1111111111111111,
              "#46039f"
             ],
             [
              0.2222222222222222,
              "#7201a8"
             ],
             [
              0.3333333333333333,
              "#9c179e"
             ],
             [
              0.4444444444444444,
              "#bd3786"
             ],
             [
              0.5555555555555556,
              "#d8576b"
             ],
             [
              0.6666666666666666,
              "#ed7953"
             ],
             [
              0.7777777777777778,
              "#fb9f3a"
             ],
             [
              0.8888888888888888,
              "#fdca26"
             ],
             [
              1,
              "#f0f921"
             ]
            ],
            "type": "histogram2d"
           }
          ],
          "histogram2dcontour": [
           {
            "colorbar": {
             "outlinewidth": 0,
             "ticks": ""
            },
            "colorscale": [
             [
              0,
              "#0d0887"
             ],
             [
              0.1111111111111111,
              "#46039f"
             ],
             [
              0.2222222222222222,
              "#7201a8"
             ],
             [
              0.3333333333333333,
              "#9c179e"
             ],
             [
              0.4444444444444444,
              "#bd3786"
             ],
             [
              0.5555555555555556,
              "#d8576b"
             ],
             [
              0.6666666666666666,
              "#ed7953"
             ],
             [
              0.7777777777777778,
              "#fb9f3a"
             ],
             [
              0.8888888888888888,
              "#fdca26"
             ],
             [
              1,
              "#f0f921"
             ]
            ],
            "type": "histogram2dcontour"
           }
          ],
          "mesh3d": [
           {
            "colorbar": {
             "outlinewidth": 0,
             "ticks": ""
            },
            "type": "mesh3d"
           }
          ],
          "parcoords": [
           {
            "line": {
             "colorbar": {
              "outlinewidth": 0,
              "ticks": ""
             }
            },
            "type": "parcoords"
           }
          ],
          "pie": [
           {
            "automargin": true,
            "type": "pie"
           }
          ],
          "scatter": [
           {
            "marker": {
             "line": {
              "color": "#283442"
             }
            },
            "type": "scatter"
           }
          ],
          "scatter3d": [
           {
            "line": {
             "colorbar": {
              "outlinewidth": 0,
              "ticks": ""
             }
            },
            "marker": {
             "colorbar": {
              "outlinewidth": 0,
              "ticks": ""
             }
            },
            "type": "scatter3d"
           }
          ],
          "scattercarpet": [
           {
            "marker": {
             "colorbar": {
              "outlinewidth": 0,
              "ticks": ""
             }
            },
            "type": "scattercarpet"
           }
          ],
          "scattergeo": [
           {
            "marker": {
             "colorbar": {
              "outlinewidth": 0,
              "ticks": ""
             }
            },
            "type": "scattergeo"
           }
          ],
          "scattergl": [
           {
            "marker": {
             "line": {
              "color": "#283442"
             }
            },
            "type": "scattergl"
           }
          ],
          "scattermapbox": [
           {
            "marker": {
             "colorbar": {
              "outlinewidth": 0,
              "ticks": ""
             }
            },
            "type": "scattermapbox"
           }
          ],
          "scatterpolar": [
           {
            "marker": {
             "colorbar": {
              "outlinewidth": 0,
              "ticks": ""
             }
            },
            "type": "scatterpolar"
           }
          ],
          "scatterpolargl": [
           {
            "marker": {
             "colorbar": {
              "outlinewidth": 0,
              "ticks": ""
             }
            },
            "type": "scatterpolargl"
           }
          ],
          "scatterternary": [
           {
            "marker": {
             "colorbar": {
              "outlinewidth": 0,
              "ticks": ""
             }
            },
            "type": "scatterternary"
           }
          ],
          "surface": [
           {
            "colorbar": {
             "outlinewidth": 0,
             "ticks": ""
            },
            "colorscale": [
             [
              0,
              "#0d0887"
             ],
             [
              0.1111111111111111,
              "#46039f"
             ],
             [
              0.2222222222222222,
              "#7201a8"
             ],
             [
              0.3333333333333333,
              "#9c179e"
             ],
             [
              0.4444444444444444,
              "#bd3786"
             ],
             [
              0.5555555555555556,
              "#d8576b"
             ],
             [
              0.6666666666666666,
              "#ed7953"
             ],
             [
              0.7777777777777778,
              "#fb9f3a"
             ],
             [
              0.8888888888888888,
              "#fdca26"
             ],
             [
              1,
              "#f0f921"
             ]
            ],
            "type": "surface"
           }
          ],
          "table": [
           {
            "cells": {
             "fill": {
              "color": "#506784"
             },
             "line": {
              "color": "rgb(17,17,17)"
             }
            },
            "header": {
             "fill": {
              "color": "#2a3f5f"
             },
             "line": {
              "color": "rgb(17,17,17)"
             }
            },
            "type": "table"
           }
          ]
         },
         "layout": {
          "annotationdefaults": {
           "arrowcolor": "#f2f5fa",
           "arrowhead": 0,
           "arrowwidth": 1
          },
          "autotypenumbers": "strict",
          "coloraxis": {
           "colorbar": {
            "outlinewidth": 0,
            "ticks": ""
           }
          },
          "colorscale": {
           "diverging": [
            [
             0,
             "#8e0152"
            ],
            [
             0.1,
             "#c51b7d"
            ],
            [
             0.2,
             "#de77ae"
            ],
            [
             0.3,
             "#f1b6da"
            ],
            [
             0.4,
             "#fde0ef"
            ],
            [
             0.5,
             "#f7f7f7"
            ],
            [
             0.6,
             "#e6f5d0"
            ],
            [
             0.7,
             "#b8e186"
            ],
            [
             0.8,
             "#7fbc41"
            ],
            [
             0.9,
             "#4d9221"
            ],
            [
             1,
             "#276419"
            ]
           ],
           "sequential": [
            [
             0,
             "#0d0887"
            ],
            [
             0.1111111111111111,
             "#46039f"
            ],
            [
             0.2222222222222222,
             "#7201a8"
            ],
            [
             0.3333333333333333,
             "#9c179e"
            ],
            [
             0.4444444444444444,
             "#bd3786"
            ],
            [
             0.5555555555555556,
             "#d8576b"
            ],
            [
             0.6666666666666666,
             "#ed7953"
            ],
            [
             0.7777777777777778,
             "#fb9f3a"
            ],
            [
             0.8888888888888888,
             "#fdca26"
            ],
            [
             1,
             "#f0f921"
            ]
           ],
           "sequentialminus": [
            [
             0,
             "#0d0887"
            ],
            [
             0.1111111111111111,
             "#46039f"
            ],
            [
             0.2222222222222222,
             "#7201a8"
            ],
            [
             0.3333333333333333,
             "#9c179e"
            ],
            [
             0.4444444444444444,
             "#bd3786"
            ],
            [
             0.5555555555555556,
             "#d8576b"
            ],
            [
             0.6666666666666666,
             "#ed7953"
            ],
            [
             0.7777777777777778,
             "#fb9f3a"
            ],
            [
             0.8888888888888888,
             "#fdca26"
            ],
            [
             1,
             "#f0f921"
            ]
           ]
          },
          "colorway": [
           "#636efa",
           "#EF553B",
           "#00cc96",
           "#ab63fa",
           "#FFA15A",
           "#19d3f3",
           "#FF6692",
           "#B6E880",
           "#FF97FF",
           "#FECB52"
          ],
          "font": {
           "color": "#f2f5fa"
          },
          "geo": {
           "bgcolor": "rgb(17,17,17)",
           "lakecolor": "rgb(17,17,17)",
           "landcolor": "rgb(17,17,17)",
           "showlakes": true,
           "showland": true,
           "subunitcolor": "#506784"
          },
          "hoverlabel": {
           "align": "left"
          },
          "hovermode": "closest",
          "mapbox": {
           "style": "dark"
          },
          "paper_bgcolor": "rgb(17,17,17)",
          "plot_bgcolor": "rgb(17,17,17)",
          "polar": {
           "angularaxis": {
            "gridcolor": "#506784",
            "linecolor": "#506784",
            "ticks": ""
           },
           "bgcolor": "rgb(17,17,17)",
           "radialaxis": {
            "gridcolor": "#506784",
            "linecolor": "#506784",
            "ticks": ""
           }
          },
          "scene": {
           "xaxis": {
            "backgroundcolor": "rgb(17,17,17)",
            "gridcolor": "#506784",
            "gridwidth": 2,
            "linecolor": "#506784",
            "showbackground": true,
            "ticks": "",
            "zerolinecolor": "#C8D4E3"
           },
           "yaxis": {
            "backgroundcolor": "rgb(17,17,17)",
            "gridcolor": "#506784",
            "gridwidth": 2,
            "linecolor": "#506784",
            "showbackground": true,
            "ticks": "",
            "zerolinecolor": "#C8D4E3"
           },
           "zaxis": {
            "backgroundcolor": "rgb(17,17,17)",
            "gridcolor": "#506784",
            "gridwidth": 2,
            "linecolor": "#506784",
            "showbackground": true,
            "ticks": "",
            "zerolinecolor": "#C8D4E3"
           }
          },
          "shapedefaults": {
           "line": {
            "color": "#f2f5fa"
           }
          },
          "sliderdefaults": {
           "bgcolor": "#C8D4E3",
           "bordercolor": "rgb(17,17,17)",
           "borderwidth": 1,
           "tickwidth": 0
          },
          "ternary": {
           "aaxis": {
            "gridcolor": "#506784",
            "linecolor": "#506784",
            "ticks": ""
           },
           "baxis": {
            "gridcolor": "#506784",
            "linecolor": "#506784",
            "ticks": ""
           },
           "bgcolor": "rgb(17,17,17)",
           "caxis": {
            "gridcolor": "#506784",
            "linecolor": "#506784",
            "ticks": ""
           }
          },
          "title": {
           "x": 0.05
          },
          "updatemenudefaults": {
           "bgcolor": "#506784",
           "borderwidth": 0
          },
          "xaxis": {
           "automargin": true,
           "gridcolor": "#283442",
           "linecolor": "#506784",
           "ticks": "",
           "title": {
            "standoff": 15
           },
           "zerolinecolor": "#283442",
           "zerolinewidth": 2
          },
          "yaxis": {
           "automargin": true,
           "gridcolor": "#283442",
           "linecolor": "#506784",
           "ticks": "",
           "title": {
            "standoff": 15
           },
           "zerolinecolor": "#283442",
           "zerolinewidth": 2
          }
         }
        },
        "title": {
         "text": "Rolling correlation of incumbent voteshare between swing state cohorts<br><sup>window=30 lag=3</sup>"
        },
        "width": 1000,
        "xaxis": {
         "anchor": "y",
         "domain": [
          0,
          1
         ],
         "showgrid": false,
         "title": {}
        },
        "yaxis": {
         "anchor": "x",
         "domain": [
          0,
          1
         ],
         "title": {
          "text": "correlation (1st diff)"
         }
        }
       }
      }
     },
     "metadata": {},
     "output_type": "display_data"
    }
   ],
   "source": [
    "px.line(\n",
    "    df_cohort.filter(pl.col(\"corr\").is_not_null()),\n",
    "    x=\"modeldate\",\n",
    "    y=\"corr\",\n",
    "    template=\"plotly_dark\",\n",
    "    title=f\"Rolling correlation of incumbent voteshare between swing state cohorts<br><sup>window={WINDOW_SIZE}</sup>\",\n",
    "    width=1000,\n",
    "    height=600,\n",
    ").update_layout(\n",
    "    showlegend=False,\n",
    "    xaxis_title=None,\n",
    "    yaxis_title=\"correlation (1st diff)\",\n",
    "    plot_bgcolor=\"#171717\",\n",
    "    paper_bgcolor=\"#171717\",\n",
    "    xaxis_showgrid=False,\n",
    ").add_annotation(\n",
    "    x=-0.08,\n",
    "    y=-0.15,\n",
    "    xref=\"paper\",\n",
    "    yref=\"paper\",\n",
    "    text=f\"COHORT_1: {', '.join(COHORT_1)}<br>COHORT_2: {', '.join(COHORT_2)}\",\n",
    "    showarrow=False,\n",
    "    font=dict(\n",
    "        size=10,\n",
    "        color=\"grey\"\n",
    "    ),\n",
    "    align='left',\n",
    ").add_annotation(\n",
    "    x=1.07,\n",
    "    y=-0.15,\n",
    "    xref=\"paper\",\n",
    "    yref=\"paper\",\n",
    "    text=\"<br>\".join(\n",
    "        (\n",
    "            \"Chart by Dominic Tarro | 𝕏 @dominictarro\",\n",
    "            \"Source: Silver Bulletin 2024 presidential election forecast, Voteshare_Probabilities.xlsx\",\n",
    "        )\n",
    "    ),\n",
    "    align=\"right\",\n",
    "    showarrow=False,\n",
    "    font=dict(\n",
    "        size=10,\n",
    "        color=\"grey\"\n",
    "    ),\n",
    "    opacity=0.7\n",
    ").show()\n",
    "\n",
    "px.line(\n",
    "    df_cohort.filter(pl.col(\"corr_diff\").is_not_null()),\n",
    "    x=\"modeldate\",\n",
    "    y=\"corr_diff\",\n",
    "    template=\"plotly_dark\",\n",
    "    title=f\"Rolling correlation of incumbent voteshare between swing state cohorts<br><sup>window={WINDOW_SIZE} lag={DIFF_LAG}</sup>\",\n",
    "    width=1000,\n",
    "    height=600,\n",
    ").update_layout(\n",
    "    showlegend=False,\n",
    "    xaxis_title=None,\n",
    "    yaxis_title=\"correlation (1st diff)\",\n",
    "    plot_bgcolor=\"#171717\",\n",
    "    paper_bgcolor=\"#171717\",\n",
    "    xaxis_showgrid=False,\n",
    ").add_annotation(\n",
    "    x=-0.08,\n",
    "    y=-0.15,\n",
    "    xref=\"paper\",\n",
    "    yref=\"paper\",\n",
    "    text=f\"COHORT_1: {', '.join(COHORT_1)}<br>COHORT_2: {', '.join(COHORT_2)}\",\n",
    "    showarrow=False,\n",
    "    font=dict(\n",
    "        size=10,\n",
    "        color=\"grey\"\n",
    "    ),\n",
    "    align='left',\n",
    ").add_annotation(\n",
    "    x=1.07,\n",
    "    y=-0.15,\n",
    "    xref=\"paper\",\n",
    "    yref=\"paper\",\n",
    "    text=\"<br>\".join(\n",
    "        (\n",
    "            \"Chart by Dominic Tarro | 𝕏 @dominictarro\",\n",
    "            \"Source: Silver Bulletin 2024 presidential election forecast, Voteshare_Probabilities.xlsx\",\n",
    "        )\n",
    "    ),\n",
    "    align=\"right\",\n",
    "    showarrow=False,\n",
    "    font=dict(\n",
    "        size=10,\n",
    "        color=\"grey\"\n",
    "    ),\n",
    "    opacity=0.7\n",
    ").show()"
   ]
  },
  {
   "cell_type": "code",
   "execution_count": 303,
   "metadata": {},
   "outputs": [
    {
     "data": {
      "text/html": [
       "<div><style>\n",
       ".dataframe > thead > tr,\n",
       ".dataframe > tbody > tr {\n",
       "  text-align: right;\n",
       "  white-space: pre-wrap;\n",
       "}\n",
       "</style>\n",
       "<small>shape: (2_884, 18)</small><table border=\"1\" class=\"dataframe\"><thead><tr><th>state</th><th>modeldate</th><th>candidate_name</th><th>startdate</th><th>enddate</th><th>pollster</th><th>pollster_rating_id</th><th>samplesize</th><th>population</th><th>weight</th><th>influence</th><th>pct</th><th>house_adjusted_pct</th><th>trend_and_house_adjusted_pct</th><th>tracking</th><th>poll_id</th><th>question_id</th><th>is_trump</th></tr><tr><td>str</td><td>date</td><td>str</td><td>date</td><td>date</td><td>str</td><td>i64</td><td>f64</td><td>str</td><td>f64</td><td>f64</td><td>f64</td><td>f64</td><td>f64</td><td>str</td><td>i64</td><td>i64</td><td>bool</td></tr></thead><tbody><tr><td>&quot;Georgia&quot;</td><td>2024-11-04</td><td>&quot;Kamala Harris&quot;</td><td>2024-11-02</td><td>2024-11-03</td><td>&quot;InsiderAdvantage&quot;</td><td>243</td><td>800.0</td><td>&quot;lv&quot;</td><td>0.992316</td><td>0.992316</td><td>47.700001</td><td>48.28471</td><td>48.18829</td><td>null</td><td>89319</td><td>216169</td><td>false</td></tr><tr><td>&quot;Wisconsin&quot;</td><td>2024-11-04</td><td>&quot;Kamala Harris&quot;</td><td>2024-11-02</td><td>2024-11-03</td><td>&quot;Research Co.&quot;</td><td>449</td><td>450.0</td><td>&quot;lv&quot;</td><td>0.851658</td><td>0.851658</td><td>49.0</td><td>48.72274</td><td>48.731091</td><td>null</td><td>89330</td><td>216181</td><td>false</td></tr><tr><td>&quot;Michigan&quot;</td><td>2024-11-04</td><td>&quot;Kamala Harris&quot;</td><td>2024-11-02</td><td>2024-11-03</td><td>&quot;Research Co.&quot;</td><td>449</td><td>450.0</td><td>&quot;lv&quot;</td><td>0.851658</td><td>0.851658</td><td>49.0</td><td>48.524399</td><td>48.523842</td><td>null</td><td>89322</td><td>216173</td><td>false</td></tr><tr><td>&quot;California&quot;</td><td>2024-11-04</td><td>&quot;Kamala Harris&quot;</td><td>2024-11-02</td><td>2024-11-03</td><td>&quot;Research Co.&quot;</td><td>449</td><td>450.0</td><td>&quot;lv&quot;</td><td>0.851658</td><td>0.851658</td><td>64.0</td><td>63.042759</td><td>63.067558</td><td>null</td><td>89320</td><td>216171</td><td>false</td></tr><tr><td>&quot;Missouri&quot;</td><td>2024-11-04</td><td>&quot;Kamala Harris&quot;</td><td>2024-11-02</td><td>2024-11-03</td><td>&quot;Research Co.&quot;</td><td>449</td><td>450.0</td><td>&quot;lv&quot;</td><td>0.851658</td><td>0.851658</td><td>39.0</td><td>39.280392</td><td>39.284561</td><td>null</td><td>89324</td><td>216175</td><td>false</td></tr><tr><td>&hellip;</td><td>&hellip;</td><td>&hellip;</td><td>&hellip;</td><td>&hellip;</td><td>&hellip;</td><td>&hellip;</td><td>&hellip;</td><td>&hellip;</td><td>&hellip;</td><td>&hellip;</td><td>&hellip;</td><td>&hellip;</td><td>&hellip;</td><td>&hellip;</td><td>&hellip;</td><td>&hellip;</td><td>&hellip;</td></tr><tr><td>&quot;National&quot;</td><td>2024-11-04</td><td>&quot;Donald Trump&quot;</td><td>2024-07-01</td><td>2024-07-03</td><td>&quot;Data for Progress&quot;</td><td>522</td><td>2067.0</td><td>&quot;lv&quot;</td><td>1.084298</td><td>0.0</td><td>46.0</td><td>46.352669</td><td>47.28352</td><td>null</td><td>87366</td><td>202610</td><td>true</td></tr><tr><td>&quot;National&quot;</td><td>2024-11-04</td><td>&quot;Donald Trump&quot;</td><td>2024-06-28</td><td>2024-07-01</td><td>&quot;YouGov&quot;</td><td>391</td><td>1176.0</td><td>&quot;rv&quot;</td><td>1.084334</td><td>0.0</td><td>47.0</td><td>48.252861</td><td>49.207901</td><td>null</td><td>87298</td><td>201923</td><td>true</td></tr><tr><td>&quot;National&quot;</td><td>2024-11-04</td><td>&quot;Donald Trump&quot;</td><td>2024-06-28</td><td>2024-06-30</td><td>&quot;SSRS&quot;</td><td>297</td><td>1274.0</td><td>&quot;rv&quot;</td><td>0.947891</td><td>0.0</td><td>47.0</td><td>47.226521</td><td>48.090469</td><td>null</td><td>87294</td><td>201882</td><td>true</td></tr><tr><td>&quot;National&quot;</td><td>2024-11-04</td><td>&quot;Donald Trump&quot;</td><td>2024-06-28</td><td>2024-06-30</td><td>&quot;Harris Insights &amp; Analytics&quot;</td><td>133</td><td>1500.0</td><td>&quot;rv&quot;</td><td>1.174705</td><td>0.0</td><td>46.333328</td><td>45.17308</td><td>46.072189</td><td>null</td><td>87304</td><td>202057</td><td>true</td></tr><tr><td>&quot;National&quot;</td><td>2024-11-04</td><td>&quot;Donald Trump&quot;</td><td>2024-06-28</td><td>2024-06-28</td><td>&quot;Data for Progress&quot;</td><td>522</td><td>1011.0</td><td>&quot;lv&quot;</td><td>0.834933</td><td>0.0</td><td>48.0</td><td>48.353691</td><td>49.140148</td><td>null</td><td>87276</td><td>201737</td><td>true</td></tr></tbody></table></div>"
      ],
      "text/plain": [
       "shape: (2_884, 18)\n",
       "┌────────────┬────────────┬────────────┬───────────┬───┬──────────┬─────────┬───────────┬──────────┐\n",
       "│ state      ┆ modeldate  ┆ candidate_ ┆ startdate ┆ … ┆ tracking ┆ poll_id ┆ question_ ┆ is_trump │\n",
       "│ ---        ┆ ---        ┆ name       ┆ ---       ┆   ┆ ---      ┆ ---     ┆ id        ┆ ---      │\n",
       "│ str        ┆ date       ┆ ---        ┆ date      ┆   ┆ str      ┆ i64     ┆ ---       ┆ bool     │\n",
       "│            ┆            ┆ str        ┆           ┆   ┆          ┆         ┆ i64       ┆          │\n",
       "╞════════════╪════════════╪════════════╪═══════════╪═══╪══════════╪═════════╪═══════════╪══════════╡\n",
       "│ Georgia    ┆ 2024-11-04 ┆ Kamala     ┆ 2024-11-0 ┆ … ┆ null     ┆ 89319   ┆ 216169    ┆ false    │\n",
       "│            ┆            ┆ Harris     ┆ 2         ┆   ┆          ┆         ┆           ┆          │\n",
       "│ Wisconsin  ┆ 2024-11-04 ┆ Kamala     ┆ 2024-11-0 ┆ … ┆ null     ┆ 89330   ┆ 216181    ┆ false    │\n",
       "│            ┆            ┆ Harris     ┆ 2         ┆   ┆          ┆         ┆           ┆          │\n",
       "│ Michigan   ┆ 2024-11-04 ┆ Kamala     ┆ 2024-11-0 ┆ … ┆ null     ┆ 89322   ┆ 216173    ┆ false    │\n",
       "│            ┆            ┆ Harris     ┆ 2         ┆   ┆          ┆         ┆           ┆          │\n",
       "│ California ┆ 2024-11-04 ┆ Kamala     ┆ 2024-11-0 ┆ … ┆ null     ┆ 89320   ┆ 216171    ┆ false    │\n",
       "│            ┆            ┆ Harris     ┆ 2         ┆   ┆          ┆         ┆           ┆          │\n",
       "│ Missouri   ┆ 2024-11-04 ┆ Kamala     ┆ 2024-11-0 ┆ … ┆ null     ┆ 89324   ┆ 216175    ┆ false    │\n",
       "│            ┆            ┆ Harris     ┆ 2         ┆   ┆          ┆         ┆           ┆          │\n",
       "│ …          ┆ …          ┆ …          ┆ …         ┆ … ┆ …        ┆ …       ┆ …         ┆ …        │\n",
       "│ National   ┆ 2024-11-04 ┆ Donald     ┆ 2024-07-0 ┆ … ┆ null     ┆ 87366   ┆ 202610    ┆ true     │\n",
       "│            ┆            ┆ Trump      ┆ 1         ┆   ┆          ┆         ┆           ┆          │\n",
       "│ National   ┆ 2024-11-04 ┆ Donald     ┆ 2024-06-2 ┆ … ┆ null     ┆ 87298   ┆ 201923    ┆ true     │\n",
       "│            ┆            ┆ Trump      ┆ 8         ┆   ┆          ┆         ┆           ┆          │\n",
       "│ National   ┆ 2024-11-04 ┆ Donald     ┆ 2024-06-2 ┆ … ┆ null     ┆ 87294   ┆ 201882    ┆ true     │\n",
       "│            ┆            ┆ Trump      ┆ 8         ┆   ┆          ┆         ┆           ┆          │\n",
       "│ National   ┆ 2024-11-04 ┆ Donald     ┆ 2024-06-2 ┆ … ┆ null     ┆ 87304   ┆ 202057    ┆ true     │\n",
       "│            ┆            ┆ Trump      ┆ 8         ┆   ┆          ┆         ┆           ┆          │\n",
       "│ National   ┆ 2024-11-04 ┆ Donald     ┆ 2024-06-2 ┆ … ┆ null     ┆ 87276   ┆ 201737    ┆ true     │\n",
       "│            ┆            ┆ Trump      ┆ 8         ┆   ┆          ┆         ┆           ┆          │\n",
       "└────────────┴────────────┴────────────┴───────────┴───┴──────────┴─────────┴───────────┴──────────┘"
      ]
     },
     "execution_count": 303,
     "metadata": {},
     "output_type": "execute_result"
    }
   ],
   "source": [
    "poll = pl.read_excel(\"./Pres_Pollist.xlsx\", engine=\"xlsx2csv\", schema_overrides=dict(samplesize=pl.Float64, pct=pl.Float64))\\\n",
    "    .pipe(convert_modeldate_to_date)\\\n",
    "    .pipe(convert_modeldate_to_date, col=\"startdate\")\\\n",
    "    .pipe(convert_modeldate_to_date, col=\"enddate\")\\\n",
    "    .filter(pl.col(\"candidate_name\").str.starts_with(\"Convention Bounce\").not_())\\\n",
    "    .with_columns(\n",
    "        pl.col(\"candidate_name\").eq(\"Donald Trump\").alias(\"is_trump\"),\n",
    "    )\n",
    "poll"
   ]
  },
  {
   "cell_type": "code",
   "execution_count": 304,
   "metadata": {},
   "outputs": [
    {
     "data": {
      "text/html": [
       "<div><style>\n",
       ".dataframe > thead > tr,\n",
       ".dataframe > tbody > tr {\n",
       "  text-align: right;\n",
       "  white-space: pre-wrap;\n",
       "}\n",
       "</style>\n",
       "<small>shape: (511, 9)</small><table border=\"1\" class=\"dataframe\"><thead><tr><th>state</th><th>poll_id</th><th>harris_pct</th><th>trump_pct</th><th>harris_lead_pct</th><th>pollster</th><th>enddate</th><th>samplesize</th><th>influence</th></tr><tr><td>str</td><td>i64</td><td>f64</td><td>f64</td><td>f64</td><td>str</td><td>date</td><td>f64</td><td>f64</td></tr></thead><tbody><tr><td>&quot;Arizona&quot;</td><td>87990</td><td>48.400002</td><td>48.599998</td><td>-0.199997</td><td>&quot;InsiderAdvantage&quot;</td><td>2024-08-31</td><td>800.0</td><td>0.0</td></tr><tr><td>&quot;Arizona&quot;</td><td>88069</td><td>47.400002</td><td>47.25</td><td>0.150002</td><td>&quot;TIPP Insights&quot;</td><td>2024-09-05</td><td>949.0</td><td>0.0</td></tr><tr><td>&quot;Arizona&quot;</td><td>88085</td><td>46.889999</td><td>49.049999</td><td>-2.16</td><td>&quot;Morning Consult&quot;</td><td>2024-09-08</td><td>901.0</td><td>0.0</td></tr><tr><td>&quot;Arizona&quot;</td><td>88203</td><td>46.0</td><td>46.200001</td><td>-0.200001</td><td>&quot;Data Orbital&quot;</td><td>2024-09-09</td><td>550.0</td><td>0.0</td></tr><tr><td>&quot;Arizona&quot;</td><td>88114</td><td>46.0</td><td>47.0</td><td>-1.0</td><td>&quot;Redfield &amp; Wilton Strategies&quot;</td><td>2024-09-09</td><td>765.0</td><td>0.0</td></tr><tr><td>&hellip;</td><td>&hellip;</td><td>&hellip;</td><td>&hellip;</td><td>&hellip;</td><td>&hellip;</td><td>&hellip;</td><td>&hellip;</td><td>&hellip;</td></tr><tr><td>&quot;Wisconsin&quot;</td><td>89346</td><td>49.0</td><td>48.0</td><td>1.0</td><td>&quot;Florida Atlantic University/Ma…</td><td>2024-11-02</td><td>null</td><td>0.749424</td></tr><tr><td>&quot;Wisconsin&quot;</td><td>89304</td><td>48.0</td><td>49.0</td><td>-1.0</td><td>&quot;InsiderAdvantage&quot;</td><td>2024-11-02</td><td>800.0</td><td>0.79052</td></tr><tr><td>&quot;Wisconsin&quot;</td><td>89276</td><td>48.5</td><td>46.0</td><td>2.5</td><td>&quot;The New York Times/Siena Colle…</td><td>2024-11-02</td><td>1305.0</td><td>1.513228</td></tr><tr><td>&quot;Wisconsin&quot;</td><td>89330</td><td>49.0</td><td>46.0</td><td>3.0</td><td>&quot;Research Co.&quot;</td><td>2024-11-03</td><td>450.0</td><td>0.851658</td></tr><tr><td>&quot;Wisconsin&quot;</td><td>89314</td><td>48.200001</td><td>47.0</td><td>1.200001</td><td>&quot;Trafalgar Group&quot;</td><td>2024-11-03</td><td>1086.0</td><td>0.827207</td></tr></tbody></table></div>"
      ],
      "text/plain": [
       "shape: (511, 9)\n",
       "┌───────────┬─────────┬────────────┬───────────┬───┬───────────┬───────────┬───────────┬───────────┐\n",
       "│ state     ┆ poll_id ┆ harris_pct ┆ trump_pct ┆ … ┆ pollster  ┆ enddate   ┆ samplesiz ┆ influence │\n",
       "│ ---       ┆ ---     ┆ ---        ┆ ---       ┆   ┆ ---       ┆ ---       ┆ e         ┆ ---       │\n",
       "│ str       ┆ i64     ┆ f64        ┆ f64       ┆   ┆ str       ┆ date      ┆ ---       ┆ f64       │\n",
       "│           ┆         ┆            ┆           ┆   ┆           ┆           ┆ f64       ┆           │\n",
       "╞═══════════╪═════════╪════════════╪═══════════╪═══╪═══════════╪═══════════╪═══════════╪═══════════╡\n",
       "│ Arizona   ┆ 87990   ┆ 48.400002  ┆ 48.599998 ┆ … ┆ InsiderAd ┆ 2024-08-3 ┆ 800.0     ┆ 0.0       │\n",
       "│           ┆         ┆            ┆           ┆   ┆ vantage   ┆ 1         ┆           ┆           │\n",
       "│ Arizona   ┆ 88069   ┆ 47.400002  ┆ 47.25     ┆ … ┆ TIPP      ┆ 2024-09-0 ┆ 949.0     ┆ 0.0       │\n",
       "│           ┆         ┆            ┆           ┆   ┆ Insights  ┆ 5         ┆           ┆           │\n",
       "│ Arizona   ┆ 88085   ┆ 46.889999  ┆ 49.049999 ┆ … ┆ Morning   ┆ 2024-09-0 ┆ 901.0     ┆ 0.0       │\n",
       "│           ┆         ┆            ┆           ┆   ┆ Consult   ┆ 8         ┆           ┆           │\n",
       "│ Arizona   ┆ 88203   ┆ 46.0       ┆ 46.200001 ┆ … ┆ Data      ┆ 2024-09-0 ┆ 550.0     ┆ 0.0       │\n",
       "│           ┆         ┆            ┆           ┆   ┆ Orbital   ┆ 9         ┆           ┆           │\n",
       "│ Arizona   ┆ 88114   ┆ 46.0       ┆ 47.0      ┆ … ┆ Redfield  ┆ 2024-09-0 ┆ 765.0     ┆ 0.0       │\n",
       "│           ┆         ┆            ┆           ┆   ┆ & Wilton  ┆ 9         ┆           ┆           │\n",
       "│           ┆         ┆            ┆           ┆   ┆ Strategie ┆           ┆           ┆           │\n",
       "│           ┆         ┆            ┆           ┆   ┆ s         ┆           ┆           ┆           │\n",
       "│ …         ┆ …       ┆ …          ┆ …         ┆ … ┆ …         ┆ …         ┆ …         ┆ …         │\n",
       "│ Wisconsin ┆ 89346   ┆ 49.0       ┆ 48.0      ┆ … ┆ Florida   ┆ 2024-11-0 ┆ null      ┆ 0.749424  │\n",
       "│           ┆         ┆            ┆           ┆   ┆ Atlantic  ┆ 2         ┆           ┆           │\n",
       "│           ┆         ┆            ┆           ┆   ┆ Universit ┆           ┆           ┆           │\n",
       "│           ┆         ┆            ┆           ┆   ┆ y/Ma…     ┆           ┆           ┆           │\n",
       "│ Wisconsin ┆ 89304   ┆ 48.0       ┆ 49.0      ┆ … ┆ InsiderAd ┆ 2024-11-0 ┆ 800.0     ┆ 0.79052   │\n",
       "│           ┆         ┆            ┆           ┆   ┆ vantage   ┆ 2         ┆           ┆           │\n",
       "│ Wisconsin ┆ 89276   ┆ 48.5       ┆ 46.0      ┆ … ┆ The New   ┆ 2024-11-0 ┆ 1305.0    ┆ 1.513228  │\n",
       "│           ┆         ┆            ┆           ┆   ┆ York Time ┆ 2         ┆           ┆           │\n",
       "│           ┆         ┆            ┆           ┆   ┆ s/Siena   ┆           ┆           ┆           │\n",
       "│           ┆         ┆            ┆           ┆   ┆ Colle…    ┆           ┆           ┆           │\n",
       "│ Wisconsin ┆ 89330   ┆ 49.0       ┆ 46.0      ┆ … ┆ Research  ┆ 2024-11-0 ┆ 450.0     ┆ 0.851658  │\n",
       "│           ┆         ┆            ┆           ┆   ┆ Co.       ┆ 3         ┆           ┆           │\n",
       "│ Wisconsin ┆ 89314   ┆ 48.200001  ┆ 47.0      ┆ … ┆ Trafalgar ┆ 2024-11-0 ┆ 1086.0    ┆ 0.827207  │\n",
       "│           ┆         ┆            ┆           ┆   ┆ Group     ┆ 3         ┆           ┆           │\n",
       "└───────────┴─────────┴────────────┴───────────┴───┴───────────┴───────────┴───────────┴───────────┘"
      ]
     },
     "execution_count": 304,
     "metadata": {},
     "output_type": "execute_result"
    }
   ],
   "source": [
    "poll_swing = poll.filter(\n",
    "    pl.col(\"population\") == \"lv\",\n",
    "    pl.col(\"state\").is_in(SWING_STATES),\n",
    "    pl.col(\"startdate\") > datetime.date(2024, 8, 25),\n",
    ").pivot(\n",
    "    index=[\"state\", \"poll_id\"],\n",
    "    on=\"candidate_name\",\n",
    "    values=\"pct\",\n",
    ").rename(\n",
    "    {\n",
    "        \"Donald Trump\": \"trump_pct\",\n",
    "        \"Kamala Harris\": \"harris_pct\",\n",
    "    }\n",
    ").with_columns(\n",
    "    pl.col(\"harris_pct\").sub(pl.col(\"trump_pct\")).alias(\"harris_lead_pct\"),\n",
    ").join(\n",
    "    poll.group_by(\"poll_id\").first().select(\"poll_id\", \"pollster\", \"enddate\", \"samplesize\", \"influence\"),\n",
    "    on=\"poll_id\",\n",
    ").sort(\n",
    "    \"state\", \"enddate\", \"pollster\",\n",
    ")\n",
    "poll_swing"
   ]
  },
  {
   "cell_type": "code",
   "execution_count": 305,
   "metadata": {},
   "outputs": [
    {
     "data": {
      "text/html": [
       "<div><style>\n",
       ".dataframe > thead > tr,\n",
       ".dataframe > tbody > tr {\n",
       "  text-align: right;\n",
       "  white-space: pre-wrap;\n",
       "}\n",
       "</style>\n",
       "<small>shape: (4, 18)</small><table border=\"1\" class=\"dataframe\"><thead><tr><th>state</th><th>modeldate</th><th>candidate_name</th><th>startdate</th><th>enddate</th><th>pollster</th><th>pollster_rating_id</th><th>samplesize</th><th>population</th><th>weight</th><th>influence</th><th>pct</th><th>house_adjusted_pct</th><th>trend_and_house_adjusted_pct</th><th>tracking</th><th>poll_id</th><th>question_id</th><th>is_trump</th></tr><tr><td>str</td><td>date</td><td>str</td><td>date</td><td>date</td><td>str</td><td>i64</td><td>f64</td><td>str</td><td>f64</td><td>f64</td><td>f64</td><td>f64</td><td>f64</td><td>str</td><td>i64</td><td>i64</td><td>bool</td></tr></thead><tbody><tr><td>&quot;Iowa&quot;</td><td>2024-11-04</td><td>&quot;Kamala Harris&quot;</td><td>2024-10-28</td><td>2024-10-31</td><td>&quot;Selzer &amp; Co.&quot;</td><td>304</td><td>808.0</td><td>&quot;lv&quot;</td><td>1.496203</td><td>1.433688</td><td>47.0</td><td>46.938271</td><td>46.93187</td><td>null</td><td>89241</td><td>215768</td><td>false</td></tr><tr><td>&quot;Iowa&quot;</td><td>2024-11-04</td><td>&quot;Kamala Harris&quot;</td><td>2024-09-08</td><td>2024-09-11</td><td>&quot;Selzer &amp; Co.&quot;</td><td>304</td><td>656.0</td><td>&quot;lv&quot;</td><td>1.385807</td><td>0.247052</td><td>43.0</td><td>42.9389</td><td>42.622459</td><td>null</td><td>88179</td><td>209514</td><td>false</td></tr><tr><td>&quot;Iowa&quot;</td><td>2024-11-04</td><td>&quot;Donald Trump&quot;</td><td>2024-10-28</td><td>2024-10-31</td><td>&quot;Selzer &amp; Co.&quot;</td><td>304</td><td>808.0</td><td>&quot;lv&quot;</td><td>1.496203</td><td>1.433688</td><td>44.0</td><td>44.94072</td><td>44.90353</td><td>null</td><td>89241</td><td>215768</td><td>true</td></tr><tr><td>&quot;Iowa&quot;</td><td>2024-11-04</td><td>&quot;Donald Trump&quot;</td><td>2024-09-08</td><td>2024-09-11</td><td>&quot;Selzer &amp; Co.&quot;</td><td>304</td><td>656.0</td><td>&quot;lv&quot;</td><td>1.385807</td><td>0.247052</td><td>47.0</td><td>47.946571</td><td>48.840759</td><td>null</td><td>88179</td><td>209514</td><td>true</td></tr></tbody></table></div>"
      ],
      "text/plain": [
       "shape: (4, 18)\n",
       "┌───────┬────────────┬──────────────┬────────────┬───┬──────────┬─────────┬─────────────┬──────────┐\n",
       "│ state ┆ modeldate  ┆ candidate_na ┆ startdate  ┆ … ┆ tracking ┆ poll_id ┆ question_id ┆ is_trump │\n",
       "│ ---   ┆ ---        ┆ me           ┆ ---        ┆   ┆ ---      ┆ ---     ┆ ---         ┆ ---      │\n",
       "│ str   ┆ date       ┆ ---          ┆ date       ┆   ┆ str      ┆ i64     ┆ i64         ┆ bool     │\n",
       "│       ┆            ┆ str          ┆            ┆   ┆          ┆         ┆             ┆          │\n",
       "╞═══════╪════════════╪══════════════╪════════════╪═══╪══════════╪═════════╪═════════════╪══════════╡\n",
       "│ Iowa  ┆ 2024-11-04 ┆ Kamala       ┆ 2024-10-28 ┆ … ┆ null     ┆ 89241   ┆ 215768      ┆ false    │\n",
       "│       ┆            ┆ Harris       ┆            ┆   ┆          ┆         ┆             ┆          │\n",
       "│ Iowa  ┆ 2024-11-04 ┆ Kamala       ┆ 2024-09-08 ┆ … ┆ null     ┆ 88179   ┆ 209514      ┆ false    │\n",
       "│       ┆            ┆ Harris       ┆            ┆   ┆          ┆         ┆             ┆          │\n",
       "│ Iowa  ┆ 2024-11-04 ┆ Donald Trump ┆ 2024-10-28 ┆ … ┆ null     ┆ 89241   ┆ 215768      ┆ true     │\n",
       "│ Iowa  ┆ 2024-11-04 ┆ Donald Trump ┆ 2024-09-08 ┆ … ┆ null     ┆ 88179   ┆ 209514      ┆ true     │\n",
       "└───────┴────────────┴──────────────┴────────────┴───┴──────────┴─────────┴─────────────┴──────────┘"
      ]
     },
     "execution_count": 305,
     "metadata": {},
     "output_type": "execute_result"
    }
   ],
   "source": [
    "poll.filter(pl.col(\"pollster\") == \"Selzer & Co.\")"
   ]
  },
  {
   "cell_type": "code",
   "execution_count": 306,
   "metadata": {},
   "outputs": [
    {
     "data": {
      "application/vnd.plotly.v1+json": {
       "config": {
        "plotlyServerURL": "https://plot.ly"
       },
       "data": [
        {
         "customdata": [
          [
           "OnMessage Inc.",
           45,
           47,
           "2024-10-02T00:00:00"
          ],
          [
           "RMG Research",
           46,
           50,
           "2024-10-02T00:00:00"
          ],
          [
           "Redfield & Wilton Strategies",
           47,
           48,
           "2024-10-02T00:00:00"
          ],
          [
           "Emerson College",
           48.20000076293945,
           50.5,
           "2024-10-08T00:00:00"
          ],
          [
           "Fabrizio, Lee & Associates/McLaughlin & Associates",
           46,
           49,
           "2024-10-09T00:00:00"
          ],
          [
           "The New York Times/Siena College",
           45.5,
           50.5,
           "2024-10-10T00:00:00"
          ],
          [
           "Trafalgar Group",
           46,
           47.5,
           "2024-10-13T00:00:00"
          ],
          [
           "Redfield & Wilton Strategies",
           46,
           48,
           "2024-10-14T00:00:00"
          ],
          [
           "Morning Consult",
           49,
           48,
           "2024-10-15T00:00:00"
          ],
          [
           "The Washington Post",
           46,
           49,
           "2024-10-15T00:00:00"
          ],
          [
           "YouGov",
           48,
           51,
           "2024-10-16T00:00:00"
          ],
          [
           "AtlasIntel",
           48.95000076293945,
           49.20000076293945,
           "2024-10-17T00:00:00"
          ],
          [
           "Redfield & Wilton Strategies",
           46,
           49,
           "2024-10-18T00:00:00"
          ],
          [
           "HighGround Inc.",
           46.20000076293945,
           46.79999923706055,
           "2024-10-20T00:00:00"
          ],
          [
           "InsiderAdvantage",
           47,
           49.5,
           "2024-10-20T00:00:00"
          ],
          [
           "Morning Consult",
           48.5,
           48.5,
           "2024-10-20T00:00:00"
          ],
          [
           "Marist College",
           49,
           50,
           "2024-10-22T00:00:00"
          ],
          [
           "Redfield & Wilton Strategies",
           46,
           48,
           "2024-10-22T00:00:00"
          ],
          [
           "YouGov",
           47,
           51,
           "2024-10-25T00:00:00"
          ],
          [
           "SSRS",
           48,
           47,
           "2024-10-26T00:00:00"
          ],
          [
           "Trafalgar Group",
           46,
           48.099998474121094,
           "2024-10-26T00:00:00"
          ],
          [
           "Redfield & Wilton Strategies",
           47,
           49,
           "2024-10-27T00:00:00"
          ],
          [
           "Data Orbital",
           41.900001525878906,
           49.70000076293945,
           "2024-10-28T00:00:00"
          ],
          [
           "Mitchell Research & Communications",
           48,
           50,
           "2024-10-28T00:00:00"
          ],
          [
           "AtlasIntel",
           46.849998474121094,
           50.70000076293945,
           "2024-10-29T00:00:00"
          ],
          [
           "Rasmussen Reports",
           46,
           48,
           "2024-10-29T00:00:00"
          ],
          [
           "Data for Progress",
           47,
           48,
           "2024-10-30T00:00:00"
          ],
          [
           "Morning Consult",
           48.29999923706055,
           48.400001525878906,
           "2024-10-30T00:00:00"
          ],
          [
           "OH Predictive Insights",
           47,
           48,
           "2024-10-30T00:00:00"
          ],
          [
           "AtlasIntel",
           46.349998474121094,
           50.900001525878906,
           "2024-10-31T00:00:00"
          ],
          [
           "OnMessage Inc.",
           47,
           50,
           "2024-10-31T00:00:00"
          ],
          [
           "Redfield & Wilton Strategies",
           47,
           48,
           "2024-10-31T00:00:00"
          ],
          [
           "YouGov",
           48.5,
           49,
           "2024-10-31T00:00:00"
          ],
          [
           "AtlasIntel",
           45.45000076293945,
           52.099998474121094,
           "2024-11-02T00:00:00"
          ],
          [
           "Emerson College",
           48.70000076293945,
           50.79999923706055,
           "2024-11-02T00:00:00"
          ],
          [
           "InsiderAdvantage",
           46,
           49,
           "2024-11-02T00:00:00"
          ],
          [
           "The New York Times/Siena College",
           44.5,
           48.5,
           "2024-11-02T00:00:00"
          ],
          [
           "Victory Insights",
           48.400001525878906,
           49.20000076293945,
           "2024-11-03T00:00:00"
          ]
         ],
         "hovertemplate": "state=Arizona<br>samplesize=%{x}<br>influence=%{y}<br>pollster=%{customdata[0]}<br>harris_pct=%{customdata[1]}<br>trump_pct=%{customdata[2]}<br>enddate=%{customdata[3]}<br>harris_lead_pct=%{marker.color}<extra></extra>",
         "legendgroup": "",
         "marker": {
          "color": [
           -2,
           -4,
           -1,
           -2.299999237060547,
           -3,
           -5,
           -1.5,
           -2,
           1,
           -3,
           -3,
           -0.25,
           -3,
           -0.5999984741210938,
           -2.5,
           0,
           -1,
           -2,
           -4,
           1,
           -2.0999984741210938,
           -2,
           -7.799999237060547,
           -2,
           -3.8500022888183594,
           -2,
           -1,
           -0.10000228881835938,
           -1,
           -4.5500030517578125,
           -3,
           -1,
           -0.5,
           -6.649997711181641,
           -2.0999984741210938,
           -3,
           -4,
           -0.7999992370605469
          ],
          "coloraxis": "coloraxis",
          "symbol": "circle"
         },
         "mode": "markers",
         "name": "",
         "orientation": "v",
         "showlegend": false,
         "type": "scatter",
         "x": [
          500,
          783,
          555,
          1000,
          800,
          808,
          1090,
          1141,
          653,
          580,
          1435,
          1440,
          691,
          400,
          800,
          861,
          1193,
          710,
          2066,
          781,
          1094,
          901,
          550,
          610,
          1458,
          803,
          1079,
          666,
          775,
          1005,
          800,
          652,
          856,
          967,
          900,
          800,
          1025,
          750
         ],
         "xaxis": "x",
         "y": [
          0.0824035033583641,
          0.16929849982261658,
          0.08366350084543228,
          0.342136412858963,
          0.20364630222320557,
          0.4485951066017151,
          0.29319360852241516,
          0.19902409613132477,
          0.23178990185260773,
          0.33025071024894714,
          0.4211018979549408,
          0.6182972192764282,
          0.2003273069858551,
          0.44731178879737854,
          0.5015792846679688,
          0.38862499594688416,
          0.9159089922904968,
          0.24916699528694153,
          0.42300450801849365,
          0.6265373826026917,
          0.6193479895591736,
          0.37027791142463684,
          0.8706843852996826,
          0.5779364109039307,
          1.01780104637146,
          0.6846826076507568,
          0.966401994228363,
          0.5746477246284485,
          0.8601304292678833,
          1.0166399478912354,
          0.8275358080863953,
          0.4389601945877075,
          0.8777195811271667,
          1.091534972190857,
          1.2667180299758911,
          0.9023416042327881,
          1.381034016609192,
          0.8662264943122864
         ],
         "yaxis": "y"
        },
        {
         "customdata": [
          [
           "Redfield & Wilton Strategies",
           45,
           49,
           "2024-10-02T00:00:00"
          ],
          [
           "Mason-Dixon Polling & Strategy",
           43,
           49,
           "2024-10-04T00:00:00"
          ],
          [
           "The New York Times/Siena College",
           40.5,
           54,
           "2024-10-06T00:00:00"
          ],
          [
           "Marist College",
           47,
           51,
           "2024-10-07T00:00:00"
          ],
          [
           "Redfield & Wilton Strategies",
           44,
           50,
           "2024-10-14T00:00:00"
          ],
          [
           "RMG Research",
           47,
           52,
           "2024-10-17T00:00:00"
          ],
          [
           "YouGov",
           46,
           51,
           "2024-10-17T00:00:00"
          ],
          [
           "Redfield & Wilton Strategies",
           45,
           49,
           "2024-10-18T00:00:00"
          ],
          [
           "University of North Florida",
           43,
           53,
           "2024-10-18T00:00:00"
          ],
          [
           "Cherry Communications",
           45,
           51,
           "2024-10-20T00:00:00"
          ],
          [
           "Emerson College",
           45.900001525878906,
           53.599998474121094,
           "2024-10-20T00:00:00"
          ],
          [
           "Hunt Research",
           44.25,
           49.79999923706055,
           "2024-10-22T00:00:00"
          ],
          [
           "St. Pete Polls",
           44.599998474121094,
           50.29999923706055,
           "2024-10-25T00:00:00"
          ],
          [
           "YouGov",
           46,
           52,
           "2024-10-25T00:00:00"
          ],
          [
           "Florida Atlantic University/Mainstreet Research",
           44,
           53,
           "2024-10-27T00:00:00"
          ],
          [
           "Cygnal",
           43.099998474121094,
           48.20000076293945,
           "2024-10-28T00:00:00"
          ],
          [
           "Morning Consult",
           46.099998474121094,
           50.900001525878906,
           "2024-11-01T00:00:00"
          ],
          [
           "Stetson University",
           46,
           53,
           "2024-11-01T00:00:00"
          ],
          [
           "Victory Insights",
           46.900001525878906,
           51.20000076293945,
           "2024-11-02T00:00:00"
          ],
          [
           "Research Co.",
           44,
           51,
           "2024-11-03T00:00:00"
          ]
         ],
         "hovertemplate": "state=Florida<br>samplesize=%{x}<br>influence=%{y}<br>pollster=%{customdata[0]}<br>harris_pct=%{customdata[1]}<br>trump_pct=%{customdata[2]}<br>enddate=%{customdata[3]}<br>harris_lead_pct=%{marker.color}<extra></extra>",
         "legendgroup": "",
         "marker": {
          "color": [
           -4,
           -6,
           -13.5,
           -4,
           -6,
           -5,
           -5,
           -4,
           -10,
           -6,
           -7.6999969482421875,
           -5.549999237060547,
           -5.700000762939453,
           -6,
           -9,
           -5.100002288818359,
           -4.8000030517578125,
           -7,
           -4.299999237060547,
           -7
          ],
          "coloraxis": "coloraxis",
          "symbol": "circle"
         },
         "mode": "markers",
         "name": "",
         "orientation": "v",
         "showlegend": false,
         "type": "scatter",
         "x": [
          2946,
          625,
          622,
          1257,
          1009,
          788,
          1076,
          1275,
          977,
          614,
          860,
          1234,
          1227,
          5916,
          897,
          600,
          2022,
          452,
          400,
          450
         ],
         "xaxis": "x2",
         "y": [
          0.1236129030585289,
          0.21166129410266876,
          0.249126598238945,
          0.3855122923851013,
          0.23703120648860931,
          0.481936514377594,
          0.306554913520813,
          0.3644767999649048,
          0.5420178174972534,
          0.30081871151924133,
          0.7545886039733887,
          0.5538939833641052,
          0.9054291248321533,
          0.6061701774597168,
          0.6598821878433228,
          0.9674578905105591,
          1.0232950448989868,
          0.6443477869033813,
          0.7138816714286804,
          0.8516576290130615
         ],
         "yaxis": "y2"
        },
        {
         "customdata": [
          [
           "OnMessage Inc.",
           44,
           47,
           "2024-10-02T00:00:00"
          ],
          [
           "Redfield & Wilton Strategies",
           47,
           47,
           "2024-10-02T00:00:00"
          ],
          [
           "Emerson College",
           49.79999923706055,
           49.70000076293945,
           "2024-10-08T00:00:00"
          ],
          [
           "Trafalgar Group",
           44.900001525878906,
           46.20000076293945,
           "2024-10-08T00:00:00"
          ],
          [
           "Fabrizio, Lee & Associates/McLaughlin & Associates",
           45,
           50,
           "2024-10-09T00:00:00"
          ],
          [
           "Redfield & Wilton Strategies",
           47,
           48,
           "2024-10-09T00:00:00"
          ],
          [
           "RMG Research",
           47,
           50,
           "2024-10-10T00:00:00"
          ],
          [
           "East Carolina University",
           45.79999923706055,
           48.900001525878906,
           "2024-10-14T00:00:00"
          ],
          [
           "Quinnipiac University",
           45.5,
           52,
           "2024-10-14T00:00:00"
          ],
          [
           "Redfield & Wilton Strategies",
           47,
           47,
           "2024-10-14T00:00:00"
          ],
          [
           "Morning Consult",
           48,
           49,
           "2024-10-15T00:00:00"
          ],
          [
           "The Washington Post",
           51,
           47,
           "2024-10-15T00:00:00"
          ],
          [
           "TIPP Insights",
           48.650001525878906,
           48.5,
           "2024-10-16T00:00:00"
          ],
          [
           "University of Georgia",
           43.400001525878906,
           47,
           "2024-10-16T00:00:00"
          ],
          [
           "AtlasIntel",
           48.25,
           49.79999923706055,
           "2024-10-17T00:00:00"
          ],
          [
           "Redfield & Wilton Strategies",
           47,
           48,
           "2024-10-18T00:00:00"
          ],
          [
           "Morning Consult",
           48,
           49.5,
           "2024-10-20T00:00:00"
          ],
          [
           "Marist College",
           49,
           49,
           "2024-10-22T00:00:00"
          ],
          [
           "Redfield & Wilton Strategies",
           47,
           48,
           "2024-10-22T00:00:00"
          ],
          [
           "National Public Affairs",
           47,
           49,
           "2024-10-24T00:00:00"
          ],
          [
           "The Citadel",
           47,
           49,
           "2024-10-25T00:00:00"
          ],
          [
           "YouGov",
           46,
           51,
           "2024-10-25T00:00:00"
          ],
          [
           "Trafalgar Group",
           45.900001525878906,
           48.29999923706055,
           "2024-10-26T00:00:00"
          ],
          [
           "Redfield & Wilton Strategies",
           47,
           48,
           "2024-10-27T00:00:00"
          ],
          [
           "Rasmussen Reports",
           46,
           51,
           "2024-10-28T00:00:00"
          ],
          [
           "SSRS",
           47,
           48,
           "2024-10-28T00:00:00"
          ],
          [
           "AtlasIntel",
           47.29999923706055,
           50.54999923706055,
           "2024-10-29T00:00:00"
          ],
          [
           "Morning Consult",
           48,
           49.599998474121094,
           "2024-10-30T00:00:00"
          ],
          [
           "AtlasIntel",
           47.5,
           49.45000076293945,
           "2024-10-31T00:00:00"
          ],
          [
           "Data for Progress",
           49,
           48,
           "2024-10-31T00:00:00"
          ],
          [
           "Redfield & Wilton Strategies",
           47,
           48,
           "2024-10-31T00:00:00"
          ],
          [
           "YouGov",
           47.5,
           49,
           "2024-10-31T00:00:00"
          ],
          [
           "The New York Times/Siena College",
           47,
           46.5,
           "2024-11-01T00:00:00"
          ],
          [
           "AtlasIntel",
           47.20000076293945,
           49.349998474121094,
           "2024-11-02T00:00:00"
          ],
          [
           "Emerson College",
           49.29999923706055,
           49.79999923706055,
           "2024-11-02T00:00:00"
          ],
          [
           "InsiderAdvantage",
           47.70000076293945,
           48.70000076293945,
           "2024-11-03T00:00:00"
          ]
         ],
         "hovertemplate": "state=Georgia<br>samplesize=%{x}<br>influence=%{y}<br>pollster=%{customdata[0]}<br>harris_pct=%{customdata[1]}<br>trump_pct=%{customdata[2]}<br>enddate=%{customdata[3]}<br>harris_lead_pct=%{marker.color}<extra></extra>",
         "legendgroup": "",
         "marker": {
          "color": [
           -3,
           0,
           0.09999847412109375,
           -1.2999992370605469,
           -5,
           -1,
           -3,
           -3.1000022888183594,
           -6.5,
           0,
           -1,
           4,
           0.15000152587890625,
           -3.5999984741210938,
           -1.5499992370605469,
           -1,
           -1.5,
           0,
           -1,
           -2,
           -2,
           -5,
           -2.3999977111816406,
           -1,
           -5,
           -1,
           -3.25,
           -1.5999984741210938,
           -1.9500007629394531,
           1,
           -1,
           -1.5,
           0.5,
           -2.1499977111816406,
           -0.5,
           -1
          ],
          "coloraxis": "coloraxis",
          "symbol": "circle"
         },
         "mode": "markers",
         "name": "",
         "orientation": "v",
         "showlegend": false,
         "type": "scatter",
         "x": [
          500,
          3783,
          1000,
          1089,
          800,
          608,
          731,
          701,
          1328,
          637,
          1002,
          730,
          813,
          1000,
          1411,
          1019,
          855,
          1193,
          1168,
          829,
          1126,
          2663,
          1087,
          1112,
          910,
          732,
          1429,
          1009,
          1212,
          972,
          1779,
          939,
          1004,
          1174,
          800,
          800
         ],
         "xaxis": "x3",
         "y": [
          0.0824035033583641,
          0.12222269922494888,
          0.36936649680137634,
          0.24993379414081573,
          0.20364630222320557,
          0.10030979663133621,
          0.30246779322624207,
          0.38128650188446045,
          0.5143945813179016,
          0.12653130292892456,
          0.2587350010871887,
          0.3589574098587036,
          0.5826842784881592,
          0.41346868872642517,
          0.6090419888496399,
          0.19613860547542572,
          0.3682672083377838,
          0.9159089922904968,
          0.260329008102417,
          0.6109014749526978,
          0.5835800170898438,
          0.5599148869514465,
          0.6552249193191528,
          0.3461328148841858,
          0.7032517194747925,
          0.6670855283737183,
          0.9960957169532776,
          0.6401165127754211,
          1.0775330066680908,
          0.9401326179504395,
          0.5630316734313965,
          0.9577893018722534,
          1.3276920318603516,
          1.159409999847412,
          1.21903395652771,
          0.9923163056373596
         ],
         "yaxis": "y3"
        },
        {
         "customdata": [
          [
           "OnMessage Inc.",
           48,
           46,
           "2024-10-02T00:00:00"
          ],
          [
           "Redfield & Wilton Strategies",
           48,
           46,
           "2024-10-02T00:00:00"
          ],
          [
           "Glengariff Group",
           46.79999923706055,
           44.20000076293945,
           "2024-10-04T00:00:00"
          ],
          [
           "Quinnipiac University",
           47,
           50.5,
           "2024-10-07T00:00:00"
          ],
          [
           "Research Co.",
           51,
           48,
           "2024-10-07T00:00:00"
          ],
          [
           "Emerson College",
           49.70000076293945,
           49.599998474121094,
           "2024-10-08T00:00:00"
          ],
          [
           "Fabrizio Lee & Associates/Impact Research",
           47,
           47.5,
           "2024-10-08T00:00:00"
          ],
          [
           "Fabrizio, Lee & Associates/McLaughlin & Associates",
           48,
           49,
           "2024-10-09T00:00:00"
          ],
          [
           "InsiderAdvantage",
           46,
           48,
           "2024-10-09T00:00:00"
          ],
          [
           "Michigan State University/YouGov",
           52.400001525878906,
           47.599998474121094,
           "2024-10-10T00:00:00"
          ],
          [
           "Marketing Resource Group (MRG)",
           44.900001525878906,
           44,
           "2024-10-11T00:00:00"
          ],
          [
           "Mitchell Research & Communications",
           47.20000076293945,
           47.75,
           "2024-10-14T00:00:00"
          ],
          [
           "Rasmussen Reports",
           48,
           48,
           "2024-10-14T00:00:00"
          ],
          [
           "Redfield & Wilton Strategies",
           47,
           47,
           "2024-10-14T00:00:00"
          ],
          [
           "Morning Consult",
           49,
           47,
           "2024-10-15T00:00:00"
          ],
          [
           "The Washington Post",
           49,
           47,
           "2024-10-15T00:00:00"
          ],
          [
           "RMG Research",
           49,
           49,
           "2024-10-16T00:00:00"
          ],
          [
           "AtlasIntel",
           47.04999923706055,
           49.900001525878906,
           "2024-10-17T00:00:00"
          ],
          [
           "Bullfinch",
           52,
           44,
           "2024-10-17T00:00:00"
          ],
          [
           "Redfield & Wilton Strategies",
           47,
           47,
           "2024-10-18T00:00:00"
          ],
          [
           "Morning Consult",
           49.5,
           46,
           "2024-10-20T00:00:00"
          ],
          [
           "Trafalgar Group",
           44.20000076293945,
           46,
           "2024-10-20T00:00:00"
          ],
          [
           "Quinnipiac University",
           49.5,
           46,
           "2024-10-21T00:00:00"
          ],
          [
           "Redfield & Wilton Strategies",
           47,
           47,
           "2024-10-22T00:00:00"
          ],
          [
           "Glengariff Group",
           46.70000076293945,
           43.70000076293945,
           "2024-10-24T00:00:00"
          ],
          [
           "University of Massachusetts Lowell",
           49,
           45,
           "2024-10-24T00:00:00"
          ],
          [
           "YouGov",
           51,
           46,
           "2024-10-25T00:00:00"
          ],
          [
           "Emerson College",
           49.29999923706055,
           49.79999923706055,
           "2024-10-27T00:00:00"
          ],
          [
           "InsiderAdvantage",
           47.900001525878906,
           48.5,
           "2024-10-27T00:00:00"
          ],
          [
           "Redfield & Wilton Strategies",
           49,
           48,
           "2024-10-27T00:00:00"
          ],
          [
           "Suffolk University",
           47,
           47.400001525878906,
           "2024-10-27T00:00:00"
          ],
          [
           "Susquehanna Polling & Research Inc.",
           51.70000076293945,
           46.599998474121094,
           "2024-10-27T00:00:00"
          ],
          [
           "Beacon Research/Shaw & Co. Research",
           48.5,
           47.5,
           "2024-10-28T00:00:00"
          ],
          [
           "EPIC-MRA",
           48,
           45,
           "2024-10-28T00:00:00"
          ],
          [
           "SSRS",
           48,
           43,
           "2024-10-28T00:00:00"
          ],
          [
           "The Washington Post",
           47,
           46,
           "2024-10-28T00:00:00"
          ],
          [
           "AtlasIntel",
           48,
           49.25,
           "2024-10-29T00:00:00"
          ],
          [
           "Echelon Insights",
           47.5,
           47.5,
           "2024-10-30T00:00:00"
          ],
          [
           "Marist College",
           51,
           48,
           "2024-10-30T00:00:00"
          ],
          [
           "AtlasIntel",
           48.5,
           49.25,
           "2024-10-31T00:00:00"
          ],
          [
           "Morning Consult",
           48.5,
           47.5,
           "2024-10-31T00:00:00"
          ],
          [
           "OnMessage Inc.",
           48,
           48,
           "2024-10-31T00:00:00"
          ],
          [
           "Redfield & Wilton Strategies",
           47,
           47,
           "2024-10-31T00:00:00"
          ],
          [
           "YouGov",
           49,
           46,
           "2024-10-31T00:00:00"
          ],
          [
           "Rasmussen Reports",
           49,
           48,
           "2024-11-01T00:00:00"
          ],
          [
           "AtlasIntel",
           48,
           49.5,
           "2024-11-02T00:00:00"
          ],
          [
           "Emerson College",
           50.5,
           48.900001525878906,
           "2024-11-02T00:00:00"
          ],
          [
           "InsiderAdvantage",
           47,
           47,
           "2024-11-02T00:00:00"
          ],
          [
           "Mitchell Research & Communications",
           49.5,
           48,
           "2024-11-02T00:00:00"
          ],
          [
           "The New York Times/Siena College",
           46,
           46,
           "2024-11-02T00:00:00"
          ],
          [
           "Research Co.",
           49,
           47,
           "2024-11-03T00:00:00"
          ],
          [
           "Trafalgar Group",
           47.400001525878906,
           47.79999923706055,
           "2024-11-03T00:00:00"
          ]
         ],
         "hovertemplate": "state=Michigan<br>samplesize=%{x}<br>influence=%{y}<br>pollster=%{customdata[0]}<br>harris_pct=%{customdata[1]}<br>trump_pct=%{customdata[2]}<br>enddate=%{customdata[3]}<br>harris_lead_pct=%{marker.color}<extra></extra>",
         "legendgroup": "",
         "marker": {
          "color": [
           2,
           2,
           2.5999984741210938,
           -3.5,
           3,
           0.10000228881835938,
           -0.5,
           -1,
           -2,
           4.8000030517578125,
           0.9000015258789062,
           -0.5499992370605469,
           0,
           0,
           2,
           2,
           0,
           -2.8500022888183594,
           8,
           0,
           3.5,
           -1.7999992370605469,
           3.5,
           0,
           3,
           4,
           5,
           -0.5,
           -0.5999984741210938,
           1,
           -0.40000152587890625,
           5.100002288818359,
           1,
           3,
           5,
           1,
           -1.25,
           0,
           3,
           -0.75,
           1,
           0,
           0,
           3,
           1,
           -1.5,
           1.5999984741210938,
           0,
           1.5,
           0,
           2,
           -0.3999977111816406
          ],
          "coloraxis": "coloraxis",
          "symbol": "circle"
         },
         "mode": "markers",
         "name": "",
         "orientation": "v",
         "showlegend": false,
         "type": "scatter",
         "x": [
          500,
          839,
          600,
          1007,
          450,
          950,
          600,
          800,
          800,
          845,
          600,
          589,
          1058,
          682,
          1065,
          687,
          789,
          1529,
          600,
          1008,
          705,
          1090,
          1136,
          1115,
          600,
          600,
          2336,
          1000,
          800,
          728,
          500,
          400,
          988,
          600,
          726,
          1003,
          983,
          600,
          1214,
          1136,
          1108,
          800,
          1731,
          942,
          908,
          1198,
          790,
          800,
          585,
          998,
          450,
          1079
         ],
         "xaxis": "x4",
         "y": [
          0.0824035033583641,
          0.09421460330486298,
          0.17806300520896912,
          0.30220529437065125,
          0.2038636952638626,
          0.35135769844055176,
          0.2148313969373703,
          0.20364630222320557,
          0.25664061307907104,
          0.1525752991437912,
          0.23849740624427795,
          0.19826890528202057,
          0.28681838512420654,
          0.15599429607391357,
          0.26624131202697754,
          0.34550490975379944,
          0.39004358649253845,
          0.6321629881858826,
          0.3534235954284668,
          0.2193250060081482,
          0.3473680019378662,
          0.42500540614128113,
          0.7350826859474182,
          0.27579259872436523,
          0.6563217043876648,
          0.697544276714325,
          0.5403038263320923,
          0.9292902946472168,
          0.612515926361084,
          0.3107069134712219,
          0.8065971732139587,
          0.6917337775230408,
          1.1122119426727295,
          0.7964637875556946,
          0.6658397912979126,
          1.1728359460830688,
          0.8742560148239136,
          0.8907127976417542,
          1.3183480501174927,
          1.06734299659729,
          0.7075402140617371,
          0.8275358080863953,
          0.5778616070747375,
          0.9617754817008972,
          0.6715741157531738,
          1.1861740350723267,
          1.0691299438476562,
          0.7905200123786926,
          0.41365501284599304,
          1.462380051612854,
          0.8516576290130615,
          0.8257929086685181
         ],
         "yaxis": "y4"
        },
        {
         "customdata": [
          [
           "OnMessage Inc.",
           45,
           47,
           "2024-10-02T00:00:00"
          ],
          [
           "Redfield & Wilton Strategies",
           48,
           47,
           "2024-10-02T00:00:00"
          ],
          [
           "RMG Research",
           49,
           49,
           "2024-10-03T00:00:00"
          ],
          [
           "Emerson College",
           49.20000076293945,
           48.099998474121094,
           "2024-10-08T00:00:00"
          ],
          [
           "Fabrizio, Lee & Associates/McLaughlin & Associates",
           47,
           50,
           "2024-10-09T00:00:00"
          ],
          [
           "Trafalgar Group",
           45.599998474121094,
           44.79999923706055,
           "2024-10-13T00:00:00"
          ],
          [
           "Rasmussen Reports",
           47,
           49,
           "2024-10-14T00:00:00"
          ],
          [
           "Redfield & Wilton Strategies",
           47,
           47,
           "2024-10-14T00:00:00"
          ],
          [
           "Fabrizio Lee & Associates/Impact Research",
           46.5,
           48,
           "2024-10-15T00:00:00"
          ],
          [
           "Morning Consult",
           49,
           45,
           "2024-10-15T00:00:00"
          ],
          [
           "The Washington Post",
           48,
           48,
           "2024-10-15T00:00:00"
          ],
          [
           "AtlasIntel",
           48.25,
           48.349998474121094,
           "2024-10-17T00:00:00"
          ],
          [
           "Redfield & Wilton Strategies",
           46,
           47,
           "2024-10-18T00:00:00"
          ],
          [
           "InsiderAdvantage",
           47.70000076293945,
           47.900001525878906,
           "2024-10-20T00:00:00"
          ],
          [
           "Morning Consult",
           48.5,
           48,
           "2024-10-20T00:00:00"
          ],
          [
           "OnMessage Inc.",
           47,
           50,
           "2024-10-22T00:00:00"
          ],
          [
           "Redfield & Wilton Strategies",
           46,
           47,
           "2024-10-22T00:00:00"
          ],
          [
           "YouGov",
           51,
           47,
           "2024-10-25T00:00:00"
          ],
          [
           "SSRS",
           47,
           48,
           "2024-10-26T00:00:00"
          ],
          [
           "Redfield & Wilton Strategies",
           47,
           47,
           "2024-10-27T00:00:00"
          ],
          [
           "Trafalgar Group",
           47.79999923706055,
           47.599998474121094,
           "2024-10-28T00:00:00"
          ],
          [
           "AtlasIntel",
           47.54999923706055,
           48.45000076293945,
           "2024-10-29T00:00:00"
          ],
          [
           "Data for Progress",
           49,
           47,
           "2024-10-30T00:00:00"
          ],
          [
           "Rasmussen Reports",
           47,
           49,
           "2024-10-30T00:00:00"
          ],
          [
           "AtlasIntel",
           46.95000076293945,
           50.54999923706055,
           "2024-10-31T00:00:00"
          ],
          [
           "Emerson College",
           48.599998474121094,
           48.29999923706055,
           "2024-10-31T00:00:00"
          ],
          [
           "OH Predictive Insights",
           49,
           48,
           "2024-10-31T00:00:00"
          ],
          [
           "Redfield & Wilton Strategies",
           47,
           48,
           "2024-10-31T00:00:00"
          ],
          [
           "Susquehanna Polling & Research Inc.",
           44.20000076293945,
           50.20000076293945,
           "2024-10-31T00:00:00"
          ],
          [
           "YouGov",
           49,
           48,
           "2024-10-31T00:00:00"
          ],
          [
           "AtlasIntel",
           45.95000076293945,
           51.45000076293945,
           "2024-11-02T00:00:00"
          ],
          [
           "Emerson College",
           48.900001525878906,
           49,
           "2024-11-02T00:00:00"
          ],
          [
           "The New York Times/Siena College",
           48.5,
           46,
           "2024-11-02T00:00:00"
          ]
         ],
         "hovertemplate": "state=Nevada<br>samplesize=%{x}<br>influence=%{y}<br>pollster=%{customdata[0]}<br>harris_pct=%{customdata[1]}<br>trump_pct=%{customdata[2]}<br>enddate=%{customdata[3]}<br>harris_lead_pct=%{marker.color}<extra></extra>",
         "legendgroup": "",
         "marker": {
          "color": [
           -2,
           1,
           0,
           1.1000022888183594,
           -3,
           0.7999992370605469,
           -2,
           0,
           -1.5,
           4,
           0,
           -0.09999847412109375,
           -1,
           -0.20000076293945312,
           0.5,
           -3,
           -1,
           4,
           -1,
           0,
           0.20000076293945312,
           -0.9000015258789062,
           2,
           -2,
           -3.5999984741210938,
           0.2999992370605469,
           1,
           -1,
           -6,
           1,
           -5.5,
           -0.09999847412109375,
           2.5
          ],
          "coloraxis": "coloraxis",
          "symbol": "circle"
         },
         "mode": "markers",
         "name": "",
         "orientation": "v",
         "showlegend": false,
         "type": "scatter",
         "x": [
          500,
          514,
          782,
          900,
          800,
          1088,
          748,
          838,
          600,
          496,
          652,
          1171,
          529,
          800,
          420,
          600,
          540,
          933,
          683,
          531,
          1082,
          1083,
          721,
          767,
          845,
          700,
          593,
          690,
          400,
          773,
          782,
          840,
          1010
         ],
         "xaxis": "x5",
         "y": [
          0.056526798754930496,
          0.06134159862995148,
          0.13509470224380493,
          0.31471380591392517,
          0.1882224977016449,
          0.28213268518447876,
          0.2542966902256012,
          0.18302009999752045,
          0.30555829405784607,
          0.23510929942131042,
          0.31155771017074585,
          0.5720707774162292,
          0.19245600700378418,
          0.6076297163963318,
          0.36987990140914917,
          0.43604540824890137,
          0.24286270141601562,
          0.39818379282951355,
          0.615522027015686,
          0.32878750562667847,
          0.6999282836914062,
          0.9527317881584167,
          0.8856709003448486,
          0.6671317219734192,
          1.0048710107803345,
          0.9569981098175049,
          0.8492326140403748,
          0.4887070953845978,
          0.8460556864738464,
          0.9434996843338013,
          1.0634180307388306,
          1.1003140211105347,
          1.4088209867477417
         ],
         "yaxis": "y5"
        },
        {
         "customdata": [
          [
           "Redfield & Wilton Strategies",
           45,
           47,
           "2024-10-02T00:00:00"
          ],
          [
           "Emerson College",
           49,
           49.900001525878906,
           "2024-10-08T00:00:00"
          ],
          [
           "Fabrizio, Lee & Associates/McLaughlin & Associates",
           47,
           48,
           "2024-10-09T00:00:00"
          ],
          [
           "Trafalgar Group",
           44.599998474121094,
           46.5,
           "2024-10-13T00:00:00"
          ],
          [
           "Cygnal",
           46.599998474121094,
           47.20000076293945,
           "2024-10-14T00:00:00"
          ],
          [
           "Quinnipiac University",
           49.5,
           47,
           "2024-10-14T00:00:00"
          ],
          [
           "Rasmussen Reports",
           46,
           51,
           "2024-10-14T00:00:00"
          ],
          [
           "Redfield & Wilton Strategies",
           46,
           48,
           "2024-10-14T00:00:00"
          ],
          [
           "Morning Consult",
           48,
           49,
           "2024-10-15T00:00:00"
          ],
          [
           "The Washington Post",
           47,
           50,
           "2024-10-15T00:00:00"
          ],
          [
           "AtlasIntel",
           50,
           48.79999923706055,
           "2024-10-17T00:00:00"
          ],
          [
           "Redfield & Wilton Strategies",
           45,
           48,
           "2024-10-18T00:00:00"
          ],
          [
           "InsiderAdvantage",
           46.79999923706055,
           48.70000076293945,
           "2024-10-20T00:00:00"
          ],
          [
           "Morning Consult",
           48,
           49.5,
           "2024-10-20T00:00:00"
          ],
          [
           "Emerson College",
           48.20000076293945,
           50.20000076293945,
           "2024-10-22T00:00:00"
          ],
          [
           "Marist College",
           48,
           50,
           "2024-10-22T00:00:00"
          ],
          [
           "Redfield & Wilton Strategies",
           47,
           48,
           "2024-10-22T00:00:00"
          ],
          [
           "University of Massachusetts Lowell",
           45,
           47,
           "2024-10-23T00:00:00"
          ],
          [
           "YouGov",
           48,
           50,
           "2024-10-25T00:00:00"
          ],
          [
           "SurveyUSA",
           47,
           47,
           "2024-10-26T00:00:00"
          ],
          [
           "Redfield & Wilton Strategies",
           46,
           48,
           "2024-10-27T00:00:00"
          ],
          [
           "Beacon Research/Shaw & Co. Research",
           48,
           49.5,
           "2024-10-28T00:00:00"
          ],
          [
           "SSRS",
           48,
           47,
           "2024-10-28T00:00:00"
          ],
          [
           "Trafalgar Group",
           46.20000076293945,
           49.400001525878906,
           "2024-10-28T00:00:00"
          ],
          [
           "AtlasIntel",
           48.70000076293945,
           48.400001525878906,
           "2024-10-29T00:00:00"
          ],
          [
           "East Carolina University",
           48.29999923706055,
           50.29999923706055,
           "2024-10-29T00:00:00"
          ],
          [
           "Rasmussen Reports",
           47,
           50,
           "2024-10-30T00:00:00"
          ],
          [
           "AtlasIntel",
           46.849998474121094,
           50.70000076293945,
           "2024-10-31T00:00:00"
          ],
          [
           "Redfield & Wilton Strategies",
           47,
           48,
           "2024-10-31T00:00:00"
          ],
          [
           "YouGov",
           48.5,
           49.5,
           "2024-10-31T00:00:00"
          ],
          [
           "Morning Consult",
           47.400001525878906,
           49.20000076293945,
           "2024-11-01T00:00:00"
          ],
          [
           "AtlasIntel",
           46.95000076293945,
           50.45000076293945,
           "2024-11-02T00:00:00"
          ],
          [
           "Emerson College",
           49.29999923706055,
           49.70000076293945,
           "2024-11-02T00:00:00"
          ],
          [
           "InsiderAdvantage",
           47,
           49,
           "2024-11-02T00:00:00"
          ],
          [
           "The New York Times/Siena College",
           48,
           45.5,
           "2024-11-02T00:00:00"
          ]
         ],
         "hovertemplate": "state=North Carolina<br>samplesize=%{x}<br>influence=%{y}<br>pollster=%{customdata[0]}<br>harris_pct=%{customdata[1]}<br>trump_pct=%{customdata[2]}<br>enddate=%{customdata[3]}<br>harris_lead_pct=%{marker.color}<extra></extra>",
         "legendgroup": "",
         "marker": {
          "color": [
           -2,
           -0.9000015258789062,
           -1,
           -1.9000015258789062,
           -0.6000022888183594,
           2.5,
           -5,
           -2,
           -1,
           -3,
           1.2000007629394531,
           -3,
           -1.9000015258789062,
           -1.5,
           -2,
           -2,
           -1,
           -2,
           -2,
           0,
           -2,
           -1.5,
           1,
           -3.200000762939453,
           0.2999992370605469,
           -2,
           -3,
           -3.8500022888183594,
           -1,
           -1,
           -1.7999992370605469,
           -3.5,
           -0.40000152587890625,
           -2,
           2.5
          ],
          "coloraxis": "coloraxis",
          "symbol": "circle"
         },
         "mode": "markers",
         "name": "",
         "orientation": "v",
         "showlegend": false,
         "type": "scatter",
         "x": [
          753,
          1000,
          800,
          1085,
          600,
          1031,
          1042,
          620,
          1072,
          965,
          1674,
          843,
          800,
          702,
          950,
          1226,
          679,
          650,
          2308,
          853,
          770,
          872,
          750,
          1091,
          1665,
          1250,
          751,
          1373,
          1123,
          949,
          1056,
          1310,
          860,
          800,
          1010
         ],
         "xaxis": "x6",
         "y": [
          0.06780759990215302,
          0.2993572950363159,
          0.1882224977016449,
          0.2818078100681305,
          0.46367400884628296,
          0.4543963074684143,
          0.2755565047264099,
          0.1540175974369049,
          0.25352030992507935,
          0.34114450216293335,
          0.625620424747467,
          0.21680240333080292,
          0.5022923946380615,
          0.34766489267349243,
          0.7779014706611633,
          0.9248431921005249,
          0.2459196001291275,
          0.716840922832489,
          0.5136501789093018,
          0.9840068221092224,
          0.34798941016197205,
          1.0850110054016113,
          0.6824848055839539,
          0.7013084292411804,
          1.058176040649414,
          0.9812148213386536,
          0.6575608253479004,
          1.1406069993972778,
          0.5377256274223328,
          0.98544842004776,
          0.7622256875038147,
          1.2247320413589478,
          1.193621039390564,
          0.9295423030853271,
          1.5079679489135742
         ],
         "yaxis": "y6"
        },
        {
         "customdata": [
          [
           "OnMessage Inc.",
           46,
           46,
           "2024-10-02T00:00:00"
          ],
          [
           "Redfield & Wilton Strategies",
           48,
           47,
           "2024-10-02T00:00:00"
          ],
          [
           "Hunt Research",
           47,
           47.599998474121094,
           "2024-10-07T00:00:00"
          ],
          [
           "Quinnipiac University",
           49,
           46.5,
           "2024-10-07T00:00:00"
          ],
          [
           "Research Co.",
           50,
           49,
           "2024-10-07T00:00:00"
          ],
          [
           "Emerson College",
           49,
           49.70000076293945,
           "2024-10-08T00:00:00"
          ],
          [
           "InsiderAdvantage",
           47,
           49,
           "2024-10-08T00:00:00"
          ],
          [
           "J.L. Partners",
           47,
           47,
           "2024-10-08T00:00:00"
          ],
          [
           "Fabrizio, Lee & Associates/McLaughlin & Associates",
           48,
           49,
           "2024-10-09T00:00:00"
          ],
          [
           "Redfield & Wilton Strategies",
           46,
           48,
           "2024-10-09T00:00:00"
          ],
          [
           "TIPP Insights",
           47.900001525878906,
           48.95000076293945,
           "2024-10-09T00:00:00"
          ],
          [
           "University of Massachusetts Lowell",
           46,
           45,
           "2024-10-09T00:00:00"
          ],
          [
           "American Pulse",
           48.54999923706055,
           49.75,
           "2024-10-10T00:00:00"
          ],
          [
           "The New York Times/Siena College",
           49.5,
           46,
           "2024-10-10T00:00:00"
          ],
          [
           "Rasmussen Reports",
           47,
           50,
           "2024-10-13T00:00:00"
          ],
          [
           "Redfield & Wilton Strategies",
           48,
           48,
           "2024-10-14T00:00:00"
          ],
          [
           "Morning Consult",
           49,
           48,
           "2024-10-15T00:00:00"
          ],
          [
           "The Washington Post",
           49,
           47,
           "2024-10-15T00:00:00"
          ],
          [
           "AtlasIntel",
           46.95000076293945,
           49.849998474121094,
           "2024-10-17T00:00:00"
          ],
          [
           "Bullfinch",
           49,
           48.5,
           "2024-10-17T00:00:00"
          ],
          [
           "YouGov",
           50,
           48,
           "2024-10-17T00:00:00"
          ],
          [
           "Redfield & Wilton Strategies",
           48,
           48,
           "2024-10-18T00:00:00"
          ],
          [
           "Trafalgar Group",
           43.29999923706055,
           46.29999923706055,
           "2024-10-19T00:00:00"
          ],
          [
           "Franklin & Marshall College",
           49,
           50,
           "2024-10-20T00:00:00"
          ],
          [
           "Morning Consult",
           50,
           48,
           "2024-10-20T00:00:00"
          ],
          [
           "Emerson College",
           49,
           50.70000076293945,
           "2024-10-22T00:00:00"
          ],
          [
           "Redfield & Wilton Strategies",
           48,
           47,
           "2024-10-22T00:00:00"
          ],
          [
           "Susquehanna Polling & Research Inc.",
           46,
           45.79999923706055,
           "2024-10-22T00:00:00"
          ],
          [
           "University of Massachusetts Lowell",
           48,
           47,
           "2024-10-23T00:00:00"
          ],
          [
           "YouGov",
           49,
           48,
           "2024-10-25T00:00:00"
          ],
          [
           "North Star Opinion Research",
           47,
           47,
           "2024-10-26T00:00:00"
          ],
          [
           "InsiderAdvantage",
           47.400001525878906,
           48.400001525878906,
           "2024-10-27T00:00:00"
          ],
          [
           "Redfield & Wilton Strategies",
           48,
           48,
           "2024-10-27T00:00:00"
          ],
          [
           "Beacon Research/Shaw & Co. Research",
           48.5,
           49,
           "2024-10-28T00:00:00"
          ],
          [
           "Quinnipiac University",
           46.5,
           48,
           "2024-10-28T00:00:00"
          ],
          [
           "Rasmussen Reports",
           47,
           49,
           "2024-10-28T00:00:00"
          ],
          [
           "SSRS",
           48,
           48,
           "2024-10-28T00:00:00"
          ],
          [
           "YouGov",
           49,
           49,
           "2024-10-28T00:00:00"
          ],
          [
           "AtlasIntel",
           46.75,
           49.150001525878906,
           "2024-10-29T00:00:00"
          ],
          [
           "Echelon Insights",
           46,
           51.5,
           "2024-10-30T00:00:00"
          ],
          [
           "Marist College",
           50,
           48,
           "2024-10-30T00:00:00"
          ],
          [
           "Muhlenberg College",
           49,
           47,
           "2024-10-30T00:00:00"
          ],
          [
           "Suffolk University",
           48.599998474121094,
           48.599998474121094,
           "2024-10-30T00:00:00"
          ],
          [
           "The Washington Post",
           48,
           47,
           "2024-10-30T00:00:00"
          ],
          [
           "AtlasIntel",
           47.650001525878906,
           48.95000076293945,
           "2024-10-31T00:00:00"
          ],
          [
           "Data for Progress",
           50,
           48,
           "2024-10-31T00:00:00"
          ],
          [
           "Morning Consult",
           48,
           48,
           "2024-10-31T00:00:00"
          ],
          [
           "OnMessage Inc.",
           47,
           49,
           "2024-10-31T00:00:00"
          ],
          [
           "Redfield & Wilton Strategies",
           48,
           48,
           "2024-10-31T00:00:00"
          ],
          [
           "YouGov",
           50,
           47,
           "2024-10-31T00:00:00"
          ],
          [
           "AtlasIntel",
           47.599998474121094,
           49.349998474121094,
           "2024-11-02T00:00:00"
          ],
          [
           "Emerson College",
           49.20000076293945,
           49.900001525878906,
           "2024-11-02T00:00:00"
          ],
          [
           "InsiderAdvantage",
           48,
           49,
           "2024-11-02T00:00:00"
          ],
          [
           "The New York Times/Siena College",
           47.5,
           47.5,
           "2024-11-02T00:00:00"
          ],
          [
           "Research Co.",
           48,
           47,
           "2024-11-03T00:00:00"
          ],
          [
           "Trafalgar Group",
           46.70000076293945,
           48.400001525878906,
           "2024-11-03T00:00:00"
          ]
         ],
         "hovertemplate": "state=Pennsylvania<br>samplesize=%{x}<br>influence=%{y}<br>pollster=%{customdata[0]}<br>harris_pct=%{customdata[1]}<br>trump_pct=%{customdata[2]}<br>enddate=%{customdata[3]}<br>harris_lead_pct=%{marker.color}<extra></extra>",
         "legendgroup": "",
         "marker": {
          "color": [
           0,
           1,
           -0.5999984741210938,
           2.5,
           1,
           -0.7000007629394531,
           -2,
           0,
           -1,
           -2,
           -1.0499992370605469,
           1,
           -1.2000007629394531,
           3.5,
           -3,
           0,
           1,
           2,
           -2.8999977111816406,
           0.5,
           2,
           0,
           -3,
           -1,
           2,
           -1.7000007629394531,
           1,
           0.20000076293945312,
           1,
           1,
           0,
           -1,
           0,
           -0.5,
           -1.5,
           -2,
           0,
           0,
           -2.4000015258789062,
           -5.5,
           2,
           2,
           0,
           1,
           -1.2999992370605469,
           2,
           0,
           -2,
           0,
           3,
           -1.75,
           -0.7000007629394531,
           -1,
           0,
           1,
           -1.7000007629394531
          ],
          "coloraxis": "coloraxis",
          "symbol": "circle"
         },
         "mode": "markers",
         "name": "",
         "orientation": "v",
         "showlegend": false,
         "type": "scatter",
         "x": [
          500,
          5686,
          1037,
          1412,
          450,
          1000,
          800,
          800,
          800,
          707,
          803,
          800,
          1193,
          857,
          1072,
          1649,
          1395,
          707,
          2048,
          600,
          1043,
          1256,
          1084,
          583,
          812,
          860,
          1586,
          500,
          800,
          3685,
          600,
          800,
          1116,
          1057,
          2186,
          849,
          819,
          1273,
          1299,
          600,
          1400,
          460,
          500,
          1204,
          1738,
          908,
          1538,
          800,
          1596,
          956,
          2049,
          1000,
          800,
          1527,
          450,
          1089
         ],
         "xaxis": "x7",
         "y": [
          0.05264269933104515,
          0.12932120263576508,
          0.2320472002029419,
          0.3517076075077057,
          0.2038636952638626,
          0.325576514005661,
          0.24872809648513794,
          0.2611227035522461,
          0.20364630222320557,
          0.09548349678516388,
          0.3749364912509918,
          0.3169133961200714,
          0.2539461851119995,
          0.4557681083679199,
          0.26850658655166626,
          0.1655568927526474,
          0.28054460883140564,
          0.34799450635910034,
          0.6769279837608337,
          0.34060919284820557,
          0.2703430950641632,
          0.19457249343395233,
          0.406816691160202,
          0.4296349883079529,
          0.34814611077308655,
          0.7417107224464417,
          0.2740072011947632,
          0.6074975728988647,
          0.7299975752830505,
          0.4478952884674072,
          0.7067599892616272,
          0.6181570291519165,
          0.3334923982620239,
          1.1376409530639648,
          1.2783750295639038,
          0.6377378702163696,
          0.6841359734535217,
          0.707691490650177,
          0.9202362895011902,
          0.8907127976417542,
          1.3814289569854736,
          0.8659238219261169,
          0.8966343998908997,
          1.3484619855880737,
          1.1879949569702148,
          0.9231917858123779,
          0.7614424228668213,
          0.8275358080863953,
          0.5303217172622681,
          0.7499700784683228,
          1.3816649913787842,
          1.2227940559387207,
          0.7905200123786926,
          1.7102290391921997,
          0.8516576290130615,
          0.8386852145195007
         ],
         "yaxis": "y7"
        },
        {
         "customdata": [
          [
           "OnMessage Inc.",
           46,
           47,
           "2024-10-02T00:00:00"
          ],
          [
           "Redfield & Wilton Strategies",
           47,
           46,
           "2024-10-02T00:00:00"
          ],
          [
           "Arc Insights",
           47,
           48,
           "2024-10-06T00:00:00"
          ],
          [
           "Quinnipiac University",
           46.5,
           48.5,
           "2024-10-07T00:00:00"
          ],
          [
           "Research Co.",
           50,
           48,
           "2024-10-07T00:00:00"
          ],
          [
           "Emerson College",
           49.20000076293945,
           49.900001525878906,
           "2024-10-08T00:00:00"
          ],
          [
           "Fabrizio, Lee & Associates/McLaughlin & Associates",
           48,
           49,
           "2024-10-09T00:00:00"
          ],
          [
           "InsiderAdvantage",
           48,
           48,
           "2024-10-09T00:00:00"
          ],
          [
           "Rasmussen Reports",
           47,
           49,
           "2024-10-14T00:00:00"
          ],
          [
           "Redfield & Wilton Strategies",
           48,
           47,
           "2024-10-14T00:00:00"
          ],
          [
           "Morning Consult",
           47,
           48,
           "2024-10-15T00:00:00"
          ],
          [
           "The Washington Post",
           50,
           47,
           "2024-10-15T00:00:00"
          ],
          [
           "RMG Research",
           49,
           50,
           "2024-10-16T00:00:00"
          ],
          [
           "AtlasIntel",
           48.95000076293945,
           48.29999923706055,
           "2024-10-17T00:00:00"
          ],
          [
           "Bullfinch",
           49,
           46.5,
           "2024-10-18T00:00:00"
          ],
          [
           "Redfield & Wilton Strategies",
           47,
           46,
           "2024-10-18T00:00:00"
          ],
          [
           "Morning Consult",
           47.5,
           47.5,
           "2024-10-20T00:00:00"
          ],
          [
           "Trafalgar Group",
           46.599998474121094,
           46.79999923706055,
           "2024-10-20T00:00:00"
          ],
          [
           "Quinnipiac University",
           48,
           48,
           "2024-10-21T00:00:00"
          ],
          [
           "Emerson College",
           49.20000076293945,
           49.900001525878906,
           "2024-10-22T00:00:00"
          ],
          [
           "OnMessage Inc.",
           47,
           48,
           "2024-10-22T00:00:00"
          ],
          [
           "Redfield & Wilton Strategies",
           49,
           47,
           "2024-10-22T00:00:00"
          ],
          [
           "Suffolk University",
           46.599998474121094,
           48,
           "2024-10-23T00:00:00"
          ],
          [
           "Marquette University Law School",
           48,
           46.5,
           "2024-10-24T00:00:00"
          ],
          [
           "YouGov",
           50,
           47,
           "2024-10-25T00:00:00"
          ],
          [
           "InsiderAdvantage",
           48,
           49,
           "2024-10-27T00:00:00"
          ],
          [
           "Redfield & Wilton Strategies",
           49,
           47,
           "2024-10-27T00:00:00"
          ],
          [
           "SSRS",
           51,
           45,
           "2024-10-28T00:00:00"
          ],
          [
           "AtlasIntel",
           48.29999923706055,
           48.849998474121094,
           "2024-10-29T00:00:00"
          ],
          [
           "Rasmussen Reports",
           47,
           50,
           "2024-10-29T00:00:00"
          ],
          [
           "Echelon Insights",
           48.5,
           48.5,
           "2024-10-30T00:00:00"
          ],
          [
           "Marist College",
           50,
           48,
           "2024-10-30T00:00:00"
          ],
          [
           "TIPP Insights",
           48,
           47.5,
           "2024-10-30T00:00:00"
          ],
          [
           "AtlasIntel",
           48.599998474121094,
           48.650001525878906,
           "2024-10-31T00:00:00"
          ],
          [
           "Morning Consult",
           47.599998474121094,
           48.20000076293945,
           "2024-10-31T00:00:00"
          ],
          [
           "OnMessage Inc.",
           47,
           48,
           "2024-10-31T00:00:00"
          ],
          [
           "Redfield & Wilton Strategies",
           48,
           47,
           "2024-10-31T00:00:00"
          ],
          [
           "YouGov",
           50,
           46,
           "2024-10-31T00:00:00"
          ],
          [
           "AtlasIntel",
           48.29999923706055,
           49.45000076293945,
           "2024-11-02T00:00:00"
          ],
          [
           "Emerson College",
           49.5,
           49.79999923706055,
           "2024-11-02T00:00:00"
          ],
          [
           "InsiderAdvantage",
           48,
           49,
           "2024-11-02T00:00:00"
          ],
          [
           "The New York Times/Siena College",
           48.5,
           46,
           "2024-11-02T00:00:00"
          ],
          [
           "Research Co.",
           49,
           46,
           "2024-11-03T00:00:00"
          ],
          [
           "Trafalgar Group",
           48.20000076293945,
           47,
           "2024-11-03T00:00:00"
          ]
         ],
         "hovertemplate": "state=Wisconsin<br>samplesize=%{x}<br>influence=%{y}<br>pollster=%{customdata[0]}<br>harris_pct=%{customdata[1]}<br>trump_pct=%{customdata[2]}<br>enddate=%{customdata[3]}<br>harris_lead_pct=%{marker.color}<extra></extra>",
         "legendgroup": "",
         "marker": {
          "color": [
           -1,
           1,
           -1,
           -2,
           2,
           -0.7000007629394531,
           -1,
           0,
           -2,
           1,
           -1,
           3,
           -1,
           0.6500015258789062,
           2.5,
           1,
           0,
           -0.20000076293945312,
           0,
           -0.7000007629394531,
           -1,
           2,
           -1.4000015258789062,
           1.5,
           3,
           -1,
           2,
           6,
           -0.5499992370605469,
           -3,
           0,
           2,
           0.5,
           -0.0500030517578125,
           -0.6000022888183594,
           -1,
           1,
           4,
           -1.1500015258789062,
           -0.2999992370605469,
           -1,
           2.5,
           3,
           1.2000007629394531
          ],
          "coloraxis": "coloraxis",
          "symbol": "circle"
         },
         "mode": "markers",
         "name": "",
         "orientation": "v",
         "showlegend": false,
         "type": "scatter",
         "x": [
          500,
          533,
          700,
          1073,
          450,
          1000,
          800,
          800,
          1004,
          641,
          527,
          695,
          787,
          932,
          600,
          622,
          624,
          1083,
          1108,
          800,
          600,
          557,
          500,
          753,
          1542,
          800,
          746,
          736,
          1470,
          818,
          600,
          1330,
          831,
          673,
          540,
          800,
          932,
          867,
          728,
          800,
          800,
          1305,
          450,
          1086
         ],
         "xaxis": "x8",
         "y": [
          0.0824035033583641,
          0.0858507975935936,
          0.15700039267539978,
          0.3084729015827179,
          0.2038636952638626,
          0.3521924912929535,
          0.20364630222320557,
          0.25664061307907104,
          0.2846047878265381,
          0.1688143014907837,
          0.22396840155124664,
          0.3526917099952698,
          0.39613351225852966,
          0.5394027829170227,
          0.3771825134754181,
          0.202993705868721,
          0.3651691973209381,
          0.42409488558769226,
          0.7283682227134705,
          0.7306572198867798,
          0.3185442090034485,
          0.23584939539432526,
          0.6865475177764893,
          0.8031538128852844,
          0.4821872115135193,
          0.612515926361084,
          0.3508557081222534,
          0.6679105758666992,
          1.0531669855117798,
          0.6241768002510071,
          0.8907127976417542,
          1.3584660291671753,
          1.104280948638916,
          0.8949288129806519,
          0.5895975232124329,
          0.7107864022254944,
          0.5049986839294434,
          0.9468048810958862,
          1.0057040452957153,
          1.1382850408554077,
          0.7905200123786926,
          1.5132280588150024,
          0.8516576290130615,
          0.8272066712379456
         ],
         "yaxis": "y8"
        }
       ],
       "layout": {
        "annotations": [
         {
          "font": {},
          "showarrow": false,
          "text": "state=Arizona",
          "x": 0.05375,
          "xanchor": "center",
          "xref": "paper",
          "y": 1,
          "yanchor": "bottom",
          "yref": "paper"
         },
         {
          "font": {},
          "showarrow": false,
          "text": "state=Florida",
          "x": 0.18125,
          "xanchor": "center",
          "xref": "paper",
          "y": 1,
          "yanchor": "bottom",
          "yref": "paper"
         },
         {
          "font": {},
          "showarrow": false,
          "text": "state=Georgia",
          "x": 0.30874999999999997,
          "xanchor": "center",
          "xref": "paper",
          "y": 1,
          "yanchor": "bottom",
          "yref": "paper"
         },
         {
          "font": {},
          "showarrow": false,
          "text": "state=Michigan",
          "x": 0.43625,
          "xanchor": "center",
          "xref": "paper",
          "y": 1,
          "yanchor": "bottom",
          "yref": "paper"
         },
         {
          "font": {},
          "showarrow": false,
          "text": "state=Nevada",
          "x": 0.56375,
          "xanchor": "center",
          "xref": "paper",
          "y": 1,
          "yanchor": "bottom",
          "yref": "paper"
         },
         {
          "font": {},
          "showarrow": false,
          "text": "state=North Carolina",
          "x": 0.6912499999999999,
          "xanchor": "center",
          "xref": "paper",
          "y": 1,
          "yanchor": "bottom",
          "yref": "paper"
         },
         {
          "font": {},
          "showarrow": false,
          "text": "state=Pennsylvania",
          "x": 0.8187500000000001,
          "xanchor": "center",
          "xref": "paper",
          "y": 1,
          "yanchor": "bottom",
          "yref": "paper"
         },
         {
          "font": {},
          "showarrow": false,
          "text": "state=Wisconsin",
          "x": 0.94625,
          "xanchor": "center",
          "xref": "paper",
          "y": 1,
          "yanchor": "bottom",
          "yref": "paper"
         }
        ],
        "coloraxis": {
         "colorbar": {
          "title": {
           "text": "harris_lead_pct"
          }
         },
         "colorscale": [
          [
           0,
           "rgb(165,0,38)"
          ],
          [
           0.1,
           "rgb(215,48,39)"
          ],
          [
           0.2,
           "rgb(244,109,67)"
          ],
          [
           0.3,
           "rgb(253,174,97)"
          ],
          [
           0.4,
           "rgb(254,224,139)"
          ],
          [
           0.5,
           "rgb(255,255,191)"
          ],
          [
           0.6,
           "rgb(217,239,139)"
          ],
          [
           0.7,
           "rgb(166,217,106)"
          ],
          [
           0.8,
           "rgb(102,189,99)"
          ],
          [
           0.9,
           "rgb(26,152,80)"
          ],
          [
           1,
           "rgb(0,104,55)"
          ]
         ]
        },
        "legend": {
         "tracegroupgap": 0
        },
        "margin": {
         "t": 60
        },
        "template": {
         "data": {
          "bar": [
           {
            "error_x": {
             "color": "#2a3f5f"
            },
            "error_y": {
             "color": "#2a3f5f"
            },
            "marker": {
             "line": {
              "color": "#E5ECF6",
              "width": 0.5
             },
             "pattern": {
              "fillmode": "overlay",
              "size": 10,
              "solidity": 0.2
             }
            },
            "type": "bar"
           }
          ],
          "barpolar": [
           {
            "marker": {
             "line": {
              "color": "#E5ECF6",
              "width": 0.5
             },
             "pattern": {
              "fillmode": "overlay",
              "size": 10,
              "solidity": 0.2
             }
            },
            "type": "barpolar"
           }
          ],
          "carpet": [
           {
            "aaxis": {
             "endlinecolor": "#2a3f5f",
             "gridcolor": "white",
             "linecolor": "white",
             "minorgridcolor": "white",
             "startlinecolor": "#2a3f5f"
            },
            "baxis": {
             "endlinecolor": "#2a3f5f",
             "gridcolor": "white",
             "linecolor": "white",
             "minorgridcolor": "white",
             "startlinecolor": "#2a3f5f"
            },
            "type": "carpet"
           }
          ],
          "choropleth": [
           {
            "colorbar": {
             "outlinewidth": 0,
             "ticks": ""
            },
            "type": "choropleth"
           }
          ],
          "contour": [
           {
            "colorbar": {
             "outlinewidth": 0,
             "ticks": ""
            },
            "colorscale": [
             [
              0,
              "#0d0887"
             ],
             [
              0.1111111111111111,
              "#46039f"
             ],
             [
              0.2222222222222222,
              "#7201a8"
             ],
             [
              0.3333333333333333,
              "#9c179e"
             ],
             [
              0.4444444444444444,
              "#bd3786"
             ],
             [
              0.5555555555555556,
              "#d8576b"
             ],
             [
              0.6666666666666666,
              "#ed7953"
             ],
             [
              0.7777777777777778,
              "#fb9f3a"
             ],
             [
              0.8888888888888888,
              "#fdca26"
             ],
             [
              1,
              "#f0f921"
             ]
            ],
            "type": "contour"
           }
          ],
          "contourcarpet": [
           {
            "colorbar": {
             "outlinewidth": 0,
             "ticks": ""
            },
            "type": "contourcarpet"
           }
          ],
          "heatmap": [
           {
            "colorbar": {
             "outlinewidth": 0,
             "ticks": ""
            },
            "colorscale": [
             [
              0,
              "#0d0887"
             ],
             [
              0.1111111111111111,
              "#46039f"
             ],
             [
              0.2222222222222222,
              "#7201a8"
             ],
             [
              0.3333333333333333,
              "#9c179e"
             ],
             [
              0.4444444444444444,
              "#bd3786"
             ],
             [
              0.5555555555555556,
              "#d8576b"
             ],
             [
              0.6666666666666666,
              "#ed7953"
             ],
             [
              0.7777777777777778,
              "#fb9f3a"
             ],
             [
              0.8888888888888888,
              "#fdca26"
             ],
             [
              1,
              "#f0f921"
             ]
            ],
            "type": "heatmap"
           }
          ],
          "heatmapgl": [
           {
            "colorbar": {
             "outlinewidth": 0,
             "ticks": ""
            },
            "colorscale": [
             [
              0,
              "#0d0887"
             ],
             [
              0.1111111111111111,
              "#46039f"
             ],
             [
              0.2222222222222222,
              "#7201a8"
             ],
             [
              0.3333333333333333,
              "#9c179e"
             ],
             [
              0.4444444444444444,
              "#bd3786"
             ],
             [
              0.5555555555555556,
              "#d8576b"
             ],
             [
              0.6666666666666666,
              "#ed7953"
             ],
             [
              0.7777777777777778,
              "#fb9f3a"
             ],
             [
              0.8888888888888888,
              "#fdca26"
             ],
             [
              1,
              "#f0f921"
             ]
            ],
            "type": "heatmapgl"
           }
          ],
          "histogram": [
           {
            "marker": {
             "pattern": {
              "fillmode": "overlay",
              "size": 10,
              "solidity": 0.2
             }
            },
            "type": "histogram"
           }
          ],
          "histogram2d": [
           {
            "colorbar": {
             "outlinewidth": 0,
             "ticks": ""
            },
            "colorscale": [
             [
              0,
              "#0d0887"
             ],
             [
              0.1111111111111111,
              "#46039f"
             ],
             [
              0.2222222222222222,
              "#7201a8"
             ],
             [
              0.3333333333333333,
              "#9c179e"
             ],
             [
              0.4444444444444444,
              "#bd3786"
             ],
             [
              0.5555555555555556,
              "#d8576b"
             ],
             [
              0.6666666666666666,
              "#ed7953"
             ],
             [
              0.7777777777777778,
              "#fb9f3a"
             ],
             [
              0.8888888888888888,
              "#fdca26"
             ],
             [
              1,
              "#f0f921"
             ]
            ],
            "type": "histogram2d"
           }
          ],
          "histogram2dcontour": [
           {
            "colorbar": {
             "outlinewidth": 0,
             "ticks": ""
            },
            "colorscale": [
             [
              0,
              "#0d0887"
             ],
             [
              0.1111111111111111,
              "#46039f"
             ],
             [
              0.2222222222222222,
              "#7201a8"
             ],
             [
              0.3333333333333333,
              "#9c179e"
             ],
             [
              0.4444444444444444,
              "#bd3786"
             ],
             [
              0.5555555555555556,
              "#d8576b"
             ],
             [
              0.6666666666666666,
              "#ed7953"
             ],
             [
              0.7777777777777778,
              "#fb9f3a"
             ],
             [
              0.8888888888888888,
              "#fdca26"
             ],
             [
              1,
              "#f0f921"
             ]
            ],
            "type": "histogram2dcontour"
           }
          ],
          "mesh3d": [
           {
            "colorbar": {
             "outlinewidth": 0,
             "ticks": ""
            },
            "type": "mesh3d"
           }
          ],
          "parcoords": [
           {
            "line": {
             "colorbar": {
              "outlinewidth": 0,
              "ticks": ""
             }
            },
            "type": "parcoords"
           }
          ],
          "pie": [
           {
            "automargin": true,
            "type": "pie"
           }
          ],
          "scatter": [
           {
            "fillpattern": {
             "fillmode": "overlay",
             "size": 10,
             "solidity": 0.2
            },
            "type": "scatter"
           }
          ],
          "scatter3d": [
           {
            "line": {
             "colorbar": {
              "outlinewidth": 0,
              "ticks": ""
             }
            },
            "marker": {
             "colorbar": {
              "outlinewidth": 0,
              "ticks": ""
             }
            },
            "type": "scatter3d"
           }
          ],
          "scattercarpet": [
           {
            "marker": {
             "colorbar": {
              "outlinewidth": 0,
              "ticks": ""
             }
            },
            "type": "scattercarpet"
           }
          ],
          "scattergeo": [
           {
            "marker": {
             "colorbar": {
              "outlinewidth": 0,
              "ticks": ""
             }
            },
            "type": "scattergeo"
           }
          ],
          "scattergl": [
           {
            "marker": {
             "colorbar": {
              "outlinewidth": 0,
              "ticks": ""
             }
            },
            "type": "scattergl"
           }
          ],
          "scattermapbox": [
           {
            "marker": {
             "colorbar": {
              "outlinewidth": 0,
              "ticks": ""
             }
            },
            "type": "scattermapbox"
           }
          ],
          "scatterpolar": [
           {
            "marker": {
             "colorbar": {
              "outlinewidth": 0,
              "ticks": ""
             }
            },
            "type": "scatterpolar"
           }
          ],
          "scatterpolargl": [
           {
            "marker": {
             "colorbar": {
              "outlinewidth": 0,
              "ticks": ""
             }
            },
            "type": "scatterpolargl"
           }
          ],
          "scatterternary": [
           {
            "marker": {
             "colorbar": {
              "outlinewidth": 0,
              "ticks": ""
             }
            },
            "type": "scatterternary"
           }
          ],
          "surface": [
           {
            "colorbar": {
             "outlinewidth": 0,
             "ticks": ""
            },
            "colorscale": [
             [
              0,
              "#0d0887"
             ],
             [
              0.1111111111111111,
              "#46039f"
             ],
             [
              0.2222222222222222,
              "#7201a8"
             ],
             [
              0.3333333333333333,
              "#9c179e"
             ],
             [
              0.4444444444444444,
              "#bd3786"
             ],
             [
              0.5555555555555556,
              "#d8576b"
             ],
             [
              0.6666666666666666,
              "#ed7953"
             ],
             [
              0.7777777777777778,
              "#fb9f3a"
             ],
             [
              0.8888888888888888,
              "#fdca26"
             ],
             [
              1,
              "#f0f921"
             ]
            ],
            "type": "surface"
           }
          ],
          "table": [
           {
            "cells": {
             "fill": {
              "color": "#EBF0F8"
             },
             "line": {
              "color": "white"
             }
            },
            "header": {
             "fill": {
              "color": "#C8D4E3"
             },
             "line": {
              "color": "white"
             }
            },
            "type": "table"
           }
          ]
         },
         "layout": {
          "annotationdefaults": {
           "arrowcolor": "#2a3f5f",
           "arrowhead": 0,
           "arrowwidth": 1
          },
          "autotypenumbers": "strict",
          "coloraxis": {
           "colorbar": {
            "outlinewidth": 0,
            "ticks": ""
           }
          },
          "colorscale": {
           "diverging": [
            [
             0,
             "#8e0152"
            ],
            [
             0.1,
             "#c51b7d"
            ],
            [
             0.2,
             "#de77ae"
            ],
            [
             0.3,
             "#f1b6da"
            ],
            [
             0.4,
             "#fde0ef"
            ],
            [
             0.5,
             "#f7f7f7"
            ],
            [
             0.6,
             "#e6f5d0"
            ],
            [
             0.7,
             "#b8e186"
            ],
            [
             0.8,
             "#7fbc41"
            ],
            [
             0.9,
             "#4d9221"
            ],
            [
             1,
             "#276419"
            ]
           ],
           "sequential": [
            [
             0,
             "#0d0887"
            ],
            [
             0.1111111111111111,
             "#46039f"
            ],
            [
             0.2222222222222222,
             "#7201a8"
            ],
            [
             0.3333333333333333,
             "#9c179e"
            ],
            [
             0.4444444444444444,
             "#bd3786"
            ],
            [
             0.5555555555555556,
             "#d8576b"
            ],
            [
             0.6666666666666666,
             "#ed7953"
            ],
            [
             0.7777777777777778,
             "#fb9f3a"
            ],
            [
             0.8888888888888888,
             "#fdca26"
            ],
            [
             1,
             "#f0f921"
            ]
           ],
           "sequentialminus": [
            [
             0,
             "#0d0887"
            ],
            [
             0.1111111111111111,
             "#46039f"
            ],
            [
             0.2222222222222222,
             "#7201a8"
            ],
            [
             0.3333333333333333,
             "#9c179e"
            ],
            [
             0.4444444444444444,
             "#bd3786"
            ],
            [
             0.5555555555555556,
             "#d8576b"
            ],
            [
             0.6666666666666666,
             "#ed7953"
            ],
            [
             0.7777777777777778,
             "#fb9f3a"
            ],
            [
             0.8888888888888888,
             "#fdca26"
            ],
            [
             1,
             "#f0f921"
            ]
           ]
          },
          "colorway": [
           "#636efa",
           "#EF553B",
           "#00cc96",
           "#ab63fa",
           "#FFA15A",
           "#19d3f3",
           "#FF6692",
           "#B6E880",
           "#FF97FF",
           "#FECB52"
          ],
          "font": {
           "color": "#2a3f5f"
          },
          "geo": {
           "bgcolor": "white",
           "lakecolor": "white",
           "landcolor": "#E5ECF6",
           "showlakes": true,
           "showland": true,
           "subunitcolor": "white"
          },
          "hoverlabel": {
           "align": "left"
          },
          "hovermode": "closest",
          "mapbox": {
           "style": "light"
          },
          "paper_bgcolor": "white",
          "plot_bgcolor": "#E5ECF6",
          "polar": {
           "angularaxis": {
            "gridcolor": "white",
            "linecolor": "white",
            "ticks": ""
           },
           "bgcolor": "#E5ECF6",
           "radialaxis": {
            "gridcolor": "white",
            "linecolor": "white",
            "ticks": ""
           }
          },
          "scene": {
           "xaxis": {
            "backgroundcolor": "#E5ECF6",
            "gridcolor": "white",
            "gridwidth": 2,
            "linecolor": "white",
            "showbackground": true,
            "ticks": "",
            "zerolinecolor": "white"
           },
           "yaxis": {
            "backgroundcolor": "#E5ECF6",
            "gridcolor": "white",
            "gridwidth": 2,
            "linecolor": "white",
            "showbackground": true,
            "ticks": "",
            "zerolinecolor": "white"
           },
           "zaxis": {
            "backgroundcolor": "#E5ECF6",
            "gridcolor": "white",
            "gridwidth": 2,
            "linecolor": "white",
            "showbackground": true,
            "ticks": "",
            "zerolinecolor": "white"
           }
          },
          "shapedefaults": {
           "line": {
            "color": "#2a3f5f"
           }
          },
          "ternary": {
           "aaxis": {
            "gridcolor": "white",
            "linecolor": "white",
            "ticks": ""
           },
           "baxis": {
            "gridcolor": "white",
            "linecolor": "white",
            "ticks": ""
           },
           "bgcolor": "#E5ECF6",
           "caxis": {
            "gridcolor": "white",
            "linecolor": "white",
            "ticks": ""
           }
          },
          "title": {
           "x": 0.05
          },
          "xaxis": {
           "automargin": true,
           "gridcolor": "white",
           "linecolor": "white",
           "ticks": "",
           "title": {
            "standoff": 15
           },
           "zerolinecolor": "white",
           "zerolinewidth": 2
          },
          "yaxis": {
           "automargin": true,
           "gridcolor": "white",
           "linecolor": "white",
           "ticks": "",
           "title": {
            "standoff": 15
           },
           "zerolinecolor": "white",
           "zerolinewidth": 2
          }
         }
        },
        "xaxis": {
         "anchor": "y",
         "domain": [
          0,
          0.1075
         ],
         "title": {
          "text": "samplesize"
         }
        },
        "xaxis2": {
         "anchor": "y2",
         "domain": [
          0.1275,
          0.235
         ],
         "matches": "x",
         "title": {
          "text": "samplesize"
         }
        },
        "xaxis3": {
         "anchor": "y3",
         "domain": [
          0.255,
          0.3625
         ],
         "matches": "x",
         "title": {
          "text": "samplesize"
         }
        },
        "xaxis4": {
         "anchor": "y4",
         "domain": [
          0.3825,
          0.49
         ],
         "matches": "x",
         "title": {
          "text": "samplesize"
         }
        },
        "xaxis5": {
         "anchor": "y5",
         "domain": [
          0.51,
          0.6175
         ],
         "matches": "x",
         "title": {
          "text": "samplesize"
         }
        },
        "xaxis6": {
         "anchor": "y6",
         "domain": [
          0.6375,
          0.745
         ],
         "matches": "x",
         "title": {
          "text": "samplesize"
         }
        },
        "xaxis7": {
         "anchor": "y7",
         "domain": [
          0.765,
          0.8725
         ],
         "matches": "x",
         "title": {
          "text": "samplesize"
         }
        },
        "xaxis8": {
         "anchor": "y8",
         "domain": [
          0.8925,
          1
         ],
         "matches": "x",
         "title": {
          "text": "samplesize"
         }
        },
        "yaxis": {
         "anchor": "x",
         "domain": [
          0,
          1
         ],
         "title": {
          "text": "influence"
         }
        },
        "yaxis2": {
         "anchor": "x2",
         "domain": [
          0,
          1
         ],
         "matches": "y",
         "showticklabels": false
        },
        "yaxis3": {
         "anchor": "x3",
         "domain": [
          0,
          1
         ],
         "matches": "y",
         "showticklabels": false
        },
        "yaxis4": {
         "anchor": "x4",
         "domain": [
          0,
          1
         ],
         "matches": "y",
         "showticklabels": false
        },
        "yaxis5": {
         "anchor": "x5",
         "domain": [
          0,
          1
         ],
         "matches": "y",
         "showticklabels": false
        },
        "yaxis6": {
         "anchor": "x6",
         "domain": [
          0,
          1
         ],
         "matches": "y",
         "showticklabels": false
        },
        "yaxis7": {
         "anchor": "x7",
         "domain": [
          0,
          1
         ],
         "matches": "y",
         "showticklabels": false
        },
        "yaxis8": {
         "anchor": "x8",
         "domain": [
          0,
          1
         ],
         "matches": "y",
         "showticklabels": false
        }
       }
      }
     },
     "metadata": {},
     "output_type": "display_data"
    }
   ],
   "source": [
    "px.scatter(\n",
    "    poll_swing.filter(\n",
    "        pl.col(\"samplesize\").is_not_null(),\n",
    "        pl.col(\"enddate\") > datetime.date(2024, 10, 1),\n",
    "    ),\n",
    "    x=\"samplesize\",\n",
    "    y=\"influence\",\n",
    "    # log_x=True,\n",
    "    facet_col=\"state\",\n",
    "    hover_data=[\"pollster\", \"samplesize\", \"harris_pct\", \"trump_pct\", \"enddate\"],\n",
    "    color=\"harris_lead_pct\",\n",
    "    color_continuous_scale=px.colors.diverging.RdYlGn,\n",
    ")"
   ]
  },
  {
   "cell_type": "code",
   "execution_count": null,
   "metadata": {},
   "outputs": [],
   "source": []
  }
 ],
 "metadata": {
  "kernelspec": {
   "display_name": ".venv",
   "language": "python",
   "name": "python3"
  },
  "language_info": {
   "codemirror_mode": {
    "name": "ipython",
    "version": 3
   },
   "file_extension": ".py",
   "mimetype": "text/x-python",
   "name": "python",
   "nbconvert_exporter": "python",
   "pygments_lexer": "ipython3",
   "version": "3.12.5"
  }
 },
 "nbformat": 4,
 "nbformat_minor": 2
}
